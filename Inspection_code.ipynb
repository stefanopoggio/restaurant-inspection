{
 "cells": [
  {
   "cell_type": "code",
   "execution_count": null,
   "metadata": {},
   "outputs": [],
   "source": [
    "import numpy as np\n",
    "import pandas as pd\n",
    "import seaborn as sns\n",
    "import matplotlib.pyplot as plt"
   ]
  },
  {
   "cell_type": "code",
   "execution_count": null,
   "metadata": {},
   "outputs": [],
   "source": [
    "# Load the dataframe\n",
    "df = pd.read_csv('DOHMH_New_York_City_Restaurant_Inspection_Results.csv', delimiter=',')\n",
    "df.head()"
   ]
  },
  {
   "cell_type": "code",
   "execution_count": null,
   "metadata": {},
   "outputs": [],
   "source": [
    "# Find percentage of null values\n",
    "for item in df.columns:\n",
    "    print(item, df[item].isna().sum())"
   ]
  },
  {
   "cell_type": "code",
   "execution_count": null,
   "metadata": {},
   "outputs": [],
   "source": [
    "# Plot the distribution of scores\n",
    "scores = df.loc[:,'SCORE'].dropna()\n",
    "plt.hist(scores, density=True, bins=20)\n",
    "plt.show()"
   ]
  },
  {
   "cell_type": "code",
   "execution_count": null,
   "metadata": {},
   "outputs": [],
   "source": [
    "scores.describe()"
   ]
  },
  {
   "cell_type": "code",
   "execution_count": null,
   "metadata": {},
   "outputs": [],
   "source": [
    "# Look at the violation codes\n",
    "out_file = 'Violations_codes.txt'\n",
    "viol_codes = {}\n",
    "viol_codes_sorted = {}\n",
    "df_violations = df.loc[:,'VIOLATION CODE' :'VIOLATION DESCRIPTION'].dropna()\n",
    "for item in violations['VIOLATION CODE'].unique():\n",
    "    viol_codes[item] = violations.loc[violations['VIOLATION CODE'] == item, 'VIOLATION DESCRIPTION'].iloc[0]\n",
    "\n",
    "for key in sorted(viol_codes.keys()):\n",
    "    viol_codes_sorted[key] = viol_codes[key]\n",
    "# Saved in a file the description of all violations\n",
    "\n",
    "#with open(out_file, 'w') as out:\n",
    "#    [out.write(key + '\\t' + viol_codes_sorted[key] + '\\n') for key in viol_codes_sorted.keys()]"
   ]
  },
  {
   "cell_type": "code",
   "execution_count": null,
   "metadata": {},
   "outputs": [],
   "source": []
  }
 ],
 "metadata": {
  "kernelspec": {
   "display_name": "Python 3",
   "language": "python",
   "name": "python3"
  },
  "language_info": {
   "codemirror_mode": {
    "name": "ipython",
    "version": 3
   },
   "file_extension": ".py",
   "mimetype": "text/x-python",
   "name": "python",
   "nbconvert_exporter": "python",
   "pygments_lexer": "ipython3",
   "version": "3.6.4"
  }
 },
 "nbformat": 4,
 "nbformat_minor": 2
}
