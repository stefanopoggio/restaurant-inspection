{
 "cells": [
  {
   "cell_type": "code",
   "execution_count": 1,
   "metadata": {},
   "outputs": [],
   "source": [
    "import numpy as np\n",
    "import pandas as pd\n",
    "import seaborn as sns\n",
    "import matplotlib.pyplot as plt\n",
    "from sklearn.model_selection import train_test_split\n",
    "from sklearn import tree\n",
    "import graphviz\n",
    "from sklearn.preprocessing import LabelEncoder"
   ]
  },
  {
   "cell_type": "code",
   "execution_count": 2,
   "metadata": {},
   "outputs": [
    {
     "data": {
      "text/html": [
       "<div>\n",
       "<style scoped>\n",
       "    .dataframe tbody tr th:only-of-type {\n",
       "        vertical-align: middle;\n",
       "    }\n",
       "\n",
       "    .dataframe tbody tr th {\n",
       "        vertical-align: top;\n",
       "    }\n",
       "\n",
       "    .dataframe thead th {\n",
       "        text-align: right;\n",
       "    }\n",
       "</style>\n",
       "<table border=\"1\" class=\"dataframe\">\n",
       "  <thead>\n",
       "    <tr style=\"text-align: right;\">\n",
       "      <th></th>\n",
       "      <th>CAMIS</th>\n",
       "      <th>DBA</th>\n",
       "      <th>BORO</th>\n",
       "      <th>BUILDING</th>\n",
       "      <th>STREET</th>\n",
       "      <th>ZIPCODE</th>\n",
       "      <th>PHONE</th>\n",
       "      <th>CUISINE DESCRIPTION</th>\n",
       "      <th>INSPECTION DATE</th>\n",
       "      <th>ACTION</th>\n",
       "      <th>VIOLATION CODE</th>\n",
       "      <th>VIOLATION DESCRIPTION</th>\n",
       "      <th>CRITICAL FLAG</th>\n",
       "      <th>SCORE</th>\n",
       "      <th>GRADE</th>\n",
       "      <th>GRADE DATE</th>\n",
       "      <th>RECORD DATE</th>\n",
       "      <th>INSPECTION TYPE</th>\n",
       "    </tr>\n",
       "  </thead>\n",
       "  <tbody>\n",
       "    <tr>\n",
       "      <th>0</th>\n",
       "      <td>40511702</td>\n",
       "      <td>NOTARO RESTAURANT</td>\n",
       "      <td>MANHATTAN</td>\n",
       "      <td>635</td>\n",
       "      <td>SECOND AVENUE</td>\n",
       "      <td>10016.0</td>\n",
       "      <td>2126863400</td>\n",
       "      <td>Italian</td>\n",
       "      <td>06/15/2015</td>\n",
       "      <td>Violations were cited in the following area(s).</td>\n",
       "      <td>02B</td>\n",
       "      <td>Hot food item not held at or above 140Âº F.</td>\n",
       "      <td>Critical</td>\n",
       "      <td>30.0</td>\n",
       "      <td>NaN</td>\n",
       "      <td>NaN</td>\n",
       "      <td>08/28/2017</td>\n",
       "      <td>Cycle Inspection / Initial Inspection</td>\n",
       "    </tr>\n",
       "  </tbody>\n",
       "</table>\n",
       "</div>"
      ],
      "text/plain": [
       "      CAMIS                DBA       BORO BUILDING         STREET  ZIPCODE  \\\n",
       "0  40511702  NOTARO RESTAURANT  MANHATTAN      635  SECOND AVENUE  10016.0   \n",
       "\n",
       "        PHONE CUISINE DESCRIPTION INSPECTION DATE  \\\n",
       "0  2126863400             Italian      06/15/2015   \n",
       "\n",
       "                                            ACTION VIOLATION CODE  \\\n",
       "0  Violations were cited in the following area(s).            02B   \n",
       "\n",
       "                         VIOLATION DESCRIPTION CRITICAL FLAG  SCORE GRADE  \\\n",
       "0  Hot food item not held at or above 140Âº F.      Critical   30.0   NaN   \n",
       "\n",
       "  GRADE DATE RECORD DATE                        INSPECTION TYPE  \n",
       "0        NaN  08/28/2017  Cycle Inspection / Initial Inspection  "
      ]
     },
     "execution_count": 2,
     "metadata": {},
     "output_type": "execute_result"
    }
   ],
   "source": [
    "# Load the dataframe\n",
    "df = pd.read_csv('DOHMH_New_York_City_Restaurant_Inspection_Results.csv', delimiter=',')\n",
    "df.head(1)"
   ]
  },
  {
   "cell_type": "markdown",
   "metadata": {},
   "source": [
    "Describe the Data"
   ]
  },
  {
   "cell_type": "code",
   "execution_count": 3,
   "metadata": {},
   "outputs": [
    {
     "data": {
      "text/html": [
       "<div>\n",
       "<style scoped>\n",
       "    .dataframe tbody tr th:only-of-type {\n",
       "        vertical-align: middle;\n",
       "    }\n",
       "\n",
       "    .dataframe tbody tr th {\n",
       "        vertical-align: top;\n",
       "    }\n",
       "\n",
       "    .dataframe thead th {\n",
       "        text-align: right;\n",
       "    }\n",
       "</style>\n",
       "<table border=\"1\" class=\"dataframe\">\n",
       "  <thead>\n",
       "    <tr style=\"text-align: right;\">\n",
       "      <th></th>\n",
       "      <th>DBA</th>\n",
       "      <th>BORO</th>\n",
       "      <th>BUILDING</th>\n",
       "      <th>STREET</th>\n",
       "      <th>PHONE</th>\n",
       "      <th>CUISINE DESCRIPTION</th>\n",
       "      <th>INSPECTION DATE</th>\n",
       "      <th>ACTION</th>\n",
       "      <th>VIOLATION CODE</th>\n",
       "      <th>VIOLATION DESCRIPTION</th>\n",
       "      <th>CRITICAL FLAG</th>\n",
       "      <th>GRADE</th>\n",
       "      <th>GRADE DATE</th>\n",
       "      <th>RECORD DATE</th>\n",
       "      <th>INSPECTION TYPE</th>\n",
       "    </tr>\n",
       "  </thead>\n",
       "  <tbody>\n",
       "    <tr>\n",
       "      <th>count</th>\n",
       "      <td>399559</td>\n",
       "      <td>399918</td>\n",
       "      <td>399809</td>\n",
       "      <td>399909</td>\n",
       "      <td>399913</td>\n",
       "      <td>399918</td>\n",
       "      <td>399918</td>\n",
       "      <td>398783</td>\n",
       "      <td>393414</td>\n",
       "      <td>392939</td>\n",
       "      <td>399918</td>\n",
       "      <td>195413</td>\n",
       "      <td>192820</td>\n",
       "      <td>399918</td>\n",
       "      <td>398783</td>\n",
       "    </tr>\n",
       "    <tr>\n",
       "      <th>unique</th>\n",
       "      <td>20936</td>\n",
       "      <td>6</td>\n",
       "      <td>7256</td>\n",
       "      <td>3328</td>\n",
       "      <td>25165</td>\n",
       "      <td>84</td>\n",
       "      <td>1414</td>\n",
       "      <td>5</td>\n",
       "      <td>97</td>\n",
       "      <td>93</td>\n",
       "      <td>3</td>\n",
       "      <td>6</td>\n",
       "      <td>1325</td>\n",
       "      <td>1</td>\n",
       "      <td>34</td>\n",
       "    </tr>\n",
       "    <tr>\n",
       "      <th>top</th>\n",
       "      <td>DUNKIN' DONUTS</td>\n",
       "      <td>MANHATTAN</td>\n",
       "      <td>0</td>\n",
       "      <td>BROADWAY</td>\n",
       "      <td>7186566210</td>\n",
       "      <td>American</td>\n",
       "      <td>01/01/1900</td>\n",
       "      <td>Violations were cited in the following area(s).</td>\n",
       "      <td>10F</td>\n",
       "      <td>Non-food contact surface improperly constructe...</td>\n",
       "      <td>Critical</td>\n",
       "      <td>A</td>\n",
       "      <td>08/24/2016</td>\n",
       "      <td>08/28/2017</td>\n",
       "      <td>Cycle Inspection / Initial Inspection</td>\n",
       "    </tr>\n",
       "    <tr>\n",
       "      <th>freq</th>\n",
       "      <td>4296</td>\n",
       "      <td>159574</td>\n",
       "      <td>2372</td>\n",
       "      <td>14791</td>\n",
       "      <td>240</td>\n",
       "      <td>90968</td>\n",
       "      <td>1135</td>\n",
       "      <td>380632</td>\n",
       "      <td>55785</td>\n",
       "      <td>55785</td>\n",
       "      <td>220082</td>\n",
       "      <td>154194</td>\n",
       "      <td>455</td>\n",
       "      <td>399918</td>\n",
       "      <td>230431</td>\n",
       "    </tr>\n",
       "  </tbody>\n",
       "</table>\n",
       "</div>"
      ],
      "text/plain": [
       "                   DBA       BORO BUILDING    STREET       PHONE  \\\n",
       "count           399559     399918   399809    399909      399913   \n",
       "unique           20936          6     7256      3328       25165   \n",
       "top     DUNKIN' DONUTS  MANHATTAN        0  BROADWAY  7186566210   \n",
       "freq              4296     159574     2372     14791         240   \n",
       "\n",
       "       CUISINE DESCRIPTION INSPECTION DATE  \\\n",
       "count               399918          399918   \n",
       "unique                  84            1414   \n",
       "top               American      01/01/1900   \n",
       "freq                 90968            1135   \n",
       "\n",
       "                                                 ACTION VIOLATION CODE  \\\n",
       "count                                            398783         393414   \n",
       "unique                                                5             97   \n",
       "top     Violations were cited in the following area(s).            10F   \n",
       "freq                                             380632          55785   \n",
       "\n",
       "                                    VIOLATION DESCRIPTION CRITICAL FLAG  \\\n",
       "count                                              392939        399918   \n",
       "unique                                                 93             3   \n",
       "top     Non-food contact surface improperly constructe...      Critical   \n",
       "freq                                                55785        220082   \n",
       "\n",
       "         GRADE  GRADE DATE RECORD DATE                        INSPECTION TYPE  \n",
       "count   195413      192820      399918                                 398783  \n",
       "unique       6        1325           1                                     34  \n",
       "top          A  08/24/2016  08/28/2017  Cycle Inspection / Initial Inspection  \n",
       "freq    154194         455      399918                                 230431  "
      ]
     },
     "execution_count": 3,
     "metadata": {},
     "output_type": "execute_result"
    }
   ],
   "source": [
    "df.describe(include=[np.object])\n"
   ]
  },
  {
   "cell_type": "markdown",
   "metadata": {},
   "source": [
    "Plotted the grades divided by boros"
   ]
  },
  {
   "cell_type": "code",
   "execution_count": 4,
   "metadata": {},
   "outputs": [
    {
     "data": {
      "image/png": "[encoded data removed]",
      "text/plain": [
       "<Figure size 432x288 with 1 Axes>"
      ]
     },
     "metadata": {},
     "output_type": "display_data"
    }
   ],
   "source": [
    "grades = df[df['GRADE'].isin(['A','B', 'C'])]\n",
    "#grades['GRADE'].value_counts()\n",
    "ax = sns.countplot(x='GRADE', hue='BORO', data=grades, order=grades['GRADE'].value_counts().index, hue_order=grades['BORO'].value_counts().index)"
   ]
  },
  {
   "cell_type": "markdown",
   "metadata": {},
   "source": [
    "Plotted the average scores by boro"
   ]
  },
  {
   "cell_type": "code",
   "execution_count": 5,
   "metadata": {},
   "outputs": [
    {
     "data": {
      "image/png": "[encoded data removed]",
      "text/plain": [
       "<Figure size 432x288 with 1 Axes>"
      ]
     },
     "metadata": {},
     "output_type": "display_data"
    }
   ],
   "source": [
    "df['SCORE'].dropna()\n",
    "boros = df[df['BORO'] != 'Missing']\n",
    "ax = sns.boxplot(x='BORO', y='SCORE', data=boros)\n"
   ]
  },
  {
   "cell_type": "markdown",
   "metadata": {},
   "source": [
    "Look at the violations by season"
   ]
  },
  {
   "cell_type": "markdown",
   "metadata": {},
   "source": [
    "Change the date fromat\n",
    "Some dates are recorded wrongly, the inspections start on Jan 1, 2010.\n",
    "All dates with a date earlier than Jan 1, 2010 have been dropped since there is no date that could be used to replace it."
   ]
  },
  {
   "cell_type": "code",
   "execution_count": null,
   "metadata": {},
   "outputs": [],
   "source": [
    "df['INSPECTION DATE'] = pd.to_datetime(df['INSPECTION DATE'])\n",
    "df[df['INSPECTION DATE'] > '2009-12-31']\n",
    "df['MONTH']=pd.DatetimeIndex(df['INSPECTION DATE']).month\n",
    "season_dict = {}\n",
    "for month in range(1,13):\n",
    "    if month > 2 and month < 6:\n",
    "        season_dict[month] = 'Spring'\n",
    "    elif month > 2 and month < 9:\n",
    "        season_dict[month] = 'Summer'\n",
    "    elif month > 2 and month < 12:\n",
    "        season_dict[month] = 'Fall'\n",
    "    else:\n",
    "        season_dict[month] = 'Winter'\n",
    "\n",
    "df['SEASON'] = df['MONTH'].map(season_dict)"
   ]
  },
  {
   "cell_type": "code",
   "execution_count": 34,
   "metadata": {},
   "outputs": [
    {
     "data": {
      "image/png": "[encoded data removed]",
      "text/plain": [
       "<Figure size 432x288 with 1 Axes>"
      ]
     },
     "metadata": {},
     "output_type": "display_data"
    }
   ],
   "source": [
    "ax = sns.boxplot(x='SEASON', y='SCORE', data=df )"
   ]
  },
  {
   "cell_type": "code",
   "execution_count": 38,
   "metadata": {},
   "outputs": [
    {
     "data": {
      "image/png": "[encoded data removed]",
      "text/plain": [
       "<Figure size 432x288 with 1 Axes>"
      ]
     },
     "metadata": {},
     "output_type": "display_data"
    }
   ],
   "source": [
    "grades_by_seas = df[df['GRADE'].isin(['A','B', 'C'])]\n",
    "ax = sns.countplot(x='GRADE', hue='SEASON', data=grades_by_seas, order=grades_by_seas['GRADE'].value_counts().index)"
   ]
  },
  {
   "cell_type": "code",
   "execution_count": null,
   "metadata": {},
   "outputs": [],
   "source": []
  }
 ],
 "metadata": {
  "kernelspec": {
   "display_name": "Python 3",
   "language": "python",
   "name": "python3"
  },
  "language_info": {
   "codemirror_mode": {
    "name": "ipython",
    "version": 3
   },
   "file_extension": ".py",
   "mimetype": "text/x-python",
   "name": "python",
   "nbconvert_exporter": "python",
   "pygments_lexer": "ipython3",
   "version": "3.6.4"
  }
 },
 "nbformat": 4,
 "nbformat_minor": 2
}
