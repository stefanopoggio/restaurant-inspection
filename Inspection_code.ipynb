{
 "cells": [
  {
   "cell_type": "code",
   "execution_count": 1,
   "metadata": {},
   "outputs": [],
   "source": [
    "import numpy as np\n",
    "import pandas as pd\n",
    "import seaborn as sns\n",
    "import matplotlib.pyplot as plt"
   ]
  },
  {
   "cell_type": "code",
   "execution_count": null,
   "metadata": {},
   "outputs": [],
   "source": [
    "# Load the dataframe\n",
    "df = pd.read_csv('DOHMH_New_York_City_Restaurant_Inspection_Results.csv', delimiter=',')\n",
    "df.head()"
   ]
  },
  {
   "cell_type": "code",
   "execution_count": null,
   "metadata": {},
   "outputs": [],
   "source": [
    "# Find percentage of null values\n",
    "for item in df.columns:\n",
    "    print(item, df[item].isna().sum())"
   ]
  },
  {
   "cell_type": "code",
   "execution_count": 22,
   "metadata": {},
   "outputs": [
    {
     "name": "stdout",
     "output_type": "stream",
     "text": [
      "['02A', 'Food not cooked to required minimum temperature.', 'Food Temperature\\n']\n",
      "['02B', 'Hot food item not held at or above 140√Ç¬∫ F.', 'Food Temperature\\n']\n",
      "['02C', 'Hot food item that has been cooked and refrigerated is being held for service without first being reheated to 1 65√Ç¬∫ F or above within 2 hours.', 'Food Temperature\\n']\n",
      "['02D', 'Precooked potentially hazardous food from commercial food processing establishment that is supposed to be heated, but is not heated to 140√Ç¬∫ F within 2 hours.', 'Food Temperature\\n']\n",
      "['02E', 'Whole frozen poultry or poultry breasts, other than a single portion, is being cooked frozen or partially thawed.', 'Food Temperature\\n']\n",
      "['02F', 'Meat, fish or molluscan shellfish served raw or undercooked without prior notification to customer.', 'Allergies/Safety\\n']\n",
      "['02G', 'Cold food item held above 41√Ç¬∫ F (smoked fish and reduced oxygen packaged foods above 38 √Ç¬∫F) except during necessary preparation.', 'Food Temperature\\n']\n",
      "['02H', 'Food not cooled by an approved method whereby the internal product temperature is reduced from 140√Ç¬∫ F to 70√Ç¬∫ F or less within 2 hours, and from 70√Ç¬∫ F to 41√Ç¬∫ F or less within 4 additional hours.', 'Food Temperature\\n']\n",
      "['02I', 'Food prepared from ingredients at ambient temperature not cooled to 41√Ç¬∫ F or below within 4 hours.', 'Food Temperature\\n']\n",
      "['02J', 'Reduced oxygen packaged (ROP) foods not cooled by an approved method whereby the internal food temperature is reduced to 38√Ç¬∫ F within two hours of cooking and if necessary further cooled to a temperature of 34√Ç¬∫ F within six hours of reaching 38√Ç¬∫ F.', 'Food Temperature\\n']\n",
      "['03A', '\"Food from unapproved or unknown source or home canned. Reduced oxygen packaged (ROP) fish not frozen before processing', ' or ROP foods prepared on premises transported to another site.\"', 'Certification\\n']\n",
      "['03B', '\"Shellfish not from approved source, improperly tagged/labeled', ' tags not retained for 90 days.\"', 'Certification\\n']\n",
      "['03C', '\"Eggs found dirty/cracked', ' liquid, frozen or powdered eggs not pasteurized.\"', 'Food Contamination\\n']\n",
      "['03D', 'Canned food product observed swollen, leaking or rusted, and not segregated from other consumable food items .', 'Food Contamination\\n']\n",
      "['03E', 'Potable water supply inadequate. Water or ice not potable or from unapproved source.  Cross connection in potable water supply system observed.', 'Certification\\n']\n",
      "['03F', 'Unpasteurized milk or milk product present.', 'Allergies/Safety\\n']\n",
      "['03G', 'Raw food not properly washed prior to serving.', 'Food Contamination\\n']\n",
      "['04A', 'Food Protection Certificate not held by supervisor of food operations.', 'Certification\\n']\n",
      "['04B', 'Food worker prepares food or handles utensil when ill with a disease transmissible by food, or have exposed infected cut or burn on hand.', 'Worker Cleanliness\\n']\n",
      "['04C', 'Food worker does not use proper utensil to eliminate bare hand contact with food that will not receive adequate additional heat treatment.', 'Worker Cleanliness\\n']\n",
      "['04D', 'Food worker does not wash hands thoroughly after using the toilet, coughing, sneezing, smoking, eating, preparing raw foods or otherwise contaminating hands.', 'Worker Cleanliness\\n']\n",
      "['04E', 'Toxic chemical improperly labeled, stored or used such that food contamination may occur.', 'Hazardous Chemicals\\n']\n",
      "['04F', 'Food, food preparation area, food storage area, area used by employees or patrons, contaminated by sewage or liquid waste.', 'Facility Cleanliness\\n']\n",
      "['04G', 'Unprotected potentially hazardous food re-served.', 'Hazardous Chemicals\\n']\n",
      "['04H', 'Raw, cooked or prepared food is adulterated, contaminated, cross-contaminated, or not discarded in accordance with HACCP plan.', 'Food Contamination\\n']\n",
      "['04I', 'Unprotected food re-served.', 'Food Contamination\\n']\n",
      "['04J', 'Appropriately scaled metal stem-type thermometer or thermocouple not provided or used to evaluate temperatures of potentially hazardous foods during cooking, cooling, reheating and holding.', 'Allergies/Safety\\n']\n",
      "['04K', \"Evidence of rats or live rats present in facility's food and/or non-food areas.\", 'Animals\\n']\n",
      "['04L', \"Evidence of mice or live mice present in facility's food and/or non-food areas.\", 'Animals\\n']\n",
      "['04M', \"Live roaches present in facility's food and/or non-food areas.\", 'Animals\\n']\n",
      "['04N', 'Filth flies or food/refuse/sewage-associated (FRSA) flies present in facility\\x1as food and/or non-food areas. Filth flies include house flies, little house flies, blow flies, bottle flies and flesh flies. Food/refuse/sewage-associated flies include fruit flies, drain flies and Phorid flies.', 'Animals\\n']\n",
      "['04O', \"Live animals other than fish in tank or service animal present in facility's food and/or non-food areas.\", 'Animals\\n']\n",
      "['05A', 'Sewage disposal system improper or unapproved.', 'Facility Cleanliness\\n']\n",
      "['05B', 'Harmful, noxious gas or vapor detected. CO ~1 3 ppm.', 'Hazardous Chemicals\\n']\n",
      "['05C', 'Food contact surface improperly constructed or located. Unacceptable material used.', 'Other\\n']\n",
      "['05D', 'Hand washing facility not provided in or near food preparation area and toilet room. Hot and cold running water at adequate pressure to enable cleanliness of employees not provided at facility. Soap and an acceptable hand-drying device not provided.', 'Facility Amenities\\n']\n",
      "['05E', 'Toilet facility not provided for employees or for patrons when required.', 'Facility Amenities\\n']\n",
      "['05F', 'Insufficient or no refrigerated or hot holding equipment to keep potentially hazardous foods at required temperatures.', 'Other\\n']\n",
      "['05H', 'No facilities available to wash, rinse and sanitize utensils and/or equipment.', 'Facility Amenities\\n']\n",
      "['05I', 'Refrigeration used to implement HACCP plan not equipped with an electronic system that continuously monitors time and temperature.', 'Allergies/Safety\\n']\n",
      "['06A', 'Personal cleanliness inadequate. Outer garment soiled with possible contaminant.  Effective hair restraint not worn in an area where food is prepared.', 'Worker Cleanliness\\n']\n",
      "['06B', 'Tobacco use, eating, or drinking from open container in food preparation, food storage or dishwashing area observed.', 'Tobacco\\n']\n",
      "['06C', 'Food not protected from potential source of contamination during storage, preparation, transportation, display or service.', 'Food Contamination\\n']\n",
      "['06D', 'Food contact surface not properly washed, rinsed and sanitized after each use and following any activity when contamination may have occurred.', 'Food Contamination\\n']\n",
      "['06E', 'Sanitized equipment or utensil, including in-use food dispensing utensil, improperly used or stored.', 'Other\\n']\n",
      "['06F', 'Wiping cloths soiled or not stored in sanitizing solution.', 'Other\\n']\n",
      "['06G', 'HACCP plan not approved or approved HACCP plan not maintained on premises.', 'Documentation\\n']\n",
      "['06H', 'Records and logs not maintained to demonstrate that HACCP plan has been properly implemented.', 'Documentation\\n']\n",
      "['06I', 'Food not labeled in accordance with HACCP plan.', 'Documentation\\n']\n",
      "['07A', 'Duties of an officer of the Department interfered with or obstructed.', 'Other\\n']\n",
      "['08A', 'Facility not vermin proof. Harborage or conditions conducive to attracting vermin to the premises and/or allowing vermin to exist.', 'Other\\n']\n",
      "['08B', '\"Covered garbage receptacle not provided or inadequate, except that garbage receptacle may be uncovered during active use. Garbage storage area not properly constructed or maintained', ' grinder or compactor dirty.\"', 'Facility Cleanliness\\n']\n",
      "['08C', 'Pesticide use not in accordance with label or applicable laws. Prohibited chemical used/stored. Open bait station used.', 'Hazardous Chemicals\\n']\n",
      "['09A', 'Canned food product observed dented and not segregated from other consumable food items.', 'Food Contamination\\n']\n",
      "['09B', 'Thawing procedures improper.', 'Other\\n']\n",
      "['09C', 'Food contact surface not properly maintained.', 'Other\\n']\n",
      "['10A', 'Toilet facility not maintained and provided with toilet paper, waste receptacle and self-closing door.', 'Facility Amenities\\n']\n",
      "['10B', '\"Plumbing not properly installed or maintained', ' anti-siphonage or backflow prevention device not provided where required', ' equipment or floor not properly drained', ' sewage disposal system in disrepair or not functioning properly.\"', 'Facility Amenities\\n']\n",
      "['10C', '\"Lighting inadequate', ' permanent lighting not provided in food preparation areas, ware washing areas, and storage rooms.\"', 'Facility Amenities\\n']\n",
      "['10D', 'Mechanical or natural ventilation system not provided, improperly installed, in disrepair and/or fails to prevent excessive build-up of grease, heat, steam condensation vapors, odors, smoke, and fumes.', 'Facility Amenities\\n']\n",
      "['10E', 'Accurate thermometer not provided in refrigerated or hot holding equipment.', 'Facility Amenities\\n']\n",
      "['10F', 'Non-food contact surface improperly constructed. Unacceptable material used. Non-food contact surface or equipment improperly maintained and/or not properly sealed, raised, spaced or movable to allow accessibility for cleaning on all sides, above and underneath the unit.', 'Other\\n']\n",
      "['10G', 'Food service operation occurring in room used as living or sleeping quarters.', 'Other\\n']\n",
      "['10H', 'Proper sanitization not provided for utensil ware washing operation.', 'Facility Cleanliness\\n']\n",
      "['10I', '\"Single service item reused, improperly stored, dispensed', ' not used when required.\"', 'Other\\n']\n",
      "['10J', \"''''Wash hands\\x1a sign not posted at hand wash facility.\", 'Other\\n']\n",
      "['15E', '\"Single service item reused, improperly stored, dispensed', ' not used when required.\"', 'Other\\n']\n",
      "['15H', 'Sign prohibiting sale of tobacco products to minors not conspicuously posted.', 'Tobacco\\n']\n",
      "['15I', \"''''No Smoking\\x1a and/or 'Smoking Permitted\\x1a sign not conspicuously posted. Health warning not present on 'Smoking Permitted\", 'Tobacco\\n']\n",
      "['15J', 'Ashtray present in smoke-free area.', 'Tobacco\\n']\n",
      "['15K', 'Operator failed to make good faith effort to inform smokers of the Smoke-free Act prohibition of smoking.', 'Tobacco\\n']\n",
      "['15L', 'Smoke free workplace smoking policy inadequate, not posted, not provided to employees.', 'Tobacco\\n']\n",
      "['15S', 'Flavored tobacco products sold or offered for sale.', 'Tobacco\\n']\n",
      "['15T', 'Original label for tobacco products sold or offered for sale.', 'Tobacco\\n']\n",
      "['16A', 'A food containing artificial trans fat, with 0.5 grams or more of trans fat per serving, is being stored, distributed, held for service, used in preparation of a menu item, or served.', 'Other\\n']\n",
      "['16B', 'The original nutritional fact labels and/or ingredient label for a cooking oil, shortening or margarine or food item sold in bulk, or acceptable manufacturer\\x1as documentation not maintained on site.', 'Documentation\\n']\n",
      "['16C', 'Caloric content not posted on menus, menu boards or food tags, in a food service establishment that is 1 of 15 or more outlets operating the same type of business nationally under common ownership or control, or as a franchise or doing business under the same name, for each menu item that is served in portions, the size and content of which are standardized.', 'Other\\n']\n",
      "['16D', 'Posted caloric content on the menu(s), menu board(s), food tag(s) or stanchions adjacent to menu boards for drive-through windows deficient, in that the size and/or font for posted calories is not as prominent as the name of the menu item or its price.', 'Other\\n']\n",
      "['16E', 'Caloric content range (minimum to maximum) not posted on menus and or menu boards for each flavor, variety and size of each menu item that is offered for sale in different flavors, varieties and sizes.', 'Other\\n']\n",
      "['16F', 'Specific caloric content or range thereof not posted on menus, menu boards or food tags for each menu item offered as a combination meal with multiple options that are listed as single items.', 'Other\\n']\n",
      "['18B', 'Document issued by the Board of Health, Commissioner or Department unlawfully reproduced or altered.', 'Documentation\\n']\n",
      "['18C', 'Notice of the Department of Board of Health mutilated, obstructed, or removed.', 'Certification\\n']\n",
      "['18D', 'Failure to comply with an Order of the Board of Health, Commissioner, or Department.', 'Certification\\n']\n",
      "['18F', 'Permit not conspicuously displayed.', 'Certification\\n']\n",
      "['20A', 'Food allergy information poster not conspicuously posted where food is being prepared or processed by food workers.', 'Allergies/Safety\\n']\n",
      "['20B', 'Food allergy information poster not posted in language understood by all food workers.', 'Allergies/Safety\\n']\n",
      "['20D', 'Choking first aid\\x1a poster not posted. \\x1aAlcohol and pregnancy\\x1a warning sign not posted. Resuscitation equipment: exhaled air resuscitation masks (adult & pediatric), latex gloves, sign not posted. Inspection report sign not posted.', 'Allergies/Safety\\n']\n",
      "['20E', 'Letter Grade or Grade Pending card not conspicuously posted and visible to passersby.', 'Other\\n']\n",
      "['20F', 'Current letter grade card not posted.', 'Other\\n']\n",
      "['22A', 'Nuisance created or allowed to exist. Facility not free from unsafe, hazardous, offensive or annoying conditions.', 'Facility Amenities\\n']\n",
      "['22B', 'Toilet facility used by women does not have at least one covered garbage receptacle.', 'Facility Amenities\\n']\n",
      "['22C', 'Bulb not shielded or shatterproof, in areas where there is extreme heat, temperature changes, or where accidental contact may occur.', 'Facility Amenities\\n']\n",
      "['22E', 'ROP processing equipment not approved by DOHMH.', 'Certification']\n"
     ]
    }
   ],
   "source": [
    "# Group the vilation code into macro categories\n",
    "viol_file = 'Violations_explanation.csv'\n",
    "viol_dict = {}\n",
    "with open(viol_file,'r') as viol:\n",
    "    viol.readline()\n",
    "    for line in viol.readlines():\n",
    "        line.strip('\\n')\n",
    "        line = line.split(';')\n",
    "        print(line)"
   ]
  },
  {
   "cell_type": "code",
   "execution_count": null,
   "metadata": {},
   "outputs": [],
   "source": [
    "# Plot the distribution of scores\n",
    "scores = df.loc[:,'SCORE'].dropna()\n",
    "plt.hist(scores, density=True, bins=20)\n",
    "plt.show()"
   ]
  },
  {
   "cell_type": "code",
   "execution_count": null,
   "metadata": {},
   "outputs": [],
   "source": [
    "scores.describe()"
   ]
  },
  {
   "cell_type": "code",
   "execution_count": null,
   "metadata": {},
   "outputs": [],
   "source": [
    "# Look at the violation codes\n",
    "out_file = 'Violations_codes.txt'\n",
    "viol_codes = {}\n",
    "viol_codes_sorted = {}\n",
    "df_violations = df.loc[:,'VIOLATION CODE' :'VIOLATION DESCRIPTION'].dropna()\n",
    "for item in violations['VIOLATION CODE'].unique():\n",
    "    viol_codes[item] = violations.loc[violations['VIOLATION CODE'] == item, 'VIOLATION DESCRIPTION'].iloc[0]\n",
    "\n",
    "for key in sorted(viol_codes.keys()):\n",
    "    viol_codes_sorted[key] = viol_codes[key]\n",
    "# Saved in a file the description of all violations\n",
    "\n",
    "#with open(out_file, 'w') as out:\n",
    "#    [out.write(key + '\\t' + viol_codes_sorted[key] + '\\n') for key in viol_codes_sorted.keys()]"
   ]
  },
  {
   "cell_type": "code",
   "execution_count": null,
   "metadata": {},
   "outputs": [],
   "source": []
  }
 ],
 "metadata": {
  "kernelspec": {
   "display_name": "Python 3",
   "language": "python",
   "name": "python3"
  },
  "language_info": {
   "codemirror_mode": {
    "name": "ipython",
    "version": 3
   },
   "file_extension": ".py",
   "mimetype": "text/x-python",
   "name": "python",
   "nbconvert_exporter": "python",
   "pygments_lexer": "ipython3",
   "version": "3.6.4"
  }
 },
 "nbformat": 4,
 "nbformat_minor": 2
}
