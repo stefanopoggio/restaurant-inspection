{
 "cells": [
  {
   "cell_type": "code",
   "execution_count": 1,
   "metadata": {},
   "outputs": [
    {
     "data": {
      "text/html": [
       "<div>\n",
       "<style scoped>\n",
       "    .dataframe tbody tr th:only-of-type {\n",
       "        vertical-align: middle;\n",
       "    }\n",
       "\n",
       "    .dataframe tbody tr th {\n",
       "        vertical-align: top;\n",
       "    }\n",
       "\n",
       "    .dataframe thead th {\n",
       "        text-align: right;\n",
       "    }\n",
       "</style>\n",
       "<table border=\"1\" class=\"dataframe\">\n",
       "  <thead>\n",
       "    <tr style=\"text-align: right;\">\n",
       "      <th></th>\n",
       "      <th>CAMIS</th>\n",
       "      <th>DBA</th>\n",
       "      <th>BORO</th>\n",
       "      <th>BUILDING</th>\n",
       "      <th>STREET</th>\n",
       "      <th>ZIPCODE</th>\n",
       "      <th>PHONE</th>\n",
       "      <th>CUISINE DESCRIPTION</th>\n",
       "      <th>INSPECTION DATE</th>\n",
       "      <th>ACTION</th>\n",
       "      <th>VIOLATION CODE</th>\n",
       "      <th>VIOLATION DESCRIPTION</th>\n",
       "      <th>CRITICAL FLAG</th>\n",
       "      <th>SCORE</th>\n",
       "      <th>GRADE</th>\n",
       "      <th>GRADE DATE</th>\n",
       "      <th>RECORD DATE</th>\n",
       "      <th>INSPECTION TYPE</th>\n",
       "    </tr>\n",
       "  </thead>\n",
       "  <tbody>\n",
       "    <tr>\n",
       "      <th>0</th>\n",
       "      <td>40511702</td>\n",
       "      <td>NOTARO RESTAURANT</td>\n",
       "      <td>MANHATTAN</td>\n",
       "      <td>635</td>\n",
       "      <td>SECOND AVENUE</td>\n",
       "      <td>10016.0</td>\n",
       "      <td>2126863400</td>\n",
       "      <td>Italian</td>\n",
       "      <td>06/15/2015</td>\n",
       "      <td>Violations were cited in the following area(s).</td>\n",
       "      <td>02B</td>\n",
       "      <td>Hot food item not held at or above 140Âº F.</td>\n",
       "      <td>Critical</td>\n",
       "      <td>30.0</td>\n",
       "      <td>NaN</td>\n",
       "      <td>NaN</td>\n",
       "      <td>08/28/2017</td>\n",
       "      <td>Cycle Inspection / Initial Inspection</td>\n",
       "    </tr>\n",
       "    <tr>\n",
       "      <th>1</th>\n",
       "      <td>40511702</td>\n",
       "      <td>NOTARO RESTAURANT</td>\n",
       "      <td>MANHATTAN</td>\n",
       "      <td>635</td>\n",
       "      <td>SECOND AVENUE</td>\n",
       "      <td>10016.0</td>\n",
       "      <td>2126863400</td>\n",
       "      <td>Italian</td>\n",
       "      <td>11/25/2014</td>\n",
       "      <td>Violations were cited in the following area(s).</td>\n",
       "      <td>20F</td>\n",
       "      <td>Current letter grade card not posted.</td>\n",
       "      <td>Not Critical</td>\n",
       "      <td>NaN</td>\n",
       "      <td>NaN</td>\n",
       "      <td>NaN</td>\n",
       "      <td>08/28/2017</td>\n",
       "      <td>Administrative Miscellaneous / Initial Inspection</td>\n",
       "    </tr>\n",
       "    <tr>\n",
       "      <th>2</th>\n",
       "      <td>50046354</td>\n",
       "      <td>VITE BAR</td>\n",
       "      <td>QUEENS</td>\n",
       "      <td>2507</td>\n",
       "      <td>BROADWAY</td>\n",
       "      <td>11106.0</td>\n",
       "      <td>3478134702</td>\n",
       "      <td>Italian</td>\n",
       "      <td>10/03/2016</td>\n",
       "      <td>Violations were cited in the following area(s).</td>\n",
       "      <td>10F</td>\n",
       "      <td>Non-food contact surface improperly constructe...</td>\n",
       "      <td>Not Critical</td>\n",
       "      <td>2.0</td>\n",
       "      <td>NaN</td>\n",
       "      <td>NaN</td>\n",
       "      <td>08/28/2017</td>\n",
       "      <td>Pre-permit (Operational) / Initial Inspection</td>\n",
       "    </tr>\n",
       "    <tr>\n",
       "      <th>3</th>\n",
       "      <td>50061389</td>\n",
       "      <td>TACK'S CHINESE TAKE OUT</td>\n",
       "      <td>STATEN ISLAND</td>\n",
       "      <td>11C</td>\n",
       "      <td>HOLDEN BLVD</td>\n",
       "      <td>10314.0</td>\n",
       "      <td>7189839854</td>\n",
       "      <td>Chinese</td>\n",
       "      <td>05/17/2017</td>\n",
       "      <td>Violations were cited in the following area(s).</td>\n",
       "      <td>02G</td>\n",
       "      <td>Cold food item held above 41Âº F (smoked fish ...</td>\n",
       "      <td>Critical</td>\n",
       "      <td>46.0</td>\n",
       "      <td>NaN</td>\n",
       "      <td>NaN</td>\n",
       "      <td>08/28/2017</td>\n",
       "      <td>Pre-permit (Operational) / Initial Inspection</td>\n",
       "    </tr>\n",
       "    <tr>\n",
       "      <th>4</th>\n",
       "      <td>41516263</td>\n",
       "      <td>NO QUARTER</td>\n",
       "      <td>BROOKLYN</td>\n",
       "      <td>8015</td>\n",
       "      <td>5 AVENUE</td>\n",
       "      <td>11209.0</td>\n",
       "      <td>7187019180</td>\n",
       "      <td>American</td>\n",
       "      <td>03/30/2017</td>\n",
       "      <td>Violations were cited in the following area(s).</td>\n",
       "      <td>04M</td>\n",
       "      <td>Live roaches present in facility's food and/or...</td>\n",
       "      <td>Critical</td>\n",
       "      <td>18.0</td>\n",
       "      <td>NaN</td>\n",
       "      <td>NaN</td>\n",
       "      <td>08/28/2017</td>\n",
       "      <td>Cycle Inspection / Initial Inspection</td>\n",
       "    </tr>\n",
       "  </tbody>\n",
       "</table>\n",
       "</div>"
      ],
      "text/plain": [
       "      CAMIS                      DBA           BORO BUILDING         STREET  \\\n",
       "0  40511702        NOTARO RESTAURANT      MANHATTAN      635  SECOND AVENUE   \n",
       "1  40511702        NOTARO RESTAURANT      MANHATTAN      635  SECOND AVENUE   \n",
       "2  50046354                 VITE BAR         QUEENS     2507       BROADWAY   \n",
       "3  50061389  TACK'S CHINESE TAKE OUT  STATEN ISLAND      11C    HOLDEN BLVD   \n",
       "4  41516263               NO QUARTER       BROOKLYN     8015       5 AVENUE   \n",
       "\n",
       "   ZIPCODE       PHONE CUISINE DESCRIPTION INSPECTION DATE  \\\n",
       "0  10016.0  2126863400             Italian      06/15/2015   \n",
       "1  10016.0  2126863400             Italian      11/25/2014   \n",
       "2  11106.0  3478134702             Italian      10/03/2016   \n",
       "3  10314.0  7189839854             Chinese      05/17/2017   \n",
       "4  11209.0  7187019180            American      03/30/2017   \n",
       "\n",
       "                                            ACTION VIOLATION CODE  \\\n",
       "0  Violations were cited in the following area(s).            02B   \n",
       "1  Violations were cited in the following area(s).            20F   \n",
       "2  Violations were cited in the following area(s).            10F   \n",
       "3  Violations were cited in the following area(s).            02G   \n",
       "4  Violations were cited in the following area(s).            04M   \n",
       "\n",
       "                               VIOLATION DESCRIPTION CRITICAL FLAG  SCORE  \\\n",
       "0        Hot food item not held at or above 140Âº F.      Critical   30.0   \n",
       "1              Current letter grade card not posted.  Not Critical    NaN   \n",
       "2  Non-food contact surface improperly constructe...  Not Critical    2.0   \n",
       "3  Cold food item held above 41Âº F (smoked fish ...      Critical   46.0   \n",
       "4  Live roaches present in facility's food and/or...      Critical   18.0   \n",
       "\n",
       "  GRADE GRADE DATE RECORD DATE  \\\n",
       "0   NaN        NaN  08/28/2017   \n",
       "1   NaN        NaN  08/28/2017   \n",
       "2   NaN        NaN  08/28/2017   \n",
       "3   NaN        NaN  08/28/2017   \n",
       "4   NaN        NaN  08/28/2017   \n",
       "\n",
       "                                     INSPECTION TYPE  \n",
       "0              Cycle Inspection / Initial Inspection  \n",
       "1  Administrative Miscellaneous / Initial Inspection  \n",
       "2      Pre-permit (Operational) / Initial Inspection  \n",
       "3      Pre-permit (Operational) / Initial Inspection  \n",
       "4              Cycle Inspection / Initial Inspection  "
      ]
     },
     "execution_count": 1,
     "metadata": {},
     "output_type": "execute_result"
    }
   ],
   "source": [
    "import pandas as pd\n",
    "import numpy as np\n",
    "import matplotlib.pyplot as plt\n",
    "%matplotlib inline\n",
    "rnd_state=42\n",
    "np.random.seed(rnd_state)\n",
    "\n",
    "df = pd.read_csv('DOHMH_New_York_City_Restaurant_Inspection_Results.csv', sep = ',')\n",
    "df.head()"
   ]
  },
  {
   "cell_type": "code",
   "execution_count": 2,
   "metadata": {},
   "outputs": [],
   "source": [
    "\n",
    "import numpy as np\n",
    "import pandas as pd\n",
    "import seaborn as sns\n",
    "import matplotlib.pyplot as plt"
   ]
  },
  {
   "cell_type": "code",
   "execution_count": 3,
   "metadata": {},
   "outputs": [
    {
     "name": "stdout",
     "output_type": "stream",
     "text": [
      "The original dataset is made of 399918 entries.\n"
     ]
    }
   ],
   "source": [
    "original_len = len(df)\n",
    "print('The original dataset is made of %d entries.' %(original_len))"
   ]
  },
  {
   "cell_type": "code",
   "execution_count": 4,
   "metadata": {},
   "outputs": [
    {
     "name": "stdout",
     "output_type": "stream",
     "text": [
      "1135 points had invalid dates.\n"
     ]
    }
   ],
   "source": [
    "df['INSPECTION DATE'] = pd.to_datetime(df['INSPECTION DATE'])\n",
    "df = df[df['INSPECTION DATE'] > '2009-12-31']\n",
    "df['MONTH']=pd.DatetimeIndex(df['INSPECTION DATE']).month\n",
    "\n",
    "print('%d points had invalid dates.' %(original_len-len(df)))"
   ]
  },
  {
   "cell_type": "code",
   "execution_count": 5,
   "metadata": {},
   "outputs": [],
   "source": [
    "\n",
    "cuisine_counts = {}\n",
    "major_cuisines = []\n",
    "threshold = 0.03 # Threshold to discriminate the presence of restaurants.\n",
    "                # At the moment it selects cuisines that represent 97% of restaurants.\n",
    "for i in df['CUISINE DESCRIPTION'].unique():\n",
    "    cuisine_counts[i] = float(len(df[df['CUISINE DESCRIPTION']==i]))\n",
    "\n",
    "major_cuisines = [i for i in cuisine_counts.keys() if cuisine_counts[i]/sum(cuisine_counts.values()) > threshold]"
   ]
  },
  {
   "cell_type": "code",
   "execution_count": 6,
   "metadata": {},
   "outputs": [],
   "source": [
    "season_dict = {}\n",
    "for month in range(1,13):\n",
    "    if month > 2 and month < 6:\n",
    "        season_dict[month] = 'Spring'\n",
    "    elif month > 2 and month < 9:\n",
    "        season_dict[month] = 'Summer'\n",
    "    elif month > 2 and month < 12:\n",
    "        season_dict[month] = 'Fall'\n",
    "    else:\n",
    "        season_dict[month] = 'Winter'\n",
    "\n",
    "df['SEASON'] = df['MONTH'].map(season_dict)"
   ]
  },
  {
   "cell_type": "code",
   "execution_count": 7,
   "metadata": {},
   "outputs": [
    {
     "data": {
      "text/html": [
       "<div>\n",
       "<style scoped>\n",
       "    .dataframe tbody tr th:only-of-type {\n",
       "        vertical-align: middle;\n",
       "    }\n",
       "\n",
       "    .dataframe tbody tr th {\n",
       "        vertical-align: top;\n",
       "    }\n",
       "\n",
       "    .dataframe thead th {\n",
       "        text-align: right;\n",
       "    }\n",
       "</style>\n",
       "<table border=\"1\" class=\"dataframe\">\n",
       "  <thead>\n",
       "    <tr style=\"text-align: right;\">\n",
       "      <th></th>\n",
       "      <th>CAMIS</th>\n",
       "      <th>DBA</th>\n",
       "      <th>BORO</th>\n",
       "      <th>BUILDING</th>\n",
       "      <th>STREET</th>\n",
       "      <th>ZIPCODE</th>\n",
       "      <th>PHONE</th>\n",
       "      <th>CUISINE DESCRIPTION</th>\n",
       "      <th>INSPECTION DATE</th>\n",
       "      <th>ACTION</th>\n",
       "      <th>VIOLATION CODE</th>\n",
       "      <th>VIOLATION DESCRIPTION</th>\n",
       "      <th>CRITICAL FLAG</th>\n",
       "      <th>SCORE</th>\n",
       "      <th>GRADE</th>\n",
       "      <th>GRADE DATE</th>\n",
       "      <th>RECORD DATE</th>\n",
       "      <th>INSPECTION TYPE</th>\n",
       "      <th>MONTH</th>\n",
       "      <th>SEASON</th>\n",
       "    </tr>\n",
       "  </thead>\n",
       "  <tbody>\n",
       "    <tr>\n",
       "      <th>0</th>\n",
       "      <td>40511702</td>\n",
       "      <td>NOTARO RESTAURANT</td>\n",
       "      <td>MANHATTAN</td>\n",
       "      <td>635</td>\n",
       "      <td>SECOND AVENUE</td>\n",
       "      <td>10016.0</td>\n",
       "      <td>2126863400</td>\n",
       "      <td>Italian</td>\n",
       "      <td>2015-06-15</td>\n",
       "      <td>Violations were cited in the following area(s).</td>\n",
       "      <td>02B</td>\n",
       "      <td>Hot food item not held at or above 140Âº F.</td>\n",
       "      <td>Critical</td>\n",
       "      <td>30.0</td>\n",
       "      <td>NaN</td>\n",
       "      <td>NaN</td>\n",
       "      <td>08/28/2017</td>\n",
       "      <td>Cycle Inspection / Initial Inspection</td>\n",
       "      <td>6</td>\n",
       "      <td>Summer</td>\n",
       "    </tr>\n",
       "    <tr>\n",
       "      <th>1</th>\n",
       "      <td>40511702</td>\n",
       "      <td>NOTARO RESTAURANT</td>\n",
       "      <td>MANHATTAN</td>\n",
       "      <td>635</td>\n",
       "      <td>SECOND AVENUE</td>\n",
       "      <td>10016.0</td>\n",
       "      <td>2126863400</td>\n",
       "      <td>Italian</td>\n",
       "      <td>2014-11-25</td>\n",
       "      <td>Violations were cited in the following area(s).</td>\n",
       "      <td>20F</td>\n",
       "      <td>Current letter grade card not posted.</td>\n",
       "      <td>Not Critical</td>\n",
       "      <td>NaN</td>\n",
       "      <td>NaN</td>\n",
       "      <td>NaN</td>\n",
       "      <td>08/28/2017</td>\n",
       "      <td>Administrative Miscellaneous / Initial Inspection</td>\n",
       "      <td>11</td>\n",
       "      <td>Fall</td>\n",
       "    </tr>\n",
       "    <tr>\n",
       "      <th>2</th>\n",
       "      <td>50046354</td>\n",
       "      <td>VITE BAR</td>\n",
       "      <td>QUEENS</td>\n",
       "      <td>2507</td>\n",
       "      <td>BROADWAY</td>\n",
       "      <td>11106.0</td>\n",
       "      <td>3478134702</td>\n",
       "      <td>Italian</td>\n",
       "      <td>2016-10-03</td>\n",
       "      <td>Violations were cited in the following area(s).</td>\n",
       "      <td>10F</td>\n",
       "      <td>Non-food contact surface improperly constructe...</td>\n",
       "      <td>Not Critical</td>\n",
       "      <td>2.0</td>\n",
       "      <td>NaN</td>\n",
       "      <td>NaN</td>\n",
       "      <td>08/28/2017</td>\n",
       "      <td>Pre-permit (Operational) / Initial Inspection</td>\n",
       "      <td>10</td>\n",
       "      <td>Fall</td>\n",
       "    </tr>\n",
       "    <tr>\n",
       "      <th>3</th>\n",
       "      <td>50061389</td>\n",
       "      <td>TACK'S CHINESE TAKE OUT</td>\n",
       "      <td>STATEN ISLAND</td>\n",
       "      <td>11C</td>\n",
       "      <td>HOLDEN BLVD</td>\n",
       "      <td>10314.0</td>\n",
       "      <td>7189839854</td>\n",
       "      <td>Chinese</td>\n",
       "      <td>2017-05-17</td>\n",
       "      <td>Violations were cited in the following area(s).</td>\n",
       "      <td>02G</td>\n",
       "      <td>Cold food item held above 41Âº F (smoked fish ...</td>\n",
       "      <td>Critical</td>\n",
       "      <td>46.0</td>\n",
       "      <td>NaN</td>\n",
       "      <td>NaN</td>\n",
       "      <td>08/28/2017</td>\n",
       "      <td>Pre-permit (Operational) / Initial Inspection</td>\n",
       "      <td>5</td>\n",
       "      <td>Spring</td>\n",
       "    </tr>\n",
       "    <tr>\n",
       "      <th>4</th>\n",
       "      <td>41516263</td>\n",
       "      <td>NO QUARTER</td>\n",
       "      <td>BROOKLYN</td>\n",
       "      <td>8015</td>\n",
       "      <td>5 AVENUE</td>\n",
       "      <td>11209.0</td>\n",
       "      <td>7187019180</td>\n",
       "      <td>American</td>\n",
       "      <td>2017-03-30</td>\n",
       "      <td>Violations were cited in the following area(s).</td>\n",
       "      <td>04M</td>\n",
       "      <td>Live roaches present in facility's food and/or...</td>\n",
       "      <td>Critical</td>\n",
       "      <td>18.0</td>\n",
       "      <td>NaN</td>\n",
       "      <td>NaN</td>\n",
       "      <td>08/28/2017</td>\n",
       "      <td>Cycle Inspection / Initial Inspection</td>\n",
       "      <td>3</td>\n",
       "      <td>Spring</td>\n",
       "    </tr>\n",
       "  </tbody>\n",
       "</table>\n",
       "</div>"
      ],
      "text/plain": [
       "      CAMIS                      DBA           BORO BUILDING         STREET  \\\n",
       "0  40511702        NOTARO RESTAURANT      MANHATTAN      635  SECOND AVENUE   \n",
       "1  40511702        NOTARO RESTAURANT      MANHATTAN      635  SECOND AVENUE   \n",
       "2  50046354                 VITE BAR         QUEENS     2507       BROADWAY   \n",
       "3  50061389  TACK'S CHINESE TAKE OUT  STATEN ISLAND      11C    HOLDEN BLVD   \n",
       "4  41516263               NO QUARTER       BROOKLYN     8015       5 AVENUE   \n",
       "\n",
       "   ZIPCODE       PHONE CUISINE DESCRIPTION INSPECTION DATE  \\\n",
       "0  10016.0  2126863400             Italian      2015-06-15   \n",
       "1  10016.0  2126863400             Italian      2014-11-25   \n",
       "2  11106.0  3478134702             Italian      2016-10-03   \n",
       "3  10314.0  7189839854             Chinese      2017-05-17   \n",
       "4  11209.0  7187019180            American      2017-03-30   \n",
       "\n",
       "                                            ACTION VIOLATION CODE  \\\n",
       "0  Violations were cited in the following area(s).            02B   \n",
       "1  Violations were cited in the following area(s).            20F   \n",
       "2  Violations were cited in the following area(s).            10F   \n",
       "3  Violations were cited in the following area(s).            02G   \n",
       "4  Violations were cited in the following area(s).            04M   \n",
       "\n",
       "                               VIOLATION DESCRIPTION CRITICAL FLAG  SCORE  \\\n",
       "0        Hot food item not held at or above 140Âº F.      Critical   30.0   \n",
       "1              Current letter grade card not posted.  Not Critical    NaN   \n",
       "2  Non-food contact surface improperly constructe...  Not Critical    2.0   \n",
       "3  Cold food item held above 41Âº F (smoked fish ...      Critical   46.0   \n",
       "4  Live roaches present in facility's food and/or...      Critical   18.0   \n",
       "\n",
       "  GRADE GRADE DATE RECORD DATE  \\\n",
       "0   NaN        NaN  08/28/2017   \n",
       "1   NaN        NaN  08/28/2017   \n",
       "2   NaN        NaN  08/28/2017   \n",
       "3   NaN        NaN  08/28/2017   \n",
       "4   NaN        NaN  08/28/2017   \n",
       "\n",
       "                                     INSPECTION TYPE  MONTH  SEASON  \n",
       "0              Cycle Inspection / Initial Inspection      6  Summer  \n",
       "1  Administrative Miscellaneous / Initial Inspection     11    Fall  \n",
       "2      Pre-permit (Operational) / Initial Inspection     10    Fall  \n",
       "3      Pre-permit (Operational) / Initial Inspection      5  Spring  \n",
       "4              Cycle Inspection / Initial Inspection      3  Spring  "
      ]
     },
     "execution_count": 7,
     "metadata": {},
     "output_type": "execute_result"
    }
   ],
   "source": [
    "df.head()"
   ]
  },
  {
   "cell_type": "code",
   "execution_count": 8,
   "metadata": {},
   "outputs": [
    {
     "data": {
      "image/png": "[encoded data removed]",
      "text/plain": [
       "<Figure size 720x576 with 1 Axes>"
      ]
     },
     "metadata": {
      "needs_background": "light"
     },
     "output_type": "display_data"
    }
   ],
   "source": [
    "\n",
    "grades = df[df['GRADE'].isin(['A','B', 'C'])]\n",
    "fig = plt.figure(figsize=(10,8))\n",
    "#grades['GRADE'].value_counts()\n",
    "ax = sns.countplot(x='GRADE', hue='BORO', data=grades, order=grades['GRADE'].value_counts().index, hue_order=grades['BORO'].value_counts().index)\n",
    "ax.set_ylabel('Count', fontsize=20)\n",
    "ax.set_xlabel('Grade', fontsize=20)\n",
    "ax.tick_params(labelsize=15)\n",
    "ax = plt.legend(fontsize=15)"
   ]
  },
  {
   "cell_type": "code",
   "execution_count": 9,
   "metadata": {},
   "outputs": [],
   "source": [
    "dt = grades.loc[:, [\"CUISINE DESCRIPTION\", \"INSPECTION TYPE\", \"MONTH\", \"GRADE\"]]\n",
    "dt = dt.sample(frac=1).reset_index(drop=True) # Shuffle the samples to increase randomness.\n",
    "dt = dt.dropna()\n",
    "Y = dt['GRADE']\n",
    "X = dt.drop(dt.columns[-1], axis=1)"
   ]
  },
  {
   "cell_type": "code",
   "execution_count": 10,
   "metadata": {},
   "outputs": [
    {
     "data": {
      "text/html": [
       "<div>\n",
       "<style scoped>\n",
       "    .dataframe tbody tr th:only-of-type {\n",
       "        vertical-align: middle;\n",
       "    }\n",
       "\n",
       "    .dataframe tbody tr th {\n",
       "        vertical-align: top;\n",
       "    }\n",
       "\n",
       "    .dataframe thead th {\n",
       "        text-align: right;\n",
       "    }\n",
       "</style>\n",
       "<table border=\"1\" class=\"dataframe\">\n",
       "  <thead>\n",
       "    <tr style=\"text-align: right;\">\n",
       "      <th></th>\n",
       "      <th>CUISINE DESCRIPTION</th>\n",
       "      <th>INSPECTION TYPE</th>\n",
       "      <th>MONTH</th>\n",
       "    </tr>\n",
       "  </thead>\n",
       "  <tbody>\n",
       "    <tr>\n",
       "      <th>0</th>\n",
       "      <td>Mexican</td>\n",
       "      <td>Cycle Inspection / Re-inspection</td>\n",
       "      <td>5</td>\n",
       "    </tr>\n",
       "    <tr>\n",
       "      <th>1</th>\n",
       "      <td>Donuts</td>\n",
       "      <td>Cycle Inspection / Re-inspection</td>\n",
       "      <td>11</td>\n",
       "    </tr>\n",
       "    <tr>\n",
       "      <th>2</th>\n",
       "      <td>Pizza/Italian</td>\n",
       "      <td>Cycle Inspection / Initial Inspection</td>\n",
       "      <td>10</td>\n",
       "    </tr>\n",
       "    <tr>\n",
       "      <th>3</th>\n",
       "      <td>Caribbean</td>\n",
       "      <td>Cycle Inspection / Re-inspection</td>\n",
       "      <td>6</td>\n",
       "    </tr>\n",
       "    <tr>\n",
       "      <th>4</th>\n",
       "      <td>Latin (Cuban, Dominican, Puerto Rican, South &amp;...</td>\n",
       "      <td>Cycle Inspection / Re-inspection</td>\n",
       "      <td>3</td>\n",
       "    </tr>\n",
       "  </tbody>\n",
       "</table>\n",
       "</div>"
      ],
      "text/plain": [
       "                                 CUISINE DESCRIPTION  \\\n",
       "0                                            Mexican   \n",
       "1                                             Donuts   \n",
       "2                                      Pizza/Italian   \n",
       "3                                          Caribbean   \n",
       "4  Latin (Cuban, Dominican, Puerto Rican, South &...   \n",
       "\n",
       "                         INSPECTION TYPE  MONTH  \n",
       "0       Cycle Inspection / Re-inspection      5  \n",
       "1       Cycle Inspection / Re-inspection     11  \n",
       "2  Cycle Inspection / Initial Inspection     10  \n",
       "3       Cycle Inspection / Re-inspection      6  \n",
       "4       Cycle Inspection / Re-inspection      3  "
      ]
     },
     "execution_count": 10,
     "metadata": {},
     "output_type": "execute_result"
    }
   ],
   "source": [
    "X.head()"
   ]
  },
  {
   "cell_type": "code",
   "execution_count": 11,
   "metadata": {},
   "outputs": [
    {
     "data": {
      "text/plain": [
       "0    A\n",
       "1    A\n",
       "2    A\n",
       "3    B\n",
       "4    A\n",
       "Name: GRADE, dtype: object"
      ]
     },
     "execution_count": 11,
     "metadata": {},
     "output_type": "execute_result"
    }
   ],
   "source": [
    "Y.head()"
   ]
  },
  {
   "cell_type": "code",
   "execution_count": 12,
   "metadata": {},
   "outputs": [],
   "source": [
    "from sklearn.preprocessing import LabelEncoder\n",
    "for col in X.columns[:]:\n",
    "    le = LabelEncoder()\n",
    "    X[col] = le.fit_transform(X[col])"
   ]
  },
  {
   "cell_type": "code",
   "execution_count": 13,
   "metadata": {},
   "outputs": [],
   "source": [
    "#Supervised Method with Kmeans to predict GRADE\n",
    "\n",
    "from sklearn.cluster import KMeans\n",
    "import numpy as np\n",
    "km = KMeans(n_clusters=3, \n",
    "            init='random', \n",
    "            n_init=10, \n",
    "            max_iter=300,\n",
    "            tol=1e-04,\n",
    "            random_state=42)"
   ]
  },
  {
   "cell_type": "code",
   "execution_count": 14,
   "metadata": {},
   "outputs": [
    {
     "name": "stdout",
     "output_type": "stream",
     "text": [
      "[0 1 2]\n"
     ]
    }
   ],
   "source": [
    "y_km = km.fit_predict(X)\n",
    "labels = np.unique(y_km)\n",
    "print(labels)"
   ]
  },
  {
   "cell_type": "code",
   "execution_count": 15,
   "metadata": {},
   "outputs": [],
   "source": [
    "from collections import Counter\n",
    "cl_map = dict()\n",
    "for i in range(len(labels)):\n",
    "    counter = Counter(Y[y_km ==i])\n",
    "    cl_map[i] = counter.most_common(1)[0][0]\n",
    "y_km_class = [cl_map[i] for i in y_km]\n",
    "y_km_class = np.asarray(y_km_class)"
   ]
  },
  {
   "cell_type": "code",
   "execution_count": 16,
   "metadata": {},
   "outputs": [],
   "source": [
    "y_km_class[y_km_class!=Y]='Wrong'"
   ]
  },
  {
   "cell_type": "code",
   "execution_count": 17,
   "metadata": {},
   "outputs": [
    {
     "data": {
      "text/html": [
       "<div>\n",
       "<style scoped>\n",
       "    .dataframe tbody tr th:only-of-type {\n",
       "        vertical-align: middle;\n",
       "    }\n",
       "\n",
       "    .dataframe tbody tr th {\n",
       "        vertical-align: top;\n",
       "    }\n",
       "\n",
       "    .dataframe thead th {\n",
       "        text-align: right;\n",
       "    }\n",
       "</style>\n",
       "<table border=\"1\" class=\"dataframe\">\n",
       "  <thead>\n",
       "    <tr style=\"text-align: right;\">\n",
       "      <th></th>\n",
       "      <th>CUISINE DESCRIPTION</th>\n",
       "      <th>INSPECTION TYPE</th>\n",
       "      <th>MONTH</th>\n",
       "      <th>GRADE</th>\n",
       "      <th>pred_class</th>\n",
       "    </tr>\n",
       "  </thead>\n",
       "  <tbody>\n",
       "    <tr>\n",
       "      <th>0</th>\n",
       "      <td>Mexican</td>\n",
       "      <td>Cycle Inspection / Re-inspection</td>\n",
       "      <td>5</td>\n",
       "      <td>A</td>\n",
       "      <td>A</td>\n",
       "    </tr>\n",
       "    <tr>\n",
       "      <th>1</th>\n",
       "      <td>Donuts</td>\n",
       "      <td>Cycle Inspection / Re-inspection</td>\n",
       "      <td>11</td>\n",
       "      <td>A</td>\n",
       "      <td>A</td>\n",
       "    </tr>\n",
       "    <tr>\n",
       "      <th>2</th>\n",
       "      <td>Pizza/Italian</td>\n",
       "      <td>Cycle Inspection / Initial Inspection</td>\n",
       "      <td>10</td>\n",
       "      <td>A</td>\n",
       "      <td>A</td>\n",
       "    </tr>\n",
       "    <tr>\n",
       "      <th>3</th>\n",
       "      <td>Caribbean</td>\n",
       "      <td>Cycle Inspection / Re-inspection</td>\n",
       "      <td>6</td>\n",
       "      <td>B</td>\n",
       "      <td>W</td>\n",
       "    </tr>\n",
       "    <tr>\n",
       "      <th>4</th>\n",
       "      <td>Latin (Cuban, Dominican, Puerto Rican, South &amp;...</td>\n",
       "      <td>Cycle Inspection / Re-inspection</td>\n",
       "      <td>3</td>\n",
       "      <td>A</td>\n",
       "      <td>A</td>\n",
       "    </tr>\n",
       "  </tbody>\n",
       "</table>\n",
       "</div>"
      ],
      "text/plain": [
       "                                 CUISINE DESCRIPTION  \\\n",
       "0                                            Mexican   \n",
       "1                                             Donuts   \n",
       "2                                      Pizza/Italian   \n",
       "3                                          Caribbean   \n",
       "4  Latin (Cuban, Dominican, Puerto Rican, South &...   \n",
       "\n",
       "                         INSPECTION TYPE  MONTH GRADE pred_class  \n",
       "0       Cycle Inspection / Re-inspection      5     A          A  \n",
       "1       Cycle Inspection / Re-inspection     11     A          A  \n",
       "2  Cycle Inspection / Initial Inspection     10     A          A  \n",
       "3       Cycle Inspection / Re-inspection      6     B          W  \n",
       "4       Cycle Inspection / Re-inspection      3     A          A  "
      ]
     },
     "execution_count": 17,
     "metadata": {},
     "output_type": "execute_result"
    }
   ],
   "source": [
    "dt = dt.assign(pred_class=y_km_class)\n",
    "dt.head()\n"
   ]
  },
  {
   "cell_type": "code",
   "execution_count": 18,
   "metadata": {},
   "outputs": [
    {
     "data": {
      "text/plain": [
       "A    154193\n",
       "W     35158\n",
       "Name: pred_class, dtype: int64"
      ]
     },
     "execution_count": 18,
     "metadata": {},
     "output_type": "execute_result"
    }
   ],
   "source": [
    "dt['pred_class'].value_counts()"
   ]
  },
  {
   "cell_type": "code",
   "execution_count": 19,
   "metadata": {},
   "outputs": [
    {
     "name": "stdout",
     "output_type": "stream",
     "text": [
      "0.8143236634609798\n"
     ]
    }
   ],
   "source": [
    "Accuracy_KMean = print(154193/(35158 + 154193))"
   ]
  },
  {
   "cell_type": "code",
   "execution_count": 20,
   "metadata": {},
   "outputs": [
    {
     "name": "stderr",
     "output_type": "stream",
     "text": [
      "/anaconda3/lib/python3.6/site-packages/sklearn/linear_model/logistic.py:433: FutureWarning: Default solver will be changed to 'lbfgs' in 0.22. Specify a solver to silence this warning.\n",
      "  FutureWarning)\n",
      "/anaconda3/lib/python3.6/site-packages/sklearn/linear_model/logistic.py:460: FutureWarning: Default multi_class will be changed to 'auto' in 0.22. Specify the multi_class option to silence this warning.\n",
      "  \"this warning.\", FutureWarning)\n"
     ]
    },
    {
     "data": {
      "text/plain": [
       "LogisticRegression(C=1.0, class_weight=None, dual=False, fit_intercept=True,\n",
       "          intercept_scaling=1, max_iter=100, multi_class='warn',\n",
       "          n_jobs=None, penalty='l2', random_state=None, solver='warn',\n",
       "          tol=0.0001, verbose=0, warm_start=False)"
      ]
     },
     "execution_count": 20,
     "metadata": {},
     "output_type": "execute_result"
    }
   ],
   "source": [
    "#Supervised Method with Logistic Regression topredict GRADE\n",
    "\n",
    "from sklearn.linear_model import LogisticRegression\n",
    "from sklearn import metrics\n",
    "from sklearn.model_selection import train_test_split\n",
    "X_train, X_test, Y_train, Y_test = train_test_split(X, Y, test_size=0.3, random_state=0)\n",
    "logreg = LogisticRegression()\n",
    "logreg.fit(X_train, Y_train)\n"
   ]
  },
  {
   "cell_type": "code",
   "execution_count": 21,
   "metadata": {},
   "outputs": [
    {
     "name": "stdout",
     "output_type": "stream",
     "text": [
      "Accuracy of logistic regression classifier on test set: 0.82\n"
     ]
    }
   ],
   "source": [
    "y_pred = logreg.predict(X_test)\n",
    "print('Accuracy of logistic regression classifier on test set: {:.2f}'.format(logreg.score(X_test, Y_test)))"
   ]
  },
  {
   "cell_type": "code",
   "execution_count": 22,
   "metadata": {},
   "outputs": [
    {
     "name": "stdout",
     "output_type": "stream",
     "text": [
      "[[46350     0     0]\n",
      " [ 8345     0     0]\n",
      " [ 2111     0     0]]\n"
     ]
    }
   ],
   "source": [
    "from sklearn.metrics import confusion_matrix\n",
    "confusion_matrix = confusion_matrix(Y_test, y_pred)\n",
    "print(confusion_matrix)"
   ]
  },
  {
   "cell_type": "code",
   "execution_count": 23,
   "metadata": {},
   "outputs": [
    {
     "name": "stdout",
     "output_type": "stream",
     "text": [
      "There are 142013 samples in the training dataset\n",
      "There are 47338 samples in the testing dataset\n",
      "Each sample has 3 features\n"
     ]
    }
   ],
   "source": [
    "# Supervised Method with Decision tree to predict GRADE\n",
    "\n",
    "from sklearn.model_selection import train_test_split\n",
    "X_train, X_test, y_train, y_test = train_test_split(X, Y) # default Train 0.75- Test 0.25\n",
    "print(\"There are {} samples in the training dataset\".format(X_train.shape[0]))\n",
    "print(\"There are {} samples in the testing dataset\".format(X_test.shape[0]))\n",
    "print(\"Each sample has {} features\".format(X_train.shape[1]))"
   ]
  },
  {
   "cell_type": "code",
   "execution_count": 24,
   "metadata": {},
   "outputs": [],
   "source": [
    "Y = dt[['GRADE']]\n",
    "from sklearn import tree\n",
    "estimator = tree.DecisionTreeClassifier(criterion=\"entropy\")"
   ]
  },
  {
   "cell_type": "code",
   "execution_count": 25,
   "metadata": {},
   "outputs": [
    {
     "data": {
      "text/plain": [
       "DecisionTreeClassifier(class_weight=None, criterion='entropy', max_depth=None,\n",
       "            max_features=None, max_leaf_nodes=None,\n",
       "            min_impurity_decrease=0.0, min_impurity_split=None,\n",
       "            min_samples_leaf=1, min_samples_split=2,\n",
       "            min_weight_fraction_leaf=0.0, presort=False, random_state=None,\n",
       "            splitter='best')"
      ]
     },
     "execution_count": 25,
     "metadata": {},
     "output_type": "execute_result"
    }
   ],
   "source": [
    "estimator.fit(X_train, y_train)"
   ]
  },
  {
   "cell_type": "code",
   "execution_count": 26,
   "metadata": {},
   "outputs": [
    {
     "name": "stdout",
     "output_type": "stream",
     "text": [
      "The accuracy on training set is 82.1%\n"
     ]
    }
   ],
   "source": [
    "y_predicted_train = estimator.predict(X_train)\n",
    "accuracy_train = np.mean(y_train == y_predicted_train) * 100\n",
    "print(\"The accuracy on training set is {0:.1f}%\".format(accuracy_train))"
   ]
  },
  {
   "cell_type": "code",
   "execution_count": 27,
   "metadata": {},
   "outputs": [
    {
     "name": "stdout",
     "output_type": "stream",
     "text": [
      "The accuracy on test set is 81.9%\n"
     ]
    }
   ],
   "source": [
    "y_predicted_test = estimator.predict(X_test)\n",
    "accuracy_test = np.mean(y_test == y_predicted_test) * 100\n",
    "print(\"The accuracy on test set is {0:.1f}%\".format(accuracy_test))"
   ]
  },
  {
   "cell_type": "code",
   "execution_count": 28,
   "metadata": {},
   "outputs": [
    {
     "name": "stdout",
     "output_type": "stream",
     "text": [
      "[[38298   259    34]\n",
      " [ 6677   308    14]\n",
      " [ 1558    27   163]]\n"
     ]
    }
   ],
   "source": [
    "from sklearn.metrics import confusion_matrix\n",
    "print(confusion_matrix(y_test, y_predicted_test))"
   ]
  },
  {
   "cell_type": "code",
   "execution_count": 29,
   "metadata": {},
   "outputs": [],
   "source": [
    "avg_scores = []\n",
    "# all_scores = []\n",
    "# parameter_values = [10**exp for exp in np.arange(-2.0,0.0, 0.25)]\n",
    "#parameter_values = np.arange(0,1, 0.05)\n",
    "parameter_values = np.arange(1,10)\n",
    "for hp in parameter_values:\n",
    "    estimator = tree.DecisionTreeClassifier(criterion=\"entropy\"\n",
    "#                                            , min_impurity_decrease = hp\n",
    "                                            , max_depth = hp\n",
    "                                           )\n",
    "    estimator.fit(X_train, y_train)\n",
    "    y_predicted = estimator.predict(X_test)\n",
    "    score = np.mean(y_test == y_predicted) * 100 # compute the matches between prediction and true classes\n",
    "#    avg_scores.append(np.mean(scores))\n",
    "    avg_scores.append(score)\n",
    "#    all_scores.append(scores)"
   ]
  },
  {
   "cell_type": "code",
   "execution_count": 30,
   "metadata": {},
   "outputs": [
    {
     "data": {
      "text/plain": [
       "Text(0,0.5,'accuracy')"
      ]
     },
     "execution_count": 30,
     "metadata": {},
     "output_type": "execute_result"
    },
    {
     "data": {
      "image/png": "[encoded data removed]",
      "text/plain": [
       "<Figure size 2304x1440 with 1 Axes>"
      ]
     },
     "metadata": {
      "needs_background": "light"
     },
     "output_type": "display_data"
    }
   ],
   "source": [
    "from matplotlib import pyplot as plt\n",
    "plt.figure(figsize=(32,20))\n",
    "plt.plot(parameter_values, avg_scores, '-o', linewidth=5, markersize=24)\n",
    "plt.xlabel('max_depth', fontsize=20)\n",
    "plt.ylabel('accuracy')\n",
    "#plt.semilogx(parameter_values, avg_scores, '-o', linewidth=5, markersize=24)\n",
    "#plt.axis([0, max(parameter_values), 0, 1.0])"
   ]
  },
  {
   "cell_type": "code",
   "execution_count": 31,
   "metadata": {},
   "outputs": [
    {
     "data": {
      "text/plain": [
       "DecisionTreeClassifier(class_weight=None, criterion='entropy', max_depth=4,\n",
       "            max_features=None, max_leaf_nodes=None,\n",
       "            min_impurity_decrease=0.0, min_impurity_split=None,\n",
       "            min_samples_leaf=1, min_samples_split=2,\n",
       "            min_weight_fraction_leaf=0.0, presort=False, random_state=None,\n",
       "            splitter='best')"
      ]
     },
     "execution_count": 31,
     "metadata": {},
     "output_type": "execute_result"
    }
   ],
   "source": [
    "estimator = tree.DecisionTreeClassifier(criterion=\"entropy\"\n",
    "#                                            , min_impurity_decrease = parameter_values[np.argmax(avg_scores)]\n",
    "#                                            , min_samples_leaf = 2\n",
    "                                        , max_depth = 4\n",
    "                                       )\n",
    "estimator.fit(X,Y)"
   ]
  },
  {
   "cell_type": "code",
   "execution_count": 32,
   "metadata": {},
   "outputs": [
    {
     "data": {
      "image/svg+xml": [
       "<?xml version=\"1.0\" encoding=\"UTF-8\" standalone=\"no\"?>\n",
       "<!DOCTYPE svg PUBLIC \"-//W3C//DTD SVG 1.1//EN\"\n",
       " \"http://www.w3.org/Graphics/SVG/1.1/DTD/svg11.dtd\">\n",
       "<!-- Generated by graphviz version 2.40.1 (20161225.0304)\n",
       " -->\n",
       "<!-- Title: Tree Pages: 1 -->\n",
       "<svg width=\"1177pt\" height=\"552pt\"\n",
       " viewBox=\"0.00 0.00 1176.50 552.00\" xmlns=\"http://www.w3.org/2000/svg\" xmlns:xlink=\"http://www.w3.org/1999/xlink\">\n",
       "<g id=\"graph0\" class=\"graph\" transform=\"scale(1 1) rotate(0) translate(4 548)\">\n",
       "<title>Tree</title>\n",
       "<polygon fill=\"#ffffff\" stroke=\"transparent\" points=\"-4,4 -4,-548 1172.5,-548 1172.5,4 -4,4\"/>\n",
       "<!-- 0 -->\n",
       "<g id=\"node1\" class=\"node\">\n",
       "<title>0</title>\n",
       "<path fill=\"#e58139\" fill-opacity=\"0.780392\" stroke=\"#000000\" d=\"M576.5,-544C576.5,-544 394.5,-544 394.5,-544 388.5,-544 382.5,-538 382.5,-532 382.5,-532 382.5,-473 382.5,-473 382.5,-467 388.5,-461 394.5,-461 394.5,-461 576.5,-461 576.5,-461 582.5,-461 588.5,-467 588.5,-473 588.5,-473 588.5,-532 588.5,-532 588.5,-538 582.5,-544 576.5,-544\"/>\n",
       "<text text-anchor=\"start\" x=\"405\" y=\"-528.8\" font-family=\"Helvetica,sans-Serif\" font-size=\"14.00\" fill=\"#000000\">INSPECTION TYPE ≤ 2.5</text>\n",
       "<text text-anchor=\"start\" x=\"436.5\" y=\"-513.8\" font-family=\"Helvetica,sans-Serif\" font-size=\"14.00\" fill=\"#000000\">entropy = 0.826</text>\n",
       "<text text-anchor=\"start\" x=\"428\" y=\"-498.8\" font-family=\"Helvetica,sans-Serif\" font-size=\"14.00\" fill=\"#000000\">samples = 189351</text>\n",
       "<text text-anchor=\"start\" x=\"390.5\" y=\"-483.8\" font-family=\"Helvetica,sans-Serif\" font-size=\"14.00\" fill=\"#000000\">value = [154193, 28166, 6992]</text>\n",
       "<text text-anchor=\"start\" x=\"456.5\" y=\"-468.8\" font-family=\"Helvetica,sans-Serif\" font-size=\"14.00\" fill=\"#000000\">class = A</text>\n",
       "</g>\n",
       "<!-- 1 -->\n",
       "<g id=\"node2\" class=\"node\">\n",
       "<title>1</title>\n",
       "<path fill=\"#e58139\" stroke=\"#000000\" d=\"M451,-425C451,-425 298,-425 298,-425 292,-425 286,-419 286,-413 286,-413 286,-354 286,-354 286,-348 292,-342 298,-342 298,-342 451,-342 451,-342 457,-342 463,-348 463,-354 463,-354 463,-413 463,-413 463,-419 457,-425 451,-425\"/>\n",
       "<text text-anchor=\"start\" x=\"294\" y=\"-409.8\" font-family=\"Helvetica,sans-Serif\" font-size=\"14.00\" fill=\"#000000\">INSPECTION TYPE ≤ 1.5</text>\n",
       "<text text-anchor=\"start\" x=\"333\" y=\"-394.8\" font-family=\"Helvetica,sans-Serif\" font-size=\"14.00\" fill=\"#000000\">entropy = 0.0</text>\n",
       "<text text-anchor=\"start\" x=\"320.5\" y=\"-379.8\" font-family=\"Helvetica,sans-Serif\" font-size=\"14.00\" fill=\"#000000\">samples = 75717</text>\n",
       "<text text-anchor=\"start\" x=\"310.5\" y=\"-364.8\" font-family=\"Helvetica,sans-Serif\" font-size=\"14.00\" fill=\"#000000\">value = [75715, 0, 2]</text>\n",
       "<text text-anchor=\"start\" x=\"345.5\" y=\"-349.8\" font-family=\"Helvetica,sans-Serif\" font-size=\"14.00\" fill=\"#000000\">class = A</text>\n",
       "</g>\n",
       "<!-- 0&#45;&gt;1 -->\n",
       "<g id=\"edge1\" class=\"edge\">\n",
       "<title>0&#45;&gt;1</title>\n",
       "<path fill=\"none\" stroke=\"#000000\" d=\"M446.6776,-460.8796C438.1927,-451.7832 429.1346,-442.0722 420.4032,-432.7116\"/>\n",
       "<polygon fill=\"#000000\" stroke=\"#000000\" points=\"422.8686,-430.2233 413.4881,-425.2981 417.7497,-434.9981 422.8686,-430.2233\"/>\n",
       "<text text-anchor=\"middle\" x=\"412.6191\" y=\"-446.583\" font-family=\"Helvetica,sans-Serif\" font-size=\"14.00\" fill=\"#000000\">True</text>\n",
       "</g>\n",
       "<!-- 6 -->\n",
       "<g id=\"node7\" class=\"node\">\n",
       "<title>6</title>\n",
       "<path fill=\"#e58139\" fill-opacity=\"0.588235\" stroke=\"#000000\" d=\"M672.5,-425C672.5,-425 498.5,-425 498.5,-425 492.5,-425 486.5,-419 486.5,-413 486.5,-413 486.5,-354 486.5,-354 486.5,-348 492.5,-342 498.5,-342 498.5,-342 672.5,-342 672.5,-342 678.5,-342 684.5,-348 684.5,-354 684.5,-354 684.5,-413 684.5,-413 684.5,-419 678.5,-425 672.5,-425\"/>\n",
       "<text text-anchor=\"start\" x=\"505\" y=\"-409.8\" font-family=\"Helvetica,sans-Serif\" font-size=\"14.00\" fill=\"#000000\">INSPECTION TYPE ≤ 4.5</text>\n",
       "<text text-anchor=\"start\" x=\"536.5\" y=\"-394.8\" font-family=\"Helvetica,sans-Serif\" font-size=\"14.00\" fill=\"#000000\">entropy = 1.115</text>\n",
       "<text text-anchor=\"start\" x=\"528\" y=\"-379.8\" font-family=\"Helvetica,sans-Serif\" font-size=\"14.00\" fill=\"#000000\">samples = 113634</text>\n",
       "<text text-anchor=\"start\" x=\"494.5\" y=\"-364.8\" font-family=\"Helvetica,sans-Serif\" font-size=\"14.00\" fill=\"#000000\">value = [78478, 28166, 6990]</text>\n",
       "<text text-anchor=\"start\" x=\"556.5\" y=\"-349.8\" font-family=\"Helvetica,sans-Serif\" font-size=\"14.00\" fill=\"#000000\">class = A</text>\n",
       "</g>\n",
       "<!-- 0&#45;&gt;6 -->\n",
       "<g id=\"edge6\" class=\"edge\">\n",
       "<title>0&#45;&gt;6</title>\n",
       "<path fill=\"none\" stroke=\"#000000\" d=\"M520.4751,-460.8796C528.0435,-451.8733 536.1181,-442.2644 543.912,-432.9897\"/>\n",
       "<polygon fill=\"#000000\" stroke=\"#000000\" points=\"546.6216,-435.2056 550.3756,-425.2981 541.2626,-430.7022 546.6216,-435.2056\"/>\n",
       "<text text-anchor=\"middle\" x=\"552.5364\" y=\"-446.5045\" font-family=\"Helvetica,sans-Serif\" font-size=\"14.00\" fill=\"#000000\">False</text>\n",
       "</g>\n",
       "<!-- 2 -->\n",
       "<g id=\"node3\" class=\"node\">\n",
       "<title>2</title>\n",
       "<path fill=\"transparent\" stroke=\"#000000\" d=\"M264,-306C264,-306 111,-306 111,-306 105,-306 99,-300 99,-294 99,-294 99,-235 99,-235 99,-229 105,-223 111,-223 111,-223 264,-223 264,-223 270,-223 276,-229 276,-235 276,-235 276,-294 276,-294 276,-300 270,-306 264,-306\"/>\n",
       "<text text-anchor=\"start\" x=\"107\" y=\"-290.8\" font-family=\"Helvetica,sans-Serif\" font-size=\"14.00\" fill=\"#000000\">INSPECTION TYPE ≤ 0.5</text>\n",
       "<text text-anchor=\"start\" x=\"146\" y=\"-275.8\" font-family=\"Helvetica,sans-Serif\" font-size=\"14.00\" fill=\"#000000\">entropy = 1.0</text>\n",
       "<text text-anchor=\"start\" x=\"149.5\" y=\"-260.8\" font-family=\"Helvetica,sans-Serif\" font-size=\"14.00\" fill=\"#000000\">samples = 4</text>\n",
       "<text text-anchor=\"start\" x=\"139\" y=\"-245.8\" font-family=\"Helvetica,sans-Serif\" font-size=\"14.00\" fill=\"#000000\">value = [2, 0, 2]</text>\n",
       "<text text-anchor=\"start\" x=\"158.5\" y=\"-230.8\" font-family=\"Helvetica,sans-Serif\" font-size=\"14.00\" fill=\"#000000\">class = A</text>\n",
       "</g>\n",
       "<!-- 1&#45;&gt;2 -->\n",
       "<g id=\"edge2\" class=\"edge\">\n",
       "<title>1&#45;&gt;2</title>\n",
       "<path fill=\"none\" stroke=\"#000000\" d=\"M309.0965,-341.8796C293.7226,-332.0962 277.2315,-321.6019 261.5098,-311.5971\"/>\n",
       "<polygon fill=\"#000000\" stroke=\"#000000\" points=\"263.1823,-308.5129 252.8666,-306.0969 259.4241,-314.4185 263.1823,-308.5129\"/>\n",
       "</g>\n",
       "<!-- 5 -->\n",
       "<g id=\"node6\" class=\"node\">\n",
       "<title>5</title>\n",
       "<path fill=\"#e58139\" stroke=\"#000000\" d=\"M434.5,-298.5C434.5,-298.5 314.5,-298.5 314.5,-298.5 308.5,-298.5 302.5,-292.5 302.5,-286.5 302.5,-286.5 302.5,-242.5 302.5,-242.5 302.5,-236.5 308.5,-230.5 314.5,-230.5 314.5,-230.5 434.5,-230.5 434.5,-230.5 440.5,-230.5 446.5,-236.5 446.5,-242.5 446.5,-242.5 446.5,-286.5 446.5,-286.5 446.5,-292.5 440.5,-298.5 434.5,-298.5\"/>\n",
       "<text text-anchor=\"start\" x=\"333\" y=\"-283.3\" font-family=\"Helvetica,sans-Serif\" font-size=\"14.00\" fill=\"#000000\">entropy = 0.0</text>\n",
       "<text text-anchor=\"start\" x=\"320.5\" y=\"-268.3\" font-family=\"Helvetica,sans-Serif\" font-size=\"14.00\" fill=\"#000000\">samples = 75713</text>\n",
       "<text text-anchor=\"start\" x=\"310.5\" y=\"-253.3\" font-family=\"Helvetica,sans-Serif\" font-size=\"14.00\" fill=\"#000000\">value = [75713, 0, 0]</text>\n",
       "<text text-anchor=\"start\" x=\"345.5\" y=\"-238.3\" font-family=\"Helvetica,sans-Serif\" font-size=\"14.00\" fill=\"#000000\">class = A</text>\n",
       "</g>\n",
       "<!-- 1&#45;&gt;5 -->\n",
       "<g id=\"edge5\" class=\"edge\">\n",
       "<title>1&#45;&gt;5</title>\n",
       "<path fill=\"none\" stroke=\"#000000\" d=\"M374.5,-341.8796C374.5,-331.2134 374.5,-319.7021 374.5,-308.9015\"/>\n",
       "<polygon fill=\"#000000\" stroke=\"#000000\" points=\"378.0001,-308.8149 374.5,-298.8149 371.0001,-308.815 378.0001,-308.8149\"/>\n",
       "</g>\n",
       "<!-- 3 -->\n",
       "<g id=\"node4\" class=\"node\">\n",
       "<title>3</title>\n",
       "<path fill=\"#e58139\" stroke=\"#000000\" d=\"M101,-179.5C101,-179.5 12,-179.5 12,-179.5 6,-179.5 0,-173.5 0,-167.5 0,-167.5 0,-123.5 0,-123.5 0,-117.5 6,-111.5 12,-111.5 12,-111.5 101,-111.5 101,-111.5 107,-111.5 113,-117.5 113,-123.5 113,-123.5 113,-167.5 113,-167.5 113,-173.5 107,-179.5 101,-179.5\"/>\n",
       "<text text-anchor=\"start\" x=\"15\" y=\"-164.3\" font-family=\"Helvetica,sans-Serif\" font-size=\"14.00\" fill=\"#000000\">entropy = 0.0</text>\n",
       "<text text-anchor=\"start\" x=\"18.5\" y=\"-149.3\" font-family=\"Helvetica,sans-Serif\" font-size=\"14.00\" fill=\"#000000\">samples = 2</text>\n",
       "<text text-anchor=\"start\" x=\"8\" y=\"-134.3\" font-family=\"Helvetica,sans-Serif\" font-size=\"14.00\" fill=\"#000000\">value = [2, 0, 0]</text>\n",
       "<text text-anchor=\"start\" x=\"27.5\" y=\"-119.3\" font-family=\"Helvetica,sans-Serif\" font-size=\"14.00\" fill=\"#000000\">class = A</text>\n",
       "</g>\n",
       "<!-- 2&#45;&gt;3 -->\n",
       "<g id=\"edge3\" class=\"edge\">\n",
       "<title>2&#45;&gt;3</title>\n",
       "<path fill=\"none\" stroke=\"#000000\" d=\"M141.6826,-222.8796C128.7303,-211.1138 114.646,-198.3197 101.7286,-186.5855\"/>\n",
       "<polygon fill=\"#000000\" stroke=\"#000000\" points=\"104.0306,-183.9482 94.2753,-179.8149 99.3239,-189.1296 104.0306,-183.9482\"/>\n",
       "</g>\n",
       "<!-- 4 -->\n",
       "<g id=\"node5\" class=\"node\">\n",
       "<title>4</title>\n",
       "<path fill=\"#8139e5\" stroke=\"#000000\" d=\"M232,-179.5C232,-179.5 143,-179.5 143,-179.5 137,-179.5 131,-173.5 131,-167.5 131,-167.5 131,-123.5 131,-123.5 131,-117.5 137,-111.5 143,-111.5 143,-111.5 232,-111.5 232,-111.5 238,-111.5 244,-117.5 244,-123.5 244,-123.5 244,-167.5 244,-167.5 244,-173.5 238,-179.5 232,-179.5\"/>\n",
       "<text text-anchor=\"start\" x=\"146\" y=\"-164.3\" font-family=\"Helvetica,sans-Serif\" font-size=\"14.00\" fill=\"#000000\">entropy = 0.0</text>\n",
       "<text text-anchor=\"start\" x=\"149.5\" y=\"-149.3\" font-family=\"Helvetica,sans-Serif\" font-size=\"14.00\" fill=\"#000000\">samples = 2</text>\n",
       "<text text-anchor=\"start\" x=\"139\" y=\"-134.3\" font-family=\"Helvetica,sans-Serif\" font-size=\"14.00\" fill=\"#000000\">value = [0, 0, 2]</text>\n",
       "<text text-anchor=\"start\" x=\"158.5\" y=\"-119.3\" font-family=\"Helvetica,sans-Serif\" font-size=\"14.00\" fill=\"#000000\">class = C</text>\n",
       "</g>\n",
       "<!-- 2&#45;&gt;4 -->\n",
       "<g id=\"edge4\" class=\"edge\">\n",
       "<title>2&#45;&gt;4</title>\n",
       "<path fill=\"none\" stroke=\"#000000\" d=\"M187.5,-222.8796C187.5,-212.2134 187.5,-200.7021 187.5,-189.9015\"/>\n",
       "<polygon fill=\"#000000\" stroke=\"#000000\" points=\"191.0001,-189.8149 187.5,-179.8149 184.0001,-189.815 191.0001,-189.8149\"/>\n",
       "</g>\n",
       "<!-- 7 -->\n",
       "<g id=\"node8\" class=\"node\">\n",
       "<title>7</title>\n",
       "<path fill=\"#e58139\" fill-opacity=\"0.552941\" stroke=\"#000000\" d=\"M672.5,-306C672.5,-306 498.5,-306 498.5,-306 492.5,-306 486.5,-300 486.5,-294 486.5,-294 486.5,-235 486.5,-235 486.5,-229 492.5,-223 498.5,-223 498.5,-223 672.5,-223 672.5,-223 678.5,-223 684.5,-229 684.5,-235 684.5,-235 684.5,-294 684.5,-294 684.5,-300 678.5,-306 672.5,-306\"/>\n",
       "<text text-anchor=\"start\" x=\"505\" y=\"-290.8\" font-family=\"Helvetica,sans-Serif\" font-size=\"14.00\" fill=\"#000000\">INSPECTION TYPE ≤ 3.5</text>\n",
       "<text text-anchor=\"start\" x=\"540.5\" y=\"-275.8\" font-family=\"Helvetica,sans-Serif\" font-size=\"14.00\" fill=\"#000000\">entropy = 1.15</text>\n",
       "<text text-anchor=\"start\" x=\"531.5\" y=\"-260.8\" font-family=\"Helvetica,sans-Serif\" font-size=\"14.00\" fill=\"#000000\">samples = 96180</text>\n",
       "<text text-anchor=\"start\" x=\"494.5\" y=\"-245.8\" font-family=\"Helvetica,sans-Serif\" font-size=\"14.00\" fill=\"#000000\">value = [64453, 25517, 6210]</text>\n",
       "<text text-anchor=\"start\" x=\"556.5\" y=\"-230.8\" font-family=\"Helvetica,sans-Serif\" font-size=\"14.00\" fill=\"#000000\">class = A</text>\n",
       "</g>\n",
       "<!-- 6&#45;&gt;7 -->\n",
       "<g id=\"edge7\" class=\"edge\">\n",
       "<title>6&#45;&gt;7</title>\n",
       "<path fill=\"none\" stroke=\"#000000\" d=\"M585.5,-341.8796C585.5,-333.6838 585.5,-324.9891 585.5,-316.5013\"/>\n",
       "<polygon fill=\"#000000\" stroke=\"#000000\" points=\"589.0001,-316.298 585.5,-306.2981 582.0001,-316.2981 589.0001,-316.298\"/>\n",
       "</g>\n",
       "<!-- 14 -->\n",
       "<g id=\"node15\" class=\"node\">\n",
       "<title>14</title>\n",
       "<path fill=\"#e58139\" fill-opacity=\"0.768627\" stroke=\"#000000\" d=\"M878,-306C878,-306 719,-306 719,-306 713,-306 707,-300 707,-294 707,-294 707,-235 707,-235 707,-229 713,-223 719,-223 719,-223 878,-223 878,-223 884,-223 890,-229 890,-235 890,-235 890,-294 890,-294 890,-300 884,-306 878,-306\"/>\n",
       "<text text-anchor=\"start\" x=\"718\" y=\"-290.8\" font-family=\"Helvetica,sans-Serif\" font-size=\"14.00\" fill=\"#000000\">INSPECTION TYPE ≤ 6.5</text>\n",
       "<text text-anchor=\"start\" x=\"749.5\" y=\"-275.8\" font-family=\"Helvetica,sans-Serif\" font-size=\"14.00\" fill=\"#000000\">entropy = 0.867</text>\n",
       "<text text-anchor=\"start\" x=\"744.5\" y=\"-260.8\" font-family=\"Helvetica,sans-Serif\" font-size=\"14.00\" fill=\"#000000\">samples = 17454</text>\n",
       "<text text-anchor=\"start\" x=\"715\" y=\"-245.8\" font-family=\"Helvetica,sans-Serif\" font-size=\"14.00\" fill=\"#000000\">value = [14025, 2649, 780]</text>\n",
       "<text text-anchor=\"start\" x=\"769.5\" y=\"-230.8\" font-family=\"Helvetica,sans-Serif\" font-size=\"14.00\" fill=\"#000000\">class = A</text>\n",
       "</g>\n",
       "<!-- 6&#45;&gt;14 -->\n",
       "<g id=\"edge14\" class=\"edge\">\n",
       "<title>6&#45;&gt;14</title>\n",
       "<path fill=\"none\" stroke=\"#000000\" d=\"M659.9971,-341.8796C677.8328,-331.915 696.9886,-321.2129 715.1941,-311.0418\"/>\n",
       "<polygon fill=\"#000000\" stroke=\"#000000\" points=\"717.0221,-314.0298 724.045,-306.0969 713.608,-307.9188 717.0221,-314.0298\"/>\n",
       "</g>\n",
       "<!-- 8 -->\n",
       "<g id=\"node9\" class=\"node\">\n",
       "<title>8</title>\n",
       "<path fill=\"#e58139\" fill-opacity=\"0.552941\" stroke=\"#000000\" d=\"M466.5,-187C466.5,-187 274.5,-187 274.5,-187 268.5,-187 262.5,-181 262.5,-175 262.5,-175 262.5,-116 262.5,-116 262.5,-110 268.5,-104 274.5,-104 274.5,-104 466.5,-104 466.5,-104 472.5,-104 478.5,-110 478.5,-116 478.5,-116 478.5,-175 478.5,-175 478.5,-181 472.5,-187 466.5,-187\"/>\n",
       "<text text-anchor=\"start\" x=\"270.5\" y=\"-171.8\" font-family=\"Helvetica,sans-Serif\" font-size=\"14.00\" fill=\"#000000\">CUISINE DESCRIPTION ≤ 14.0</text>\n",
       "<text text-anchor=\"start\" x=\"321.5\" y=\"-156.8\" font-family=\"Helvetica,sans-Serif\" font-size=\"14.00\" fill=\"#000000\">entropy = 1.137</text>\n",
       "<text text-anchor=\"start\" x=\"316.5\" y=\"-141.8\" font-family=\"Helvetica,sans-Serif\" font-size=\"14.00\" fill=\"#000000\">samples = 95745</text>\n",
       "<text text-anchor=\"start\" x=\"279.5\" y=\"-126.8\" font-family=\"Helvetica,sans-Serif\" font-size=\"14.00\" fill=\"#000000\">value = [64447, 25515, 5783]</text>\n",
       "<text text-anchor=\"start\" x=\"341.5\" y=\"-111.8\" font-family=\"Helvetica,sans-Serif\" font-size=\"14.00\" fill=\"#000000\">class = A</text>\n",
       "</g>\n",
       "<!-- 7&#45;&gt;8 -->\n",
       "<g id=\"edge8\" class=\"edge\">\n",
       "<title>7&#45;&gt;8</title>\n",
       "<path fill=\"none\" stroke=\"#000000\" d=\"M510.3034,-222.8796C492.3003,-212.915 472.9645,-202.2129 454.5881,-192.0418\"/>\n",
       "<polygon fill=\"#000000\" stroke=\"#000000\" points=\"456.0983,-188.8773 445.6541,-187.0969 452.7084,-195.0018 456.0983,-188.8773\"/>\n",
       "</g>\n",
       "<!-- 11 -->\n",
       "<g id=\"node12\" class=\"node\">\n",
       "<title>11</title>\n",
       "<path fill=\"#8139e5\" fill-opacity=\"0.980392\" stroke=\"#000000\" d=\"M700.5,-187C700.5,-187 508.5,-187 508.5,-187 502.5,-187 496.5,-181 496.5,-175 496.5,-175 496.5,-116 496.5,-116 496.5,-110 502.5,-104 508.5,-104 508.5,-104 700.5,-104 700.5,-104 706.5,-104 712.5,-110 712.5,-116 712.5,-116 712.5,-175 712.5,-175 712.5,-181 706.5,-187 700.5,-187\"/>\n",
       "<text text-anchor=\"start\" x=\"504.5\" y=\"-171.8\" font-family=\"Helvetica,sans-Serif\" font-size=\"14.00\" fill=\"#000000\">CUISINE DESCRIPTION ≤ 70.0</text>\n",
       "<text text-anchor=\"start\" x=\"555.5\" y=\"-156.8\" font-family=\"Helvetica,sans-Serif\" font-size=\"14.00\" fill=\"#000000\">entropy = 0.147</text>\n",
       "<text text-anchor=\"start\" x=\"558.5\" y=\"-141.8\" font-family=\"Helvetica,sans-Serif\" font-size=\"14.00\" fill=\"#000000\">samples = 435</text>\n",
       "<text text-anchor=\"start\" x=\"548.5\" y=\"-126.8\" font-family=\"Helvetica,sans-Serif\" font-size=\"14.00\" fill=\"#000000\">value = [6, 2, 427]</text>\n",
       "<text text-anchor=\"start\" x=\"575.5\" y=\"-111.8\" font-family=\"Helvetica,sans-Serif\" font-size=\"14.00\" fill=\"#000000\">class = C</text>\n",
       "</g>\n",
       "<!-- 7&#45;&gt;11 -->\n",
       "<g id=\"edge11\" class=\"edge\">\n",
       "<title>7&#45;&gt;11</title>\n",
       "<path fill=\"none\" stroke=\"#000000\" d=\"M592.1453,-222.8796C593.4682,-214.5938 594.8726,-205.798 596.2419,-197.2216\"/>\n",
       "<polygon fill=\"#000000\" stroke=\"#000000\" points=\"599.7058,-197.7249 597.8264,-187.2981 592.7934,-196.6211 599.7058,-197.7249\"/>\n",
       "</g>\n",
       "<!-- 9 -->\n",
       "<g id=\"node10\" class=\"node\">\n",
       "<title>9</title>\n",
       "<path fill=\"#e58139\" fill-opacity=\"0.615686\" stroke=\"#000000\" d=\"M254.5,-68C254.5,-68 88.5,-68 88.5,-68 82.5,-68 76.5,-62 76.5,-56 76.5,-56 76.5,-12 76.5,-12 76.5,-6 82.5,0 88.5,0 88.5,0 254.5,0 254.5,0 260.5,0 266.5,-6 266.5,-12 266.5,-12 266.5,-56 266.5,-56 266.5,-62 260.5,-68 254.5,-68\"/>\n",
       "<text text-anchor=\"start\" x=\"122.5\" y=\"-52.8\" font-family=\"Helvetica,sans-Serif\" font-size=\"14.00\" fill=\"#000000\">entropy = 1.086</text>\n",
       "<text text-anchor=\"start\" x=\"117.5\" y=\"-37.8\" font-family=\"Helvetica,sans-Serif\" font-size=\"14.00\" fill=\"#000000\">samples = 30314</text>\n",
       "<text text-anchor=\"start\" x=\"84.5\" y=\"-22.8\" font-family=\"Helvetica,sans-Serif\" font-size=\"14.00\" fill=\"#000000\">value = [21389, 7148, 1777]</text>\n",
       "<text text-anchor=\"start\" x=\"142.5\" y=\"-7.8\" font-family=\"Helvetica,sans-Serif\" font-size=\"14.00\" fill=\"#000000\">class = A</text>\n",
       "</g>\n",
       "<!-- 8&#45;&gt;9 -->\n",
       "<g id=\"edge9\" class=\"edge\">\n",
       "<title>8&#45;&gt;9</title>\n",
       "<path fill=\"none\" stroke=\"#000000\" d=\"M296.3997,-103.9815C278.4263,-93.911 259.2678,-83.1764 241.491,-73.2161\"/>\n",
       "<polygon fill=\"#000000\" stroke=\"#000000\" points=\"242.7692,-69.9203 232.3344,-68.0856 239.3476,-76.0271 242.7692,-69.9203\"/>\n",
       "</g>\n",
       "<!-- 10 -->\n",
       "<g id=\"node11\" class=\"node\">\n",
       "<title>10</title>\n",
       "<path fill=\"#e58139\" fill-opacity=\"0.525490\" stroke=\"#000000\" d=\"M470.5,-68C470.5,-68 296.5,-68 296.5,-68 290.5,-68 284.5,-62 284.5,-56 284.5,-56 284.5,-12 284.5,-12 284.5,-6 290.5,0 296.5,0 296.5,0 470.5,0 470.5,0 476.5,0 482.5,-6 482.5,-12 482.5,-12 482.5,-56 482.5,-56 482.5,-62 476.5,-68 470.5,-68\"/>\n",
       "<text text-anchor=\"start\" x=\"334.5\" y=\"-52.8\" font-family=\"Helvetica,sans-Serif\" font-size=\"14.00\" fill=\"#000000\">entropy = 1.158</text>\n",
       "<text text-anchor=\"start\" x=\"329.5\" y=\"-37.8\" font-family=\"Helvetica,sans-Serif\" font-size=\"14.00\" fill=\"#000000\">samples = 65431</text>\n",
       "<text text-anchor=\"start\" x=\"292.5\" y=\"-22.8\" font-family=\"Helvetica,sans-Serif\" font-size=\"14.00\" fill=\"#000000\">value = [43058, 18367, 4006]</text>\n",
       "<text text-anchor=\"start\" x=\"354.5\" y=\"-7.8\" font-family=\"Helvetica,sans-Serif\" font-size=\"14.00\" fill=\"#000000\">class = A</text>\n",
       "</g>\n",
       "<!-- 8&#45;&gt;10 -->\n",
       "<g id=\"edge10\" class=\"edge\">\n",
       "<title>8&#45;&gt;10</title>\n",
       "<path fill=\"none\" stroke=\"#000000\" d=\"M375.3407,-103.9815C376.3158,-95.618 377.3443,-86.7965 378.3302,-78.3409\"/>\n",
       "<polygon fill=\"#000000\" stroke=\"#000000\" points=\"381.8234,-78.6017 379.5051,-68.2637 374.8705,-77.791 381.8234,-78.6017\"/>\n",
       "</g>\n",
       "<!-- 12 -->\n",
       "<g id=\"node13\" class=\"node\">\n",
       "<title>12</title>\n",
       "<path fill=\"#8139e5\" fill-opacity=\"0.988235\" stroke=\"#000000\" d=\"M642.5,-68C642.5,-68 538.5,-68 538.5,-68 532.5,-68 526.5,-62 526.5,-56 526.5,-56 526.5,-12 526.5,-12 526.5,-6 532.5,0 538.5,0 538.5,0 642.5,0 642.5,0 648.5,0 654.5,-6 654.5,-12 654.5,-12 654.5,-56 654.5,-56 654.5,-62 648.5,-68 642.5,-68\"/>\n",
       "<text text-anchor=\"start\" x=\"541.5\" y=\"-52.8\" font-family=\"Helvetica,sans-Serif\" font-size=\"14.00\" fill=\"#000000\">entropy = 0.094</text>\n",
       "<text text-anchor=\"start\" x=\"544.5\" y=\"-37.8\" font-family=\"Helvetica,sans-Serif\" font-size=\"14.00\" fill=\"#000000\">samples = 385</text>\n",
       "<text text-anchor=\"start\" x=\"534.5\" y=\"-22.8\" font-family=\"Helvetica,sans-Serif\" font-size=\"14.00\" fill=\"#000000\">value = [2, 2, 381]</text>\n",
       "<text text-anchor=\"start\" x=\"561.5\" y=\"-7.8\" font-family=\"Helvetica,sans-Serif\" font-size=\"14.00\" fill=\"#000000\">class = C</text>\n",
       "</g>\n",
       "<!-- 11&#45;&gt;12 -->\n",
       "<g id=\"edge12\" class=\"edge\">\n",
       "<title>11&#45;&gt;12</title>\n",
       "<path fill=\"none\" stroke=\"#000000\" d=\"M599.2869,-103.9815C598.2368,-95.618 597.1292,-86.7965 596.0675,-78.3409\"/>\n",
       "<polygon fill=\"#000000\" stroke=\"#000000\" points=\"599.5208,-77.7497 594.8022,-68.2637 592.5753,-78.6218 599.5208,-77.7497\"/>\n",
       "</g>\n",
       "<!-- 13 -->\n",
       "<g id=\"node14\" class=\"node\">\n",
       "<title>13</title>\n",
       "<path fill=\"#8139e5\" fill-opacity=\"0.913725\" stroke=\"#000000\" d=\"M780.5,-68C780.5,-68 684.5,-68 684.5,-68 678.5,-68 672.5,-62 672.5,-56 672.5,-56 672.5,-12 672.5,-12 672.5,-6 678.5,0 684.5,0 684.5,0 780.5,0 780.5,0 786.5,0 792.5,-6 792.5,-12 792.5,-12 792.5,-56 792.5,-56 792.5,-62 786.5,-68 780.5,-68\"/>\n",
       "<text text-anchor=\"start\" x=\"683.5\" y=\"-52.8\" font-family=\"Helvetica,sans-Serif\" font-size=\"14.00\" fill=\"#000000\">entropy = 0.402</text>\n",
       "<text text-anchor=\"start\" x=\"690.5\" y=\"-37.8\" font-family=\"Helvetica,sans-Serif\" font-size=\"14.00\" fill=\"#000000\">samples = 50</text>\n",
       "<text text-anchor=\"start\" x=\"680.5\" y=\"-22.8\" font-family=\"Helvetica,sans-Serif\" font-size=\"14.00\" fill=\"#000000\">value = [4, 0, 46]</text>\n",
       "<text text-anchor=\"start\" x=\"703.5\" y=\"-7.8\" font-family=\"Helvetica,sans-Serif\" font-size=\"14.00\" fill=\"#000000\">class = C</text>\n",
       "</g>\n",
       "<!-- 11&#45;&gt;13 -->\n",
       "<g id=\"edge13\" class=\"edge\">\n",
       "<title>11&#45;&gt;13</title>\n",
       "<path fill=\"none\" stroke=\"#000000\" d=\"M652.1625,-103.9815C663.0297,-94.5151 674.5705,-84.462 685.4135,-75.0168\"/>\n",
       "<polygon fill=\"#000000\" stroke=\"#000000\" points=\"687.9245,-77.4712 693.1659,-68.2637 683.3266,-72.1929 687.9245,-77.4712\"/>\n",
       "</g>\n",
       "<!-- 15 -->\n",
       "<g id=\"node16\" class=\"node\">\n",
       "<title>15</title>\n",
       "<path fill=\"#e58139\" stroke=\"#000000\" d=\"M854.5,-179.5C854.5,-179.5 742.5,-179.5 742.5,-179.5 736.5,-179.5 730.5,-173.5 730.5,-167.5 730.5,-167.5 730.5,-123.5 730.5,-123.5 730.5,-117.5 736.5,-111.5 742.5,-111.5 742.5,-111.5 854.5,-111.5 854.5,-111.5 860.5,-111.5 866.5,-117.5 866.5,-123.5 866.5,-123.5 866.5,-167.5 866.5,-167.5 866.5,-173.5 860.5,-179.5 854.5,-179.5\"/>\n",
       "<text text-anchor=\"start\" x=\"757\" y=\"-164.3\" font-family=\"Helvetica,sans-Serif\" font-size=\"14.00\" fill=\"#000000\">entropy = 0.0</text>\n",
       "<text text-anchor=\"start\" x=\"748.5\" y=\"-149.3\" font-family=\"Helvetica,sans-Serif\" font-size=\"14.00\" fill=\"#000000\">samples = 7266</text>\n",
       "<text text-anchor=\"start\" x=\"738.5\" y=\"-134.3\" font-family=\"Helvetica,sans-Serif\" font-size=\"14.00\" fill=\"#000000\">value = [7266, 0, 0]</text>\n",
       "<text text-anchor=\"start\" x=\"769.5\" y=\"-119.3\" font-family=\"Helvetica,sans-Serif\" font-size=\"14.00\" fill=\"#000000\">class = A</text>\n",
       "</g>\n",
       "<!-- 14&#45;&gt;15 -->\n",
       "<g id=\"edge15\" class=\"edge\">\n",
       "<title>14&#45;&gt;15</title>\n",
       "<path fill=\"none\" stroke=\"#000000\" d=\"M798.5,-222.8796C798.5,-212.2134 798.5,-200.7021 798.5,-189.9015\"/>\n",
       "<polygon fill=\"#000000\" stroke=\"#000000\" points=\"802.0001,-189.8149 798.5,-179.8149 795.0001,-189.815 802.0001,-189.8149\"/>\n",
       "</g>\n",
       "<!-- 16 -->\n",
       "<g id=\"node17\" class=\"node\">\n",
       "<title>16</title>\n",
       "<path fill=\"#e58139\" fill-opacity=\"0.545098\" stroke=\"#000000\" d=\"M1050,-187C1050,-187 897,-187 897,-187 891,-187 885,-181 885,-175 885,-175 885,-116 885,-116 885,-110 891,-104 897,-104 897,-104 1050,-104 1050,-104 1056,-104 1062,-110 1062,-116 1062,-116 1062,-175 1062,-175 1062,-181 1056,-187 1050,-187\"/>\n",
       "<text text-anchor=\"start\" x=\"893\" y=\"-171.8\" font-family=\"Helvetica,sans-Serif\" font-size=\"14.00\" fill=\"#000000\">INSPECTION TYPE ≤ 7.5</text>\n",
       "<text text-anchor=\"start\" x=\"924.5\" y=\"-156.8\" font-family=\"Helvetica,sans-Serif\" font-size=\"14.00\" fill=\"#000000\">entropy = 1.182</text>\n",
       "<text text-anchor=\"start\" x=\"919.5\" y=\"-141.8\" font-family=\"Helvetica,sans-Serif\" font-size=\"14.00\" fill=\"#000000\">samples = 10188</text>\n",
       "<text text-anchor=\"start\" x=\"894\" y=\"-126.8\" font-family=\"Helvetica,sans-Serif\" font-size=\"14.00\" fill=\"#000000\">value = [6759, 2649, 780]</text>\n",
       "<text text-anchor=\"start\" x=\"944.5\" y=\"-111.8\" font-family=\"Helvetica,sans-Serif\" font-size=\"14.00\" fill=\"#000000\">class = A</text>\n",
       "</g>\n",
       "<!-- 14&#45;&gt;16 -->\n",
       "<g id=\"edge16\" class=\"edge\">\n",
       "<title>14&#45;&gt;16</title>\n",
       "<path fill=\"none\" stroke=\"#000000\" d=\"M859.7065,-222.8796C873.9606,-213.1868 889.241,-202.7961 903.8307,-192.8752\"/>\n",
       "<polygon fill=\"#000000\" stroke=\"#000000\" points=\"906.0269,-195.6143 912.3281,-187.0969 902.0907,-189.8258 906.0269,-195.6143\"/>\n",
       "</g>\n",
       "<!-- 17 -->\n",
       "<g id=\"node18\" class=\"node\">\n",
       "<title>17</title>\n",
       "<path fill=\"#e58139\" fill-opacity=\"0.549020\" stroke=\"#000000\" d=\"M1018,-68C1018,-68 867,-68 867,-68 861,-68 855,-62 855,-56 855,-56 855,-12 855,-12 855,-6 861,0 867,0 867,0 1018,0 1018,0 1024,0 1030,-6 1030,-12 1030,-12 1030,-56 1030,-56 1030,-62 1024,-68 1018,-68\"/>\n",
       "<text text-anchor=\"start\" x=\"893.5\" y=\"-52.8\" font-family=\"Helvetica,sans-Serif\" font-size=\"14.00\" fill=\"#000000\">entropy = 1.162</text>\n",
       "<text text-anchor=\"start\" x=\"888.5\" y=\"-37.8\" font-family=\"Helvetica,sans-Serif\" font-size=\"14.00\" fill=\"#000000\">samples = 10111</text>\n",
       "<text text-anchor=\"start\" x=\"863\" y=\"-22.8\" font-family=\"Helvetica,sans-Serif\" font-size=\"14.00\" fill=\"#000000\">value = [6759, 2649, 703]</text>\n",
       "<text text-anchor=\"start\" x=\"913.5\" y=\"-7.8\" font-family=\"Helvetica,sans-Serif\" font-size=\"14.00\" fill=\"#000000\">class = A</text>\n",
       "</g>\n",
       "<!-- 16&#45;&gt;17 -->\n",
       "<g id=\"edge17\" class=\"edge\">\n",
       "<title>16&#45;&gt;17</title>\n",
       "<path fill=\"none\" stroke=\"#000000\" d=\"M961.9567,-103.9815C959.6059,-95.5261 957.1249,-86.6026 954.7505,-78.0623\"/>\n",
       "<polygon fill=\"#000000\" stroke=\"#000000\" points=\"958.0771,-76.9607 952.0262,-68.2637 951.3329,-78.8358 958.0771,-76.9607\"/>\n",
       "</g>\n",
       "<!-- 18 -->\n",
       "<g id=\"node19\" class=\"node\">\n",
       "<title>18</title>\n",
       "<path fill=\"#8139e5\" stroke=\"#000000\" d=\"M1156.5,-68C1156.5,-68 1060.5,-68 1060.5,-68 1054.5,-68 1048.5,-62 1048.5,-56 1048.5,-56 1048.5,-12 1048.5,-12 1048.5,-6 1054.5,0 1060.5,0 1060.5,0 1156.5,0 1156.5,0 1162.5,0 1168.5,-6 1168.5,-12 1168.5,-12 1168.5,-56 1168.5,-56 1168.5,-62 1162.5,-68 1156.5,-68\"/>\n",
       "<text text-anchor=\"start\" x=\"1067\" y=\"-52.8\" font-family=\"Helvetica,sans-Serif\" font-size=\"14.00\" fill=\"#000000\">entropy = 0.0</text>\n",
       "<text text-anchor=\"start\" x=\"1066.5\" y=\"-37.8\" font-family=\"Helvetica,sans-Serif\" font-size=\"14.00\" fill=\"#000000\">samples = 77</text>\n",
       "<text text-anchor=\"start\" x=\"1056.5\" y=\"-22.8\" font-family=\"Helvetica,sans-Serif\" font-size=\"14.00\" fill=\"#000000\">value = [0, 0, 77]</text>\n",
       "<text text-anchor=\"start\" x=\"1079.5\" y=\"-7.8\" font-family=\"Helvetica,sans-Serif\" font-size=\"14.00\" fill=\"#000000\">class = C</text>\n",
       "</g>\n",
       "<!-- 16&#45;&gt;18 -->\n",
       "<g id=\"edge18\" class=\"edge\">\n",
       "<title>16&#45;&gt;18</title>\n",
       "<path fill=\"none\" stroke=\"#000000\" d=\"M1023.769,-103.9815C1035.3418,-94.4232 1047.6389,-84.2668 1059.1713,-74.7419\"/>\n",
       "<polygon fill=\"#000000\" stroke=\"#000000\" points=\"1061.5334,-77.3304 1067.0148,-68.2637 1057.0757,-71.9332 1061.5334,-77.3304\"/>\n",
       "</g>\n",
       "</g>\n",
       "</svg>\n"
      ],
      "text/plain": [
       "<graphviz.files.Source at 0x1163f2b00>"
      ]
     },
     "execution_count": 32,
     "metadata": {},
     "output_type": "execute_result"
    }
   ],
   "source": [
    "import graphviz \n",
    "dot_data = tree.export_graphviz(estimator, out_file=None,\n",
    "                                feature_names=X.keys(),\n",
    "                                class_names=np.unique(Y),\n",
    "                                filled=True, rounded=True,\n",
    "                                special_characters=True)  \n",
    "graph = graphviz.Source(dot_data)  \n",
    "graph"
   ]
  },
  {
   "cell_type": "code",
   "execution_count": 33,
   "metadata": {},
   "outputs": [
    {
     "name": "stdout",
     "output_type": "stream",
     "text": [
      "The accuracy on test set is 81.8%\n"
     ]
    }
   ],
   "source": [
    "y_predicted_test = estimator.predict(X_test)\n",
    "accuracy_test = np.mean(y_test == y_predicted_test) * 100\n",
    "print(\"The accuracy on test set is {0:.1f}%\".format(accuracy_test))"
   ]
  },
  {
   "cell_type": "code",
   "execution_count": 34,
   "metadata": {},
   "outputs": [
    {
     "name": "stdout",
     "output_type": "stream",
     "text": [
      "[[38589     0     2]\n",
      " [ 6997     0     2]\n",
      " [ 1628     0   120]]\n"
     ]
    }
   ],
   "source": [
    "from sklearn.metrics import confusion_matrix\n",
    "print(confusion_matrix(y_test, y_predicted_test))"
   ]
  },
  {
   "cell_type": "code",
   "execution_count": 35,
   "metadata": {},
   "outputs": [
    {
     "name": "stderr",
     "output_type": "stream",
     "text": [
      "/anaconda3/lib/python3.6/site-packages/ipykernel_launcher.py:7: SettingWithCopyWarning: \n",
      "A value is trying to be set on a copy of a slice from a DataFrame.\n",
      "Try using .loc[row_indexer,col_indexer] = value instead\n",
      "\n",
      "See the caveats in the documentation: http://pandas.pydata.org/pandas-docs/stable/indexing.html#indexing-view-versus-copy\n",
      "  import sys\n"
     ]
    }
   ],
   "source": [
    "#Classification method with Random forest to predict GRADE\n",
    "\n",
    "Y = dt[['GRADE']]\n",
    "from sklearn.preprocessing import LabelEncoder\n",
    "for col in Y.columns[:]:\n",
    "    le = LabelEncoder()\n",
    "    Y[col] = le.fit_transform(Y[col])"
   ]
  },
  {
   "cell_type": "code",
   "execution_count": 36,
   "metadata": {},
   "outputs": [],
   "source": [
    "from sklearn.ensemble import RandomForestRegressor\n",
    "from sklearn.model_selection import train_test_split\n",
    "\n",
    "X_train, X_test, y_train, y_test = train_test_split(X, Y, test_size= 0.25, random_state=14)"
   ]
  },
  {
   "cell_type": "code",
   "execution_count": 37,
   "metadata": {},
   "outputs": [
    {
     "name": "stderr",
     "output_type": "stream",
     "text": [
      "/anaconda3/lib/python3.6/site-packages/ipykernel_launcher.py:7: DataConversionWarning: A column-vector y was passed when a 1d array was expected. Please change the shape of y to (n_samples,), for example using ravel().\n",
      "  import sys\n"
     ]
    }
   ],
   "source": [
    "from sklearn.ensemble import RandomForestClassifier\n",
    "\n",
    "#Create a Gaussian Classifier\n",
    "clf=RandomForestClassifier(n_estimators=100)\n",
    "\n",
    "#Train the model using the training sets y_pred=clf.predict(X_test)\n",
    "clf.fit(X_train, y_train)\n",
    "\n",
    "y_pred=clf.predict(X_test)"
   ]
  },
  {
   "cell_type": "code",
   "execution_count": 38,
   "metadata": {},
   "outputs": [
    {
     "name": "stderr",
     "output_type": "stream",
     "text": [
      "/anaconda3/lib/python3.6/site-packages/ipykernel_launcher.py:7: DataConversionWarning: A column-vector y was passed when a 1d array was expected. Please change the shape of y to (n_samples,), for example using ravel().\n",
      "  import sys\n"
     ]
    }
   ],
   "source": [
    "from sklearn.ensemble import RandomForestClassifier\n",
    "\n",
    "#Create a Gaussian Classifier\n",
    "clf=RandomForestClassifier(n_estimators=100)\n",
    "\n",
    "#Train the model using the training sets y_pred=clf.predict(X_test)\n",
    "clf.fit(X_train, y_train)\n",
    "\n",
    "y_pred1=clf.predict(X_train)"
   ]
  },
  {
   "cell_type": "code",
   "execution_count": 39,
   "metadata": {},
   "outputs": [
    {
     "name": "stdout",
     "output_type": "stream",
     "text": [
      "Accuracy test set: 0.8155393130254763\n"
     ]
    }
   ],
   "source": [
    "#Import scikit-learn metrics module for accuracy calculation\n",
    "from sklearn import metrics\n",
    "# Model Accuracy, how often is the classifier correct?\n",
    "print(\"Accuracy test set:\",metrics.accuracy_score(y_test, y_pred))"
   ]
  },
  {
   "cell_type": "code",
   "execution_count": 40,
   "metadata": {},
   "outputs": [
    {
     "name": "stdout",
     "output_type": "stream",
     "text": [
      "Accuracy training set: 0.8220796687627189\n"
     ]
    }
   ],
   "source": [
    "#Import scikit-learn metrics module for accuracy calculation\n",
    "from sklearn import metrics\n",
    "# Training set accuracy\n",
    "print(\"Accuracy training set:\",metrics.accuracy_score(y_train, y_pred1))"
   ]
  },
  {
   "cell_type": "code",
   "execution_count": 41,
   "metadata": {},
   "outputs": [
    {
     "name": "stdout",
     "output_type": "stream",
     "text": [
      "[[38141   272    31]\n",
      " [ 6823   296    18]\n",
      " [ 1558    30   169]]\n"
     ]
    }
   ],
   "source": [
    "from sklearn.metrics import confusion_matrix\n",
    "print(confusion_matrix(y_test, y_pred))"
   ]
  },
  {
   "cell_type": "code",
   "execution_count": 45,
   "metadata": {},
   "outputs": [
    {
     "data": {
      "text/plain": [
       "(0.8, 0.83)"
      ]
     },
     "execution_count": 45,
     "metadata": {},
     "output_type": "execute_result"
    },
    {
     "data": {
      "image/png": "[encoded data removed]",
      "text/plain": [
       "<Figure size 432x288 with 1 Axes>"
      ]
     },
     "metadata": {
      "needs_background": "light"
     },
     "output_type": "display_data"
    }
   ],
   "source": [
    "import numpy as np\n",
    "import matplotlib.pyplot as plt\n",
    " \n",
    "Accuracy = ('LR ACC ', 'DT ACC', 'RF ACC', 'KM ACC')\n",
    "performance = [0.82, 0.818, 0.815, 0.814]\n",
    "y_pos = performance\n",
    " \n",
    "plt.bar(Accuracy, performance, align='center', alpha=0.5)\n",
    "plt.xticks(Accuracy)\n",
    "plt.ylabel('Level of Accuracy')\n",
    "plt.title('Supervised methods')\n",
    "plt.ylim((0.8,0.83))"
   ]
  },
  {
   "cell_type": "code",
   "execution_count": null,
   "metadata": {},
   "outputs": [],
   "source": []
  }
 ],
 "metadata": {
  "kernelspec": {
   "display_name": "Python 3",
   "language": "python",
   "name": "python3"
  },
  "language_info": {
   "codemirror_mode": {
    "name": "ipython",
    "version": 3
   },
   "file_extension": ".py",
   "mimetype": "text/x-python",
   "name": "python",
   "nbconvert_exporter": "python",
   "pygments_lexer": "ipython3",
   "version": "3.6.8"
  },
  "varInspector": {
   "cols": {
    "lenName": 16,
    "lenType": 16,
    "lenVar": 40
   },
   "kernels_config": {
    "python": {
     "delete_cmd_postfix": "",
     "delete_cmd_prefix": "del ",
     "library": "var_list.py",
     "varRefreshCmd": "print(var_dic_list())"
    },
    "r": {
     "delete_cmd_postfix": ") ",
     "delete_cmd_prefix": "rm(",
     "library": "var_list.r",
     "varRefreshCmd": "cat(var_dic_list()) "
    }
   },
   "types_to_exclude": [
    "module",
    "function",
    "builtin_function_or_method",
    "instance",
    "_Feature"
   ],
   "window_display": false
  }
 },
 "nbformat": 4,
 "nbformat_minor": 2
}
