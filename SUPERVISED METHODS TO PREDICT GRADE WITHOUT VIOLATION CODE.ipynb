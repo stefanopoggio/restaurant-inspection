{
 "cells": [
  {
   "cell_type": "code",
   "execution_count": 18,
   "metadata": {},
   "outputs": [
    {
     "data": {
      "text/html": [
       "<div>\n",
       "<style scoped>\n",
       "    .dataframe tbody tr th:only-of-type {\n",
       "        vertical-align: middle;\n",
       "    }\n",
       "\n",
       "    .dataframe tbody tr th {\n",
       "        vertical-align: top;\n",
       "    }\n",
       "\n",
       "    .dataframe thead th {\n",
       "        text-align: right;\n",
       "    }\n",
       "</style>\n",
       "<table border=\"1\" class=\"dataframe\">\n",
       "  <thead>\n",
       "    <tr style=\"text-align: right;\">\n",
       "      <th></th>\n",
       "      <th>CAMIS</th>\n",
       "      <th>DBA</th>\n",
       "      <th>BORO</th>\n",
       "      <th>BUILDING</th>\n",
       "      <th>STREET</th>\n",
       "      <th>ZIPCODE</th>\n",
       "      <th>PHONE</th>\n",
       "      <th>CUISINE DESCRIPTION</th>\n",
       "      <th>INSPECTION DATE</th>\n",
       "      <th>ACTION</th>\n",
       "      <th>VIOLATION CODE</th>\n",
       "      <th>VIOLATION DESCRIPTION</th>\n",
       "      <th>CRITICAL FLAG</th>\n",
       "      <th>SCORE</th>\n",
       "      <th>GRADE</th>\n",
       "      <th>GRADE DATE</th>\n",
       "      <th>RECORD DATE</th>\n",
       "      <th>INSPECTION TYPE</th>\n",
       "    </tr>\n",
       "  </thead>\n",
       "  <tbody>\n",
       "    <tr>\n",
       "      <th>0</th>\n",
       "      <td>40511702</td>\n",
       "      <td>NOTARO RESTAURANT</td>\n",
       "      <td>MANHATTAN</td>\n",
       "      <td>635</td>\n",
       "      <td>SECOND AVENUE</td>\n",
       "      <td>10016.0</td>\n",
       "      <td>2126863400</td>\n",
       "      <td>Italian</td>\n",
       "      <td>06/15/2015</td>\n",
       "      <td>Violations were cited in the following area(s).</td>\n",
       "      <td>02B</td>\n",
       "      <td>Hot food item not held at or above 140Âº F.</td>\n",
       "      <td>Critical</td>\n",
       "      <td>30.0</td>\n",
       "      <td>NaN</td>\n",
       "      <td>NaN</td>\n",
       "      <td>08/28/2017</td>\n",
       "      <td>Cycle Inspection / Initial Inspection</td>\n",
       "    </tr>\n",
       "    <tr>\n",
       "      <th>1</th>\n",
       "      <td>40511702</td>\n",
       "      <td>NOTARO RESTAURANT</td>\n",
       "      <td>MANHATTAN</td>\n",
       "      <td>635</td>\n",
       "      <td>SECOND AVENUE</td>\n",
       "      <td>10016.0</td>\n",
       "      <td>2126863400</td>\n",
       "      <td>Italian</td>\n",
       "      <td>11/25/2014</td>\n",
       "      <td>Violations were cited in the following area(s).</td>\n",
       "      <td>20F</td>\n",
       "      <td>Current letter grade card not posted.</td>\n",
       "      <td>Not Critical</td>\n",
       "      <td>NaN</td>\n",
       "      <td>NaN</td>\n",
       "      <td>NaN</td>\n",
       "      <td>08/28/2017</td>\n",
       "      <td>Administrative Miscellaneous / Initial Inspection</td>\n",
       "    </tr>\n",
       "    <tr>\n",
       "      <th>2</th>\n",
       "      <td>50046354</td>\n",
       "      <td>VITE BAR</td>\n",
       "      <td>QUEENS</td>\n",
       "      <td>2507</td>\n",
       "      <td>BROADWAY</td>\n",
       "      <td>11106.0</td>\n",
       "      <td>3478134702</td>\n",
       "      <td>Italian</td>\n",
       "      <td>10/03/2016</td>\n",
       "      <td>Violations were cited in the following area(s).</td>\n",
       "      <td>10F</td>\n",
       "      <td>Non-food contact surface improperly constructe...</td>\n",
       "      <td>Not Critical</td>\n",
       "      <td>2.0</td>\n",
       "      <td>NaN</td>\n",
       "      <td>NaN</td>\n",
       "      <td>08/28/2017</td>\n",
       "      <td>Pre-permit (Operational) / Initial Inspection</td>\n",
       "    </tr>\n",
       "    <tr>\n",
       "      <th>3</th>\n",
       "      <td>50061389</td>\n",
       "      <td>TACK'S CHINESE TAKE OUT</td>\n",
       "      <td>STATEN ISLAND</td>\n",
       "      <td>11C</td>\n",
       "      <td>HOLDEN BLVD</td>\n",
       "      <td>10314.0</td>\n",
       "      <td>7189839854</td>\n",
       "      <td>Chinese</td>\n",
       "      <td>05/17/2017</td>\n",
       "      <td>Violations were cited in the following area(s).</td>\n",
       "      <td>02G</td>\n",
       "      <td>Cold food item held above 41Âº F (smoked fish ...</td>\n",
       "      <td>Critical</td>\n",
       "      <td>46.0</td>\n",
       "      <td>NaN</td>\n",
       "      <td>NaN</td>\n",
       "      <td>08/28/2017</td>\n",
       "      <td>Pre-permit (Operational) / Initial Inspection</td>\n",
       "    </tr>\n",
       "    <tr>\n",
       "      <th>4</th>\n",
       "      <td>41516263</td>\n",
       "      <td>NO QUARTER</td>\n",
       "      <td>BROOKLYN</td>\n",
       "      <td>8015</td>\n",
       "      <td>5 AVENUE</td>\n",
       "      <td>11209.0</td>\n",
       "      <td>7187019180</td>\n",
       "      <td>American</td>\n",
       "      <td>03/30/2017</td>\n",
       "      <td>Violations were cited in the following area(s).</td>\n",
       "      <td>04M</td>\n",
       "      <td>Live roaches present in facility's food and/or...</td>\n",
       "      <td>Critical</td>\n",
       "      <td>18.0</td>\n",
       "      <td>NaN</td>\n",
       "      <td>NaN</td>\n",
       "      <td>08/28/2017</td>\n",
       "      <td>Cycle Inspection / Initial Inspection</td>\n",
       "    </tr>\n",
       "  </tbody>\n",
       "</table>\n",
       "</div>"
      ],
      "text/plain": [
       "      CAMIS                      DBA           BORO BUILDING         STREET  \\\n",
       "0  40511702        NOTARO RESTAURANT      MANHATTAN      635  SECOND AVENUE   \n",
       "1  40511702        NOTARO RESTAURANT      MANHATTAN      635  SECOND AVENUE   \n",
       "2  50046354                 VITE BAR         QUEENS     2507       BROADWAY   \n",
       "3  50061389  TACK'S CHINESE TAKE OUT  STATEN ISLAND      11C    HOLDEN BLVD   \n",
       "4  41516263               NO QUARTER       BROOKLYN     8015       5 AVENUE   \n",
       "\n",
       "   ZIPCODE       PHONE CUISINE DESCRIPTION INSPECTION DATE  \\\n",
       "0  10016.0  2126863400             Italian      06/15/2015   \n",
       "1  10016.0  2126863400             Italian      11/25/2014   \n",
       "2  11106.0  3478134702             Italian      10/03/2016   \n",
       "3  10314.0  7189839854             Chinese      05/17/2017   \n",
       "4  11209.0  7187019180            American      03/30/2017   \n",
       "\n",
       "                                            ACTION VIOLATION CODE  \\\n",
       "0  Violations were cited in the following area(s).            02B   \n",
       "1  Violations were cited in the following area(s).            20F   \n",
       "2  Violations were cited in the following area(s).            10F   \n",
       "3  Violations were cited in the following area(s).            02G   \n",
       "4  Violations were cited in the following area(s).            04M   \n",
       "\n",
       "                               VIOLATION DESCRIPTION CRITICAL FLAG  SCORE  \\\n",
       "0        Hot food item not held at or above 140Âº F.      Critical   30.0   \n",
       "1              Current letter grade card not posted.  Not Critical    NaN   \n",
       "2  Non-food contact surface improperly constructe...  Not Critical    2.0   \n",
       "3  Cold food item held above 41Âº F (smoked fish ...      Critical   46.0   \n",
       "4  Live roaches present in facility's food and/or...      Critical   18.0   \n",
       "\n",
       "  GRADE GRADE DATE RECORD DATE  \\\n",
       "0   NaN        NaN  08/28/2017   \n",
       "1   NaN        NaN  08/28/2017   \n",
       "2   NaN        NaN  08/28/2017   \n",
       "3   NaN        NaN  08/28/2017   \n",
       "4   NaN        NaN  08/28/2017   \n",
       "\n",
       "                                     INSPECTION TYPE  \n",
       "0              Cycle Inspection / Initial Inspection  \n",
       "1  Administrative Miscellaneous / Initial Inspection  \n",
       "2      Pre-permit (Operational) / Initial Inspection  \n",
       "3      Pre-permit (Operational) / Initial Inspection  \n",
       "4              Cycle Inspection / Initial Inspection  "
      ]
     },
     "execution_count": 18,
     "metadata": {},
     "output_type": "execute_result"
    }
   ],
   "source": [
    "import pandas as pd\n",
    "import numpy as np\n",
    "import matplotlib.pyplot as plt\n",
    "%matplotlib inline\n",
    "rnd_state=42\n",
    "np.random.seed(rnd_state)\n",
    "\n",
    "df = pd.read_csv('DOHMH_New_York_City_Restaurant_Inspection_Results.csv', sep = ',')\n",
    "df.head()"
   ]
  },
  {
   "cell_type": "code",
   "execution_count": 19,
   "metadata": {},
   "outputs": [],
   "source": [
    "\n",
    "import numpy as np\n",
    "import pandas as pd\n",
    "import seaborn as sns\n",
    "import matplotlib.pyplot as plt"
   ]
  },
  {
   "cell_type": "code",
   "execution_count": 20,
   "metadata": {},
   "outputs": [
    {
     "name": "stdout",
     "output_type": "stream",
     "text": [
      "The original dataset is made of 399918 entries.\n"
     ]
    }
   ],
   "source": [
    "original_len = len(df)\n",
    "print('The original dataset is made of %d entries.' %(original_len))"
   ]
  },
  {
   "cell_type": "code",
   "execution_count": 21,
   "metadata": {},
   "outputs": [
    {
     "name": "stdout",
     "output_type": "stream",
     "text": [
      "1135 points had invalid dates.\n"
     ]
    }
   ],
   "source": [
    "df['INSPECTION DATE'] = pd.to_datetime(df['INSPECTION DATE'])\n",
    "df = df[df['INSPECTION DATE'] > '2009-12-31']\n",
    "df['MONTH']=pd.DatetimeIndex(df['INSPECTION DATE']).month\n",
    "\n",
    "print('%d points had invalid dates.' %(original_len-len(df)))"
   ]
  },
  {
   "cell_type": "code",
   "execution_count": 22,
   "metadata": {},
   "outputs": [],
   "source": [
    "\n",
    "cuisine_counts = {}\n",
    "major_cuisines = []\n",
    "threshold = 0.03 # Threshold to discriminate the presence of restaurants.\n",
    "                # At the moment it selects cuisines that represent 97% of restaurants.\n",
    "for i in df['CUISINE DESCRIPTION'].unique():\n",
    "    cuisine_counts[i] = float(len(df[df['CUISINE DESCRIPTION']==i]))\n",
    "\n",
    "major_cuisines = [i for i in cuisine_counts.keys() if cuisine_counts[i]/sum(cuisine_counts.values()) > threshold]"
   ]
  },
  {
   "cell_type": "code",
   "execution_count": 23,
   "metadata": {},
   "outputs": [],
   "source": [
    "season_dict = {}\n",
    "for month in range(1,13):\n",
    "    if month > 2 and month < 6:\n",
    "        season_dict[month] = 'Spring'\n",
    "    elif month > 2 and month < 9:\n",
    "        season_dict[month] = 'Summer'\n",
    "    elif month > 2 and month < 12:\n",
    "        season_dict[month] = 'Fall'\n",
    "    else:\n",
    "        season_dict[month] = 'Winter'\n",
    "\n",
    "df['SEASON'] = df['MONTH'].map(season_dict)"
   ]
  },
  {
   "cell_type": "code",
   "execution_count": 24,
   "metadata": {},
   "outputs": [
    {
     "data": {
      "text/html": [
       "<div>\n",
       "<style scoped>\n",
       "    .dataframe tbody tr th:only-of-type {\n",
       "        vertical-align: middle;\n",
       "    }\n",
       "\n",
       "    .dataframe tbody tr th {\n",
       "        vertical-align: top;\n",
       "    }\n",
       "\n",
       "    .dataframe thead th {\n",
       "        text-align: right;\n",
       "    }\n",
       "</style>\n",
       "<table border=\"1\" class=\"dataframe\">\n",
       "  <thead>\n",
       "    <tr style=\"text-align: right;\">\n",
       "      <th></th>\n",
       "      <th>CAMIS</th>\n",
       "      <th>DBA</th>\n",
       "      <th>BORO</th>\n",
       "      <th>BUILDING</th>\n",
       "      <th>STREET</th>\n",
       "      <th>ZIPCODE</th>\n",
       "      <th>PHONE</th>\n",
       "      <th>CUISINE DESCRIPTION</th>\n",
       "      <th>INSPECTION DATE</th>\n",
       "      <th>ACTION</th>\n",
       "      <th>VIOLATION CODE</th>\n",
       "      <th>VIOLATION DESCRIPTION</th>\n",
       "      <th>CRITICAL FLAG</th>\n",
       "      <th>SCORE</th>\n",
       "      <th>GRADE</th>\n",
       "      <th>GRADE DATE</th>\n",
       "      <th>RECORD DATE</th>\n",
       "      <th>INSPECTION TYPE</th>\n",
       "      <th>MONTH</th>\n",
       "      <th>SEASON</th>\n",
       "    </tr>\n",
       "  </thead>\n",
       "  <tbody>\n",
       "    <tr>\n",
       "      <th>0</th>\n",
       "      <td>40511702</td>\n",
       "      <td>NOTARO RESTAURANT</td>\n",
       "      <td>MANHATTAN</td>\n",
       "      <td>635</td>\n",
       "      <td>SECOND AVENUE</td>\n",
       "      <td>10016.0</td>\n",
       "      <td>2126863400</td>\n",
       "      <td>Italian</td>\n",
       "      <td>2015-06-15</td>\n",
       "      <td>Violations were cited in the following area(s).</td>\n",
       "      <td>02B</td>\n",
       "      <td>Hot food item not held at or above 140Âº F.</td>\n",
       "      <td>Critical</td>\n",
       "      <td>30.0</td>\n",
       "      <td>NaN</td>\n",
       "      <td>NaN</td>\n",
       "      <td>08/28/2017</td>\n",
       "      <td>Cycle Inspection / Initial Inspection</td>\n",
       "      <td>6</td>\n",
       "      <td>Summer</td>\n",
       "    </tr>\n",
       "    <tr>\n",
       "      <th>1</th>\n",
       "      <td>40511702</td>\n",
       "      <td>NOTARO RESTAURANT</td>\n",
       "      <td>MANHATTAN</td>\n",
       "      <td>635</td>\n",
       "      <td>SECOND AVENUE</td>\n",
       "      <td>10016.0</td>\n",
       "      <td>2126863400</td>\n",
       "      <td>Italian</td>\n",
       "      <td>2014-11-25</td>\n",
       "      <td>Violations were cited in the following area(s).</td>\n",
       "      <td>20F</td>\n",
       "      <td>Current letter grade card not posted.</td>\n",
       "      <td>Not Critical</td>\n",
       "      <td>NaN</td>\n",
       "      <td>NaN</td>\n",
       "      <td>NaN</td>\n",
       "      <td>08/28/2017</td>\n",
       "      <td>Administrative Miscellaneous / Initial Inspection</td>\n",
       "      <td>11</td>\n",
       "      <td>Fall</td>\n",
       "    </tr>\n",
       "    <tr>\n",
       "      <th>2</th>\n",
       "      <td>50046354</td>\n",
       "      <td>VITE BAR</td>\n",
       "      <td>QUEENS</td>\n",
       "      <td>2507</td>\n",
       "      <td>BROADWAY</td>\n",
       "      <td>11106.0</td>\n",
       "      <td>3478134702</td>\n",
       "      <td>Italian</td>\n",
       "      <td>2016-10-03</td>\n",
       "      <td>Violations were cited in the following area(s).</td>\n",
       "      <td>10F</td>\n",
       "      <td>Non-food contact surface improperly constructe...</td>\n",
       "      <td>Not Critical</td>\n",
       "      <td>2.0</td>\n",
       "      <td>NaN</td>\n",
       "      <td>NaN</td>\n",
       "      <td>08/28/2017</td>\n",
       "      <td>Pre-permit (Operational) / Initial Inspection</td>\n",
       "      <td>10</td>\n",
       "      <td>Fall</td>\n",
       "    </tr>\n",
       "    <tr>\n",
       "      <th>3</th>\n",
       "      <td>50061389</td>\n",
       "      <td>TACK'S CHINESE TAKE OUT</td>\n",
       "      <td>STATEN ISLAND</td>\n",
       "      <td>11C</td>\n",
       "      <td>HOLDEN BLVD</td>\n",
       "      <td>10314.0</td>\n",
       "      <td>7189839854</td>\n",
       "      <td>Chinese</td>\n",
       "      <td>2017-05-17</td>\n",
       "      <td>Violations were cited in the following area(s).</td>\n",
       "      <td>02G</td>\n",
       "      <td>Cold food item held above 41Âº F (smoked fish ...</td>\n",
       "      <td>Critical</td>\n",
       "      <td>46.0</td>\n",
       "      <td>NaN</td>\n",
       "      <td>NaN</td>\n",
       "      <td>08/28/2017</td>\n",
       "      <td>Pre-permit (Operational) / Initial Inspection</td>\n",
       "      <td>5</td>\n",
       "      <td>Spring</td>\n",
       "    </tr>\n",
       "    <tr>\n",
       "      <th>4</th>\n",
       "      <td>41516263</td>\n",
       "      <td>NO QUARTER</td>\n",
       "      <td>BROOKLYN</td>\n",
       "      <td>8015</td>\n",
       "      <td>5 AVENUE</td>\n",
       "      <td>11209.0</td>\n",
       "      <td>7187019180</td>\n",
       "      <td>American</td>\n",
       "      <td>2017-03-30</td>\n",
       "      <td>Violations were cited in the following area(s).</td>\n",
       "      <td>04M</td>\n",
       "      <td>Live roaches present in facility's food and/or...</td>\n",
       "      <td>Critical</td>\n",
       "      <td>18.0</td>\n",
       "      <td>NaN</td>\n",
       "      <td>NaN</td>\n",
       "      <td>08/28/2017</td>\n",
       "      <td>Cycle Inspection / Initial Inspection</td>\n",
       "      <td>3</td>\n",
       "      <td>Spring</td>\n",
       "    </tr>\n",
       "  </tbody>\n",
       "</table>\n",
       "</div>"
      ],
      "text/plain": [
       "      CAMIS                      DBA           BORO BUILDING         STREET  \\\n",
       "0  40511702        NOTARO RESTAURANT      MANHATTAN      635  SECOND AVENUE   \n",
       "1  40511702        NOTARO RESTAURANT      MANHATTAN      635  SECOND AVENUE   \n",
       "2  50046354                 VITE BAR         QUEENS     2507       BROADWAY   \n",
       "3  50061389  TACK'S CHINESE TAKE OUT  STATEN ISLAND      11C    HOLDEN BLVD   \n",
       "4  41516263               NO QUARTER       BROOKLYN     8015       5 AVENUE   \n",
       "\n",
       "   ZIPCODE       PHONE CUISINE DESCRIPTION INSPECTION DATE  \\\n",
       "0  10016.0  2126863400             Italian      2015-06-15   \n",
       "1  10016.0  2126863400             Italian      2014-11-25   \n",
       "2  11106.0  3478134702             Italian      2016-10-03   \n",
       "3  10314.0  7189839854             Chinese      2017-05-17   \n",
       "4  11209.0  7187019180            American      2017-03-30   \n",
       "\n",
       "                                            ACTION VIOLATION CODE  \\\n",
       "0  Violations were cited in the following area(s).            02B   \n",
       "1  Violations were cited in the following area(s).            20F   \n",
       "2  Violations were cited in the following area(s).            10F   \n",
       "3  Violations were cited in the following area(s).            02G   \n",
       "4  Violations were cited in the following area(s).            04M   \n",
       "\n",
       "                               VIOLATION DESCRIPTION CRITICAL FLAG  SCORE  \\\n",
       "0        Hot food item not held at or above 140Âº F.      Critical   30.0   \n",
       "1              Current letter grade card not posted.  Not Critical    NaN   \n",
       "2  Non-food contact surface improperly constructe...  Not Critical    2.0   \n",
       "3  Cold food item held above 41Âº F (smoked fish ...      Critical   46.0   \n",
       "4  Live roaches present in facility's food and/or...      Critical   18.0   \n",
       "\n",
       "  GRADE GRADE DATE RECORD DATE  \\\n",
       "0   NaN        NaN  08/28/2017   \n",
       "1   NaN        NaN  08/28/2017   \n",
       "2   NaN        NaN  08/28/2017   \n",
       "3   NaN        NaN  08/28/2017   \n",
       "4   NaN        NaN  08/28/2017   \n",
       "\n",
       "                                     INSPECTION TYPE  MONTH  SEASON  \n",
       "0              Cycle Inspection / Initial Inspection      6  Summer  \n",
       "1  Administrative Miscellaneous / Initial Inspection     11    Fall  \n",
       "2      Pre-permit (Operational) / Initial Inspection     10    Fall  \n",
       "3      Pre-permit (Operational) / Initial Inspection      5  Spring  \n",
       "4              Cycle Inspection / Initial Inspection      3  Spring  "
      ]
     },
     "execution_count": 24,
     "metadata": {},
     "output_type": "execute_result"
    }
   ],
   "source": [
    "df.head()"
   ]
  },
  {
   "cell_type": "code",
   "execution_count": 25,
   "metadata": {},
   "outputs": [
    {
     "data": {
      "image/png": "[encoded data removed]",
      "text/plain": [
       "<Figure size 720x576 with 1 Axes>"
      ]
     },
     "metadata": {
      "needs_background": "light"
     },
     "output_type": "display_data"
    }
   ],
   "source": [
    "\n",
    "grades = df[df['GRADE'].isin(['A','B', 'C'])]\n",
    "fig = plt.figure(figsize=(10,8))\n",
    "#grades['GRADE'].value_counts()\n",
    "ax = sns.countplot(x='GRADE', hue='BORO', data=grades, order=grades['GRADE'].value_counts().index, hue_order=grades['BORO'].value_counts().index)\n",
    "ax.set_ylabel('Count', fontsize=20)\n",
    "ax.set_xlabel('Grade', fontsize=20)\n",
    "ax.tick_params(labelsize=15)\n",
    "ax = plt.legend(fontsize=15)"
   ]
  },
  {
   "cell_type": "code",
   "execution_count": 26,
   "metadata": {},
   "outputs": [],
   "source": [
    "dt = grades.loc[:, [\"CUISINE DESCRIPTION\", \"INSPECTION TYPE\", \"MONTH\", \"GRADE\"]]\n",
    "dt = dt.sample(frac=1).reset_index(drop=True) # Shuffle the samples to increase randomness.\n",
    "dt = dt.dropna()\n",
    "Y = dt['GRADE']\n",
    "X = dt.drop(dt.columns[-1], axis=1)"
   ]
  },
  {
   "cell_type": "code",
   "execution_count": 27,
   "metadata": {},
   "outputs": [
    {
     "data": {
      "text/html": [
       "<div>\n",
       "<style scoped>\n",
       "    .dataframe tbody tr th:only-of-type {\n",
       "        vertical-align: middle;\n",
       "    }\n",
       "\n",
       "    .dataframe tbody tr th {\n",
       "        vertical-align: top;\n",
       "    }\n",
       "\n",
       "    .dataframe thead th {\n",
       "        text-align: right;\n",
       "    }\n",
       "</style>\n",
       "<table border=\"1\" class=\"dataframe\">\n",
       "  <thead>\n",
       "    <tr style=\"text-align: right;\">\n",
       "      <th></th>\n",
       "      <th>CUISINE DESCRIPTION</th>\n",
       "      <th>INSPECTION TYPE</th>\n",
       "      <th>MONTH</th>\n",
       "    </tr>\n",
       "  </thead>\n",
       "  <tbody>\n",
       "    <tr>\n",
       "      <th>0</th>\n",
       "      <td>Mexican</td>\n",
       "      <td>Cycle Inspection / Re-inspection</td>\n",
       "      <td>5</td>\n",
       "    </tr>\n",
       "    <tr>\n",
       "      <th>1</th>\n",
       "      <td>Donuts</td>\n",
       "      <td>Cycle Inspection / Re-inspection</td>\n",
       "      <td>11</td>\n",
       "    </tr>\n",
       "    <tr>\n",
       "      <th>2</th>\n",
       "      <td>Pizza/Italian</td>\n",
       "      <td>Cycle Inspection / Initial Inspection</td>\n",
       "      <td>10</td>\n",
       "    </tr>\n",
       "    <tr>\n",
       "      <th>3</th>\n",
       "      <td>Caribbean</td>\n",
       "      <td>Cycle Inspection / Re-inspection</td>\n",
       "      <td>6</td>\n",
       "    </tr>\n",
       "    <tr>\n",
       "      <th>4</th>\n",
       "      <td>Latin (Cuban, Dominican, Puerto Rican, South &amp;...</td>\n",
       "      <td>Cycle Inspection / Re-inspection</td>\n",
       "      <td>3</td>\n",
       "    </tr>\n",
       "  </tbody>\n",
       "</table>\n",
       "</div>"
      ],
      "text/plain": [
       "                                 CUISINE DESCRIPTION  \\\n",
       "0                                            Mexican   \n",
       "1                                             Donuts   \n",
       "2                                      Pizza/Italian   \n",
       "3                                          Caribbean   \n",
       "4  Latin (Cuban, Dominican, Puerto Rican, South &...   \n",
       "\n",
       "                         INSPECTION TYPE  MONTH  \n",
       "0       Cycle Inspection / Re-inspection      5  \n",
       "1       Cycle Inspection / Re-inspection     11  \n",
       "2  Cycle Inspection / Initial Inspection     10  \n",
       "3       Cycle Inspection / Re-inspection      6  \n",
       "4       Cycle Inspection / Re-inspection      3  "
      ]
     },
     "execution_count": 27,
     "metadata": {},
     "output_type": "execute_result"
    }
   ],
   "source": [
    "X.head()"
   ]
  },
  {
   "cell_type": "code",
   "execution_count": 28,
   "metadata": {},
   "outputs": [
    {
     "data": {
      "text/plain": [
       "0    A\n",
       "1    A\n",
       "2    A\n",
       "3    B\n",
       "4    A\n",
       "Name: GRADE, dtype: object"
      ]
     },
     "execution_count": 28,
     "metadata": {},
     "output_type": "execute_result"
    }
   ],
   "source": [
    "Y.head()"
   ]
  },
  {
   "cell_type": "code",
   "execution_count": 29,
   "metadata": {},
   "outputs": [],
   "source": [
    "from sklearn.preprocessing import LabelEncoder\n",
    "for col in X.columns[:]:\n",
    "    le = LabelEncoder()\n",
    "    X[col] = le.fit_transform(X[col])"
   ]
  },
  {
   "cell_type": "code",
   "execution_count": 30,
   "metadata": {},
   "outputs": [],
   "source": [
    "#Supervised Method with Kmeans to predict GRADE\n",
    "\n",
    "from sklearn.cluster import KMeans\n",
    "import numpy as np\n",
    "km = KMeans(n_clusters=3, \n",
    "            init='random', \n",
    "            n_init=10, \n",
    "            max_iter=300,\n",
    "            tol=1e-04,\n",
    "            random_state=42)"
   ]
  },
  {
   "cell_type": "code",
   "execution_count": 31,
   "metadata": {},
   "outputs": [
    {
     "name": "stdout",
     "output_type": "stream",
     "text": [
      "[0 1 2]\n"
     ]
    }
   ],
   "source": [
    "y_km = km.fit_predict(X)\n",
    "labels = np.unique(y_km)\n",
    "print(labels)"
   ]
  },
  {
   "cell_type": "code",
   "execution_count": 32,
   "metadata": {},
   "outputs": [],
   "source": [
    "from collections import Counter\n",
    "cl_map = dict()\n",
    "for i in range(len(labels)):\n",
    "    counter = Counter(Y[y_km ==i])\n",
    "    cl_map[i] = counter.most_common(1)[0][0]\n",
    "y_km_class = [cl_map[i] for i in y_km]\n",
    "y_km_class = np.asarray(y_km_class)"
   ]
  },
  {
   "cell_type": "code",
   "execution_count": 33,
   "metadata": {},
   "outputs": [],
   "source": [
    "y_km_class[y_km_class!=Y]='Wrong'"
   ]
  },
  {
   "cell_type": "code",
   "execution_count": 34,
   "metadata": {},
   "outputs": [
    {
     "data": {
      "text/html": [
       "<div>\n",
       "<style scoped>\n",
       "    .dataframe tbody tr th:only-of-type {\n",
       "        vertical-align: middle;\n",
       "    }\n",
       "\n",
       "    .dataframe tbody tr th {\n",
       "        vertical-align: top;\n",
       "    }\n",
       "\n",
       "    .dataframe thead th {\n",
       "        text-align: right;\n",
       "    }\n",
       "</style>\n",
       "<table border=\"1\" class=\"dataframe\">\n",
       "  <thead>\n",
       "    <tr style=\"text-align: right;\">\n",
       "      <th></th>\n",
       "      <th>CUISINE DESCRIPTION</th>\n",
       "      <th>INSPECTION TYPE</th>\n",
       "      <th>MONTH</th>\n",
       "      <th>GRADE</th>\n",
       "      <th>pred_class</th>\n",
       "    </tr>\n",
       "  </thead>\n",
       "  <tbody>\n",
       "    <tr>\n",
       "      <th>0</th>\n",
       "      <td>Mexican</td>\n",
       "      <td>Cycle Inspection / Re-inspection</td>\n",
       "      <td>5</td>\n",
       "      <td>A</td>\n",
       "      <td>A</td>\n",
       "    </tr>\n",
       "    <tr>\n",
       "      <th>1</th>\n",
       "      <td>Donuts</td>\n",
       "      <td>Cycle Inspection / Re-inspection</td>\n",
       "      <td>11</td>\n",
       "      <td>A</td>\n",
       "      <td>A</td>\n",
       "    </tr>\n",
       "    <tr>\n",
       "      <th>2</th>\n",
       "      <td>Pizza/Italian</td>\n",
       "      <td>Cycle Inspection / Initial Inspection</td>\n",
       "      <td>10</td>\n",
       "      <td>A</td>\n",
       "      <td>A</td>\n",
       "    </tr>\n",
       "    <tr>\n",
       "      <th>3</th>\n",
       "      <td>Caribbean</td>\n",
       "      <td>Cycle Inspection / Re-inspection</td>\n",
       "      <td>6</td>\n",
       "      <td>B</td>\n",
       "      <td>W</td>\n",
       "    </tr>\n",
       "    <tr>\n",
       "      <th>4</th>\n",
       "      <td>Latin (Cuban, Dominican, Puerto Rican, South &amp;...</td>\n",
       "      <td>Cycle Inspection / Re-inspection</td>\n",
       "      <td>3</td>\n",
       "      <td>A</td>\n",
       "      <td>A</td>\n",
       "    </tr>\n",
       "  </tbody>\n",
       "</table>\n",
       "</div>"
      ],
      "text/plain": [
       "                                 CUISINE DESCRIPTION  \\\n",
       "0                                            Mexican   \n",
       "1                                             Donuts   \n",
       "2                                      Pizza/Italian   \n",
       "3                                          Caribbean   \n",
       "4  Latin (Cuban, Dominican, Puerto Rican, South &...   \n",
       "\n",
       "                         INSPECTION TYPE  MONTH GRADE pred_class  \n",
       "0       Cycle Inspection / Re-inspection      5     A          A  \n",
       "1       Cycle Inspection / Re-inspection     11     A          A  \n",
       "2  Cycle Inspection / Initial Inspection     10     A          A  \n",
       "3       Cycle Inspection / Re-inspection      6     B          W  \n",
       "4       Cycle Inspection / Re-inspection      3     A          A  "
      ]
     },
     "execution_count": 34,
     "metadata": {},
     "output_type": "execute_result"
    }
   ],
   "source": [
    "dt = dt.assign(pred_class=y_km_class)\n",
    "dt.head()\n"
   ]
  },
  {
   "cell_type": "code",
   "execution_count": 35,
   "metadata": {},
   "outputs": [
    {
     "data": {
      "text/plain": [
       "A    154193\n",
       "W     35158\n",
       "Name: pred_class, dtype: int64"
      ]
     },
     "execution_count": 35,
     "metadata": {},
     "output_type": "execute_result"
    }
   ],
   "source": [
    "dt['pred_class'].value_counts()"
   ]
  },
  {
   "cell_type": "code",
   "execution_count": 36,
   "metadata": {},
   "outputs": [
    {
     "name": "stdout",
     "output_type": "stream",
     "text": [
      "0.8143236634609798\n"
     ]
    }
   ],
   "source": [
    "Accuracy_KMean = print(154193/(35158 + 154193))"
   ]
  },
  {
   "cell_type": "code",
   "execution_count": 37,
   "metadata": {},
   "outputs": [
    {
     "name": "stderr",
     "output_type": "stream",
     "text": [
      "C:\\Users\\ASUS\\Anaconda3\\lib\\site-packages\\sklearn\\linear_model\\logistic.py:433: FutureWarning: Default solver will be changed to 'lbfgs' in 0.22. Specify a solver to silence this warning.\n",
      "  FutureWarning)\n",
      "C:\\Users\\ASUS\\Anaconda3\\lib\\site-packages\\sklearn\\linear_model\\logistic.py:460: FutureWarning: Default multi_class will be changed to 'auto' in 0.22. Specify the multi_class option to silence this warning.\n",
      "  \"this warning.\", FutureWarning)\n"
     ]
    },
    {
     "data": {
      "text/plain": [
       "LogisticRegression(C=1.0, class_weight=None, dual=False, fit_intercept=True,\n",
       "          intercept_scaling=1, max_iter=100, multi_class='warn',\n",
       "          n_jobs=None, penalty='l2', random_state=None, solver='warn',\n",
       "          tol=0.0001, verbose=0, warm_start=False)"
      ]
     },
     "execution_count": 37,
     "metadata": {},
     "output_type": "execute_result"
    }
   ],
   "source": [
    "#Supervised Method with Logistic Regression topredict GRADE\n",
    "\n",
    "from sklearn.linear_model import LogisticRegression\n",
    "from sklearn import metrics\n",
    "from sklearn.model_selection import train_test_split\n",
    "X_train, X_test, Y_train, Y_test = train_test_split(X, Y, test_size=0.3, random_state=0)\n",
    "logreg = LogisticRegression()\n",
    "logreg.fit(X_train, Y_train)\n"
   ]
  },
  {
   "cell_type": "code",
   "execution_count": 38,
   "metadata": {},
   "outputs": [
    {
     "name": "stdout",
     "output_type": "stream",
     "text": [
      "Accuracy of logistic regression classifier on test set: 0.82\n"
     ]
    }
   ],
   "source": [
    "y_pred = logreg.predict(X_test)\n",
    "print('Accuracy of logistic regression classifier on test set: {:.2f}'.format(logreg.score(X_test, Y_test)))"
   ]
  },
  {
   "cell_type": "code",
   "execution_count": 39,
   "metadata": {},
   "outputs": [
    {
     "name": "stdout",
     "output_type": "stream",
     "text": [
      "[[46350     0     0]\n",
      " [ 8345     0     0]\n",
      " [ 2111     0     0]]\n"
     ]
    }
   ],
   "source": [
    "from sklearn.metrics import confusion_matrix\n",
    "confusion_matrix = confusion_matrix(Y_test, y_pred)\n",
    "print(confusion_matrix)"
   ]
  },
  {
   "cell_type": "code",
   "execution_count": 40,
   "metadata": {},
   "outputs": [
    {
     "name": "stdout",
     "output_type": "stream",
     "text": [
      "There are 142013 samples in the training dataset\n",
      "There are 47338 samples in the testing dataset\n",
      "Each sample has 3 features\n"
     ]
    }
   ],
   "source": [
    "# Supervised Method with Decision tree to predict GRADE\n",
    "\n",
    "from sklearn.model_selection import train_test_split\n",
    "X_train, X_test, y_train, y_test = train_test_split(X, Y) # default Train 0.75- Test 0.25\n",
    "print(\"There are {} samples in the training dataset\".format(X_train.shape[0]))\n",
    "print(\"There are {} samples in the testing dataset\".format(X_test.shape[0]))\n",
    "print(\"Each sample has {} features\".format(X_train.shape[1]))"
   ]
  },
  {
   "cell_type": "code",
   "execution_count": 41,
   "metadata": {},
   "outputs": [],
   "source": [
    "Y = dt[['GRADE']]\n",
    "from sklearn import tree\n",
    "estimator = tree.DecisionTreeClassifier(criterion=\"entropy\")"
   ]
  },
  {
   "cell_type": "code",
   "execution_count": 42,
   "metadata": {},
   "outputs": [
    {
     "data": {
      "text/plain": [
       "DecisionTreeClassifier(class_weight=None, criterion='entropy', max_depth=None,\n",
       "            max_features=None, max_leaf_nodes=None,\n",
       "            min_impurity_decrease=0.0, min_impurity_split=None,\n",
       "            min_samples_leaf=1, min_samples_split=2,\n",
       "            min_weight_fraction_leaf=0.0, presort=False, random_state=None,\n",
       "            splitter='best')"
      ]
     },
     "execution_count": 42,
     "metadata": {},
     "output_type": "execute_result"
    }
   ],
   "source": [
    "estimator.fit(X_train, y_train)"
   ]
  },
  {
   "cell_type": "code",
   "execution_count": 43,
   "metadata": {},
   "outputs": [
    {
     "name": "stdout",
     "output_type": "stream",
     "text": [
      "The accuracy on training set is 82.1%\n"
     ]
    }
   ],
   "source": [
    "y_predicted_train = estimator.predict(X_train)\n",
    "accuracy_train = np.mean(y_train == y_predicted_train) * 100\n",
    "print(\"The accuracy on training set is {0:.1f}%\".format(accuracy_train))"
   ]
  },
  {
   "cell_type": "code",
   "execution_count": 44,
   "metadata": {},
   "outputs": [
    {
     "name": "stdout",
     "output_type": "stream",
     "text": [
      "The accuracy on test set is 81.9%\n"
     ]
    }
   ],
   "source": [
    "y_predicted_test = estimator.predict(X_test)\n",
    "accuracy_test = np.mean(y_test == y_predicted_test) * 100\n",
    "print(\"The accuracy on test set is {0:.1f}%\".format(accuracy_test))"
   ]
  },
  {
   "cell_type": "code",
   "execution_count": 45,
   "metadata": {},
   "outputs": [
    {
     "name": "stdout",
     "output_type": "stream",
     "text": [
      "[[38298   259    34]\n",
      " [ 6677   308    14]\n",
      " [ 1558    27   163]]\n"
     ]
    }
   ],
   "source": [
    "from sklearn.metrics import confusion_matrix\n",
    "print(confusion_matrix(y_test, y_predicted_test))"
   ]
  },
  {
   "cell_type": "code",
   "execution_count": 46,
   "metadata": {},
   "outputs": [],
   "source": [
    "avg_scores = []\n",
    "# all_scores = []\n",
    "# parameter_values = [10**exp for exp in np.arange(-2.0,0.0, 0.25)]\n",
    "#parameter_values = np.arange(0,1, 0.05)\n",
    "parameter_values = np.arange(1,10)\n",
    "for hp in parameter_values:\n",
    "    estimator = tree.DecisionTreeClassifier(criterion=\"entropy\"\n",
    "#                                            , min_impurity_decrease = hp\n",
    "                                            , max_depth = hp\n",
    "                                           )\n",
    "    estimator.fit(X_train, y_train)\n",
    "    y_predicted = estimator.predict(X_test)\n",
    "    score = np.mean(y_test == y_predicted) * 100 # compute the matches between prediction and true classes\n",
    "#    avg_scores.append(np.mean(scores))\n",
    "    avg_scores.append(score)\n",
    "#    all_scores.append(scores)"
   ]
  },
  {
   "cell_type": "code",
   "execution_count": 353,
   "metadata": {},
   "outputs": [
    {
     "data": {
      "text/plain": [
       "Text(0, 0.5, 'accuracy')"
      ]
     },
     "execution_count": 353,
     "metadata": {},
     "output_type": "execute_result"
    },
    {
     "data": {
      "image/png": "[encoded data removed]",
      "text/plain": [
       "<Figure size 2304x1440 with 1 Axes>"
      ]
     },
     "metadata": {
      "needs_background": "light"
     },
     "output_type": "display_data"
    }
   ],
   "source": [
    "from matplotlib import pyplot as plt\n",
    "plt.figure(figsize=(32,20))\n",
    "plt.plot(parameter_values, avg_scores, '-o', linewidth=5, markersize=24)\n",
    "plt.xlabel('max_depth')\n",
    "plt.ylabel('accuracy')\n",
    "#plt.semilogx(parameter_values, avg_scores, '-o', linewidth=5, markersize=24)\n",
    "#plt.axis([0, max(parameter_values), 0, 1.0])"
   ]
  },
  {
   "cell_type": "code",
   "execution_count": 356,
   "metadata": {},
   "outputs": [
    {
     "data": {
      "text/plain": [
       "DecisionTreeClassifier(class_weight=None, criterion='entropy', max_depth=4,\n",
       "            max_features=None, max_leaf_nodes=None,\n",
       "            min_impurity_decrease=0.0, min_impurity_split=None,\n",
       "            min_samples_leaf=1, min_samples_split=2,\n",
       "            min_weight_fraction_leaf=0.0, presort=False, random_state=None,\n",
       "            splitter='best')"
      ]
     },
     "execution_count": 356,
     "metadata": {},
     "output_type": "execute_result"
    }
   ],
   "source": [
    "estimator = tree.DecisionTreeClassifier(criterion=\"entropy\"\n",
    "#                                            , min_impurity_decrease = parameter_values[np.argmax(avg_scores)]\n",
    "#                                            , min_samples_leaf = 2\n",
    "                                        , max_depth = 4\n",
    "                                       )\n",
    "estimator.fit(X,Y)"
   ]
  },
  {
   "cell_type": "code",
   "execution_count": 357,
   "metadata": {},
   "outputs": [
    {
     "data": {
      "image/svg+xml": [
       "<?xml version=\"1.0\" encoding=\"UTF-8\" standalone=\"no\"?>\r\n",
       "<!DOCTYPE svg PUBLIC \"-//W3C//DTD SVG 1.1//EN\"\r\n",
       " \"http://www.w3.org/Graphics/SVG/1.1/DTD/svg11.dtd\">\r\n",
       "<!-- Generated by graphviz version 2.38.0 (20140413.2041)\r\n",
       " -->\r\n",
       "<!-- Title: Tree Pages: 1 -->\r\n",
       "<svg width=\"1207pt\" height=\"552pt\"\r\n",
       " viewBox=\"0.00 0.00 1207.00 552.00\" xmlns=\"http://www.w3.org/2000/svg\" xmlns:xlink=\"http://www.w3.org/1999/xlink\">\r\n",
       "<g id=\"graph0\" class=\"graph\" transform=\"scale(1 1) rotate(0) translate(4 548)\">\r\n",
       "<title>Tree</title>\r\n",
       "<polygon fill=\"white\" stroke=\"none\" points=\"-4,4 -4,-548 1203,-548 1203,4 -4,4\"/>\r\n",
       "<!-- 0 -->\r\n",
       "<g id=\"node1\" class=\"node\"><title>0</title>\r\n",
       "<path fill=\"#e58139\" fill-opacity=\"0.780392\" stroke=\"black\" d=\"M587.5,-544C587.5,-544 399.5,-544 399.5,-544 393.5,-544 387.5,-538 387.5,-532 387.5,-532 387.5,-473 387.5,-473 387.5,-467 393.5,-461 399.5,-461 399.5,-461 587.5,-461 587.5,-461 593.5,-461 599.5,-467 599.5,-473 599.5,-473 599.5,-532 599.5,-532 599.5,-538 593.5,-544 587.5,-544\"/>\r\n",
       "<text text-anchor=\"start\" x=\"410.5\" y=\"-528.8\" font-family=\"Helvetica,sans-Serif\" font-size=\"14.00\">INSPECTION TYPE ≤ 2.5</text>\r\n",
       "<text text-anchor=\"start\" x=\"443.5\" y=\"-513.8\" font-family=\"Helvetica,sans-Serif\" font-size=\"14.00\">entropy = 0.826</text>\r\n",
       "<text text-anchor=\"start\" x=\"433.5\" y=\"-498.8\" font-family=\"Helvetica,sans-Serif\" font-size=\"14.00\">samples = 189351</text>\r\n",
       "<text text-anchor=\"start\" x=\"395.5\" y=\"-483.8\" font-family=\"Helvetica,sans-Serif\" font-size=\"14.00\">value = [154193, 28166, 6992]</text>\r\n",
       "<text text-anchor=\"start\" x=\"464\" y=\"-468.8\" font-family=\"Helvetica,sans-Serif\" font-size=\"14.00\">class = A</text>\r\n",
       "</g>\r\n",
       "<!-- 1 -->\r\n",
       "<g id=\"node2\" class=\"node\"><title>1</title>\r\n",
       "<path fill=\"#e58139\" stroke=\"black\" d=\"M467.5,-425C467.5,-425 309.5,-425 309.5,-425 303.5,-425 297.5,-419 297.5,-413 297.5,-413 297.5,-354 297.5,-354 297.5,-348 303.5,-342 309.5,-342 309.5,-342 467.5,-342 467.5,-342 473.5,-342 479.5,-348 479.5,-354 479.5,-354 479.5,-413 479.5,-413 479.5,-419 473.5,-425 467.5,-425\"/>\r\n",
       "<text text-anchor=\"start\" x=\"305.5\" y=\"-409.8\" font-family=\"Helvetica,sans-Serif\" font-size=\"14.00\">INSPECTION TYPE ≤ 1.5</text>\r\n",
       "<text text-anchor=\"start\" x=\"346.5\" y=\"-394.8\" font-family=\"Helvetica,sans-Serif\" font-size=\"14.00\">entropy = 0.0</text>\r\n",
       "<text text-anchor=\"start\" x=\"332.5\" y=\"-379.8\" font-family=\"Helvetica,sans-Serif\" font-size=\"14.00\">samples = 75717</text>\r\n",
       "<text text-anchor=\"start\" x=\"323.5\" y=\"-364.8\" font-family=\"Helvetica,sans-Serif\" font-size=\"14.00\">value = [75715, 0, 2]</text>\r\n",
       "<text text-anchor=\"start\" x=\"359\" y=\"-349.8\" font-family=\"Helvetica,sans-Serif\" font-size=\"14.00\">class = A</text>\r\n",
       "</g>\r\n",
       "<!-- 0&#45;&gt;1 -->\r\n",
       "<g id=\"edge1\" class=\"edge\"><title>0&#45;&gt;1</title>\r\n",
       "<path fill=\"none\" stroke=\"black\" d=\"M457.071,-460.907C448.845,-451.742 440.037,-441.927 431.567,-432.489\"/>\r\n",
       "<polygon fill=\"black\" stroke=\"black\" points=\"434.149,-430.126 424.865,-425.021 428.939,-434.801 434.149,-430.126\"/>\r\n",
       "<text text-anchor=\"middle\" x=\"423.515\" y=\"-446.284\" font-family=\"Helvetica,sans-Serif\" font-size=\"14.00\">True</text>\r\n",
       "</g>\r\n",
       "<!-- 6 -->\r\n",
       "<g id=\"node7\" class=\"node\"><title>6</title>\r\n",
       "<path fill=\"#e58139\" fill-opacity=\"0.588235\" stroke=\"black\" d=\"M689,-425C689,-425 510,-425 510,-425 504,-425 498,-419 498,-413 498,-413 498,-354 498,-354 498,-348 504,-342 510,-342 510,-342 689,-342 689,-342 695,-342 701,-348 701,-354 701,-354 701,-413 701,-413 701,-419 695,-425 689,-425\"/>\r\n",
       "<text text-anchor=\"start\" x=\"516.5\" y=\"-409.8\" font-family=\"Helvetica,sans-Serif\" font-size=\"14.00\">INSPECTION TYPE ≤ 4.5</text>\r\n",
       "<text text-anchor=\"start\" x=\"549.5\" y=\"-394.8\" font-family=\"Helvetica,sans-Serif\" font-size=\"14.00\">entropy = 1.115</text>\r\n",
       "<text text-anchor=\"start\" x=\"539.5\" y=\"-379.8\" font-family=\"Helvetica,sans-Serif\" font-size=\"14.00\">samples = 113634</text>\r\n",
       "<text text-anchor=\"start\" x=\"506\" y=\"-364.8\" font-family=\"Helvetica,sans-Serif\" font-size=\"14.00\">value = [78478, 28166, 6990]</text>\r\n",
       "<text text-anchor=\"start\" x=\"570\" y=\"-349.8\" font-family=\"Helvetica,sans-Serif\" font-size=\"14.00\">class = A</text>\r\n",
       "</g>\r\n",
       "<!-- 0&#45;&gt;6 -->\r\n",
       "<g id=\"edge6\" class=\"edge\"><title>0&#45;&gt;6</title>\r\n",
       "<path fill=\"none\" stroke=\"black\" d=\"M530.276,-460.907C538.58,-451.742 547.472,-441.927 556.023,-432.489\"/>\r\n",
       "<polygon fill=\"black\" stroke=\"black\" points=\"558.669,-434.782 562.789,-425.021 553.481,-430.082 558.669,-434.782\"/>\r\n",
       "<text text-anchor=\"middle\" x=\"564.021\" y=\"-446.29\" font-family=\"Helvetica,sans-Serif\" font-size=\"14.00\">False</text>\r\n",
       "</g>\r\n",
       "<!-- 2 -->\r\n",
       "<g id=\"node3\" class=\"node\"><title>2</title>\r\n",
       "<path fill=\"none\" stroke=\"black\" d=\"M286.5,-306C286.5,-306 88.5,-306 88.5,-306 82.5,-306 76.5,-300 76.5,-294 76.5,-294 76.5,-235 76.5,-235 76.5,-229 82.5,-223 88.5,-223 88.5,-223 286.5,-223 286.5,-223 292.5,-223 298.5,-229 298.5,-235 298.5,-235 298.5,-294 298.5,-294 298.5,-300 292.5,-306 286.5,-306\"/>\r\n",
       "<text text-anchor=\"start\" x=\"84.5\" y=\"-290.8\" font-family=\"Helvetica,sans-Serif\" font-size=\"14.00\">CUISINE DESCRIPTION ≤ 51.5</text>\r\n",
       "<text text-anchor=\"start\" x=\"145.5\" y=\"-275.8\" font-family=\"Helvetica,sans-Serif\" font-size=\"14.00\">entropy = 1.0</text>\r\n",
       "<text text-anchor=\"start\" x=\"148\" y=\"-260.8\" font-family=\"Helvetica,sans-Serif\" font-size=\"14.00\">samples = 4</text>\r\n",
       "<text text-anchor=\"start\" x=\"139\" y=\"-245.8\" font-family=\"Helvetica,sans-Serif\" font-size=\"14.00\">value = [2, 0, 2]</text>\r\n",
       "<text text-anchor=\"start\" x=\"158\" y=\"-230.8\" font-family=\"Helvetica,sans-Serif\" font-size=\"14.00\">class = A</text>\r\n",
       "</g>\r\n",
       "<!-- 1&#45;&gt;2 -->\r\n",
       "<g id=\"edge2\" class=\"edge\"><title>1&#45;&gt;2</title>\r\n",
       "<path fill=\"none\" stroke=\"black\" d=\"M318.764,-341.907C301.77,-332.016 283.478,-321.368 266.103,-311.254\"/>\r\n",
       "<polygon fill=\"black\" stroke=\"black\" points=\"267.516,-308.027 257.113,-306.021 263.994,-314.076 267.516,-308.027\"/>\r\n",
       "</g>\r\n",
       "<!-- 5 -->\r\n",
       "<g id=\"node6\" class=\"node\"><title>5</title>\r\n",
       "<path fill=\"#e58139\" stroke=\"black\" d=\"M450.5,-298.5C450.5,-298.5 328.5,-298.5 328.5,-298.5 322.5,-298.5 316.5,-292.5 316.5,-286.5 316.5,-286.5 316.5,-242.5 316.5,-242.5 316.5,-236.5 322.5,-230.5 328.5,-230.5 328.5,-230.5 450.5,-230.5 450.5,-230.5 456.5,-230.5 462.5,-236.5 462.5,-242.5 462.5,-242.5 462.5,-286.5 462.5,-286.5 462.5,-292.5 456.5,-298.5 450.5,-298.5\"/>\r\n",
       "<text text-anchor=\"start\" x=\"347.5\" y=\"-283.3\" font-family=\"Helvetica,sans-Serif\" font-size=\"14.00\">entropy = 0.0</text>\r\n",
       "<text text-anchor=\"start\" x=\"333.5\" y=\"-268.3\" font-family=\"Helvetica,sans-Serif\" font-size=\"14.00\">samples = 75713</text>\r\n",
       "<text text-anchor=\"start\" x=\"324.5\" y=\"-253.3\" font-family=\"Helvetica,sans-Serif\" font-size=\"14.00\">value = [75713, 0, 0]</text>\r\n",
       "<text text-anchor=\"start\" x=\"360\" y=\"-238.3\" font-family=\"Helvetica,sans-Serif\" font-size=\"14.00\">class = A</text>\r\n",
       "</g>\r\n",
       "<!-- 1&#45;&gt;5 -->\r\n",
       "<g id=\"edge5\" class=\"edge\"><title>1&#45;&gt;5</title>\r\n",
       "<path fill=\"none\" stroke=\"black\" d=\"M388.847,-341.907C388.938,-331.204 389.037,-319.615 389.13,-308.776\"/>\r\n",
       "<polygon fill=\"black\" stroke=\"black\" points=\"392.631,-308.697 389.217,-298.667 385.631,-308.637 392.631,-308.697\"/>\r\n",
       "</g>\r\n",
       "<!-- 3 -->\r\n",
       "<g id=\"node4\" class=\"node\"><title>3</title>\r\n",
       "<path fill=\"#8139e5\" stroke=\"black\" d=\"M101,-179.5C101,-179.5 12,-179.5 12,-179.5 6,-179.5 0,-173.5 0,-167.5 0,-167.5 0,-123.5 0,-123.5 0,-117.5 6,-111.5 12,-111.5 12,-111.5 101,-111.5 101,-111.5 107,-111.5 113,-117.5 113,-123.5 113,-123.5 113,-167.5 113,-167.5 113,-173.5 107,-179.5 101,-179.5\"/>\r\n",
       "<text text-anchor=\"start\" x=\"14.5\" y=\"-164.3\" font-family=\"Helvetica,sans-Serif\" font-size=\"14.00\">entropy = 0.0</text>\r\n",
       "<text text-anchor=\"start\" x=\"17\" y=\"-149.3\" font-family=\"Helvetica,sans-Serif\" font-size=\"14.00\">samples = 2</text>\r\n",
       "<text text-anchor=\"start\" x=\"8\" y=\"-134.3\" font-family=\"Helvetica,sans-Serif\" font-size=\"14.00\">value = [0, 0, 2]</text>\r\n",
       "<text text-anchor=\"start\" x=\"26.5\" y=\"-119.3\" font-family=\"Helvetica,sans-Serif\" font-size=\"14.00\">class = C</text>\r\n",
       "</g>\r\n",
       "<!-- 2&#45;&gt;3 -->\r\n",
       "<g id=\"edge3\" class=\"edge\"><title>2&#45;&gt;3</title>\r\n",
       "<path fill=\"none\" stroke=\"black\" d=\"M142.05,-222.907C128.83,-211.101 114.405,-198.217 101.23,-186.45\"/>\r\n",
       "<polygon fill=\"black\" stroke=\"black\" points=\"103.425,-183.718 93.6356,-179.667 98.7626,-188.939 103.425,-183.718\"/>\r\n",
       "</g>\r\n",
       "<!-- 4 -->\r\n",
       "<g id=\"node5\" class=\"node\"><title>4</title>\r\n",
       "<path fill=\"#e58139\" stroke=\"black\" d=\"M232,-179.5C232,-179.5 143,-179.5 143,-179.5 137,-179.5 131,-173.5 131,-167.5 131,-167.5 131,-123.5 131,-123.5 131,-117.5 137,-111.5 143,-111.5 143,-111.5 232,-111.5 232,-111.5 238,-111.5 244,-117.5 244,-123.5 244,-123.5 244,-167.5 244,-167.5 244,-173.5 238,-179.5 232,-179.5\"/>\r\n",
       "<text text-anchor=\"start\" x=\"145.5\" y=\"-164.3\" font-family=\"Helvetica,sans-Serif\" font-size=\"14.00\">entropy = 0.0</text>\r\n",
       "<text text-anchor=\"start\" x=\"148\" y=\"-149.3\" font-family=\"Helvetica,sans-Serif\" font-size=\"14.00\">samples = 2</text>\r\n",
       "<text text-anchor=\"start\" x=\"139\" y=\"-134.3\" font-family=\"Helvetica,sans-Serif\" font-size=\"14.00\">value = [2, 0, 0]</text>\r\n",
       "<text text-anchor=\"start\" x=\"158\" y=\"-119.3\" font-family=\"Helvetica,sans-Serif\" font-size=\"14.00\">class = A</text>\r\n",
       "</g>\r\n",
       "<!-- 2&#45;&gt;4 -->\r\n",
       "<g id=\"edge4\" class=\"edge\"><title>2&#45;&gt;4</title>\r\n",
       "<path fill=\"none\" stroke=\"black\" d=\"M187.5,-222.907C187.5,-212.204 187.5,-200.615 187.5,-189.776\"/>\r\n",
       "<polygon fill=\"black\" stroke=\"black\" points=\"191,-189.667 187.5,-179.667 184,-189.667 191,-189.667\"/>\r\n",
       "</g>\r\n",
       "<!-- 7 -->\r\n",
       "<g id=\"node8\" class=\"node\"><title>7</title>\r\n",
       "<path fill=\"#e58139\" fill-opacity=\"0.552941\" stroke=\"black\" d=\"M689,-306C689,-306 510,-306 510,-306 504,-306 498,-300 498,-294 498,-294 498,-235 498,-235 498,-229 504,-223 510,-223 510,-223 689,-223 689,-223 695,-223 701,-229 701,-235 701,-235 701,-294 701,-294 701,-300 695,-306 689,-306\"/>\r\n",
       "<text text-anchor=\"start\" x=\"516.5\" y=\"-290.8\" font-family=\"Helvetica,sans-Serif\" font-size=\"14.00\">INSPECTION TYPE ≤ 3.5</text>\r\n",
       "<text text-anchor=\"start\" x=\"553.5\" y=\"-275.8\" font-family=\"Helvetica,sans-Serif\" font-size=\"14.00\">entropy = 1.15</text>\r\n",
       "<text text-anchor=\"start\" x=\"543.5\" y=\"-260.8\" font-family=\"Helvetica,sans-Serif\" font-size=\"14.00\">samples = 96180</text>\r\n",
       "<text text-anchor=\"start\" x=\"506\" y=\"-245.8\" font-family=\"Helvetica,sans-Serif\" font-size=\"14.00\">value = [64453, 25517, 6210]</text>\r\n",
       "<text text-anchor=\"start\" x=\"570\" y=\"-230.8\" font-family=\"Helvetica,sans-Serif\" font-size=\"14.00\">class = A</text>\r\n",
       "</g>\r\n",
       "<!-- 6&#45;&gt;7 -->\r\n",
       "<g id=\"edge7\" class=\"edge\"><title>6&#45;&gt;7</title>\r\n",
       "<path fill=\"none\" stroke=\"black\" d=\"M599.5,-341.907C599.5,-333.649 599.5,-324.864 599.5,-316.302\"/>\r\n",
       "<polygon fill=\"black\" stroke=\"black\" points=\"603,-316.021 599.5,-306.021 596,-316.021 603,-316.021\"/>\r\n",
       "</g>\r\n",
       "<!-- 14 -->\r\n",
       "<g id=\"node15\" class=\"node\"><title>14</title>\r\n",
       "<path fill=\"#e58139\" fill-opacity=\"0.768627\" stroke=\"black\" d=\"M894,-306C894,-306 731,-306 731,-306 725,-306 719,-300 719,-294 719,-294 719,-235 719,-235 719,-229 725,-223 731,-223 731,-223 894,-223 894,-223 900,-223 906,-229 906,-235 906,-235 906,-294 906,-294 906,-300 900,-306 894,-306\"/>\r\n",
       "<text text-anchor=\"start\" x=\"729.5\" y=\"-290.8\" font-family=\"Helvetica,sans-Serif\" font-size=\"14.00\">INSPECTION TYPE ≤ 6.5</text>\r\n",
       "<text text-anchor=\"start\" x=\"762.5\" y=\"-275.8\" font-family=\"Helvetica,sans-Serif\" font-size=\"14.00\">entropy = 0.867</text>\r\n",
       "<text text-anchor=\"start\" x=\"756.5\" y=\"-260.8\" font-family=\"Helvetica,sans-Serif\" font-size=\"14.00\">samples = 17454</text>\r\n",
       "<text text-anchor=\"start\" x=\"727\" y=\"-245.8\" font-family=\"Helvetica,sans-Serif\" font-size=\"14.00\">value = [14025, 2649, 780]</text>\r\n",
       "<text text-anchor=\"start\" x=\"783\" y=\"-230.8\" font-family=\"Helvetica,sans-Serif\" font-size=\"14.00\">class = A</text>\r\n",
       "</g>\r\n",
       "<!-- 6&#45;&gt;14 -->\r\n",
       "<g id=\"edge14\" class=\"edge\"><title>6&#45;&gt;14</title>\r\n",
       "<path fill=\"none\" stroke=\"black\" d=\"M673.399,-341.907C691.655,-331.879 711.326,-321.075 729.964,-310.837\"/>\r\n",
       "<polygon fill=\"black\" stroke=\"black\" points=\"731.652,-313.903 738.731,-306.021 728.281,-307.768 731.652,-313.903\"/>\r\n",
       "</g>\r\n",
       "<!-- 8 -->\r\n",
       "<g id=\"node9\" class=\"node\"><title>8</title>\r\n",
       "<path fill=\"#e58139\" fill-opacity=\"0.552941\" stroke=\"black\" d=\"M472.5,-187C472.5,-187 274.5,-187 274.5,-187 268.5,-187 262.5,-181 262.5,-175 262.5,-175 262.5,-116 262.5,-116 262.5,-110 268.5,-104 274.5,-104 274.5,-104 472.5,-104 472.5,-104 478.5,-104 484.5,-110 484.5,-116 484.5,-116 484.5,-175 484.5,-175 484.5,-181 478.5,-187 472.5,-187\"/>\r\n",
       "<text text-anchor=\"start\" x=\"270.5\" y=\"-171.8\" font-family=\"Helvetica,sans-Serif\" font-size=\"14.00\">CUISINE DESCRIPTION ≤ 14.0</text>\r\n",
       "<text text-anchor=\"start\" x=\"323.5\" y=\"-156.8\" font-family=\"Helvetica,sans-Serif\" font-size=\"14.00\">entropy = 1.137</text>\r\n",
       "<text text-anchor=\"start\" x=\"317.5\" y=\"-141.8\" font-family=\"Helvetica,sans-Serif\" font-size=\"14.00\">samples = 95745</text>\r\n",
       "<text text-anchor=\"start\" x=\"280\" y=\"-126.8\" font-family=\"Helvetica,sans-Serif\" font-size=\"14.00\">value = [64447, 25515, 5783]</text>\r\n",
       "<text text-anchor=\"start\" x=\"344\" y=\"-111.8\" font-family=\"Helvetica,sans-Serif\" font-size=\"14.00\">class = A</text>\r\n",
       "</g>\r\n",
       "<!-- 7&#45;&gt;8 -->\r\n",
       "<g id=\"edge8\" class=\"edge\"><title>7&#45;&gt;8</title>\r\n",
       "<path fill=\"none\" stroke=\"black\" d=\"M521.09,-222.907C501.632,-212.834 480.66,-201.977 460.805,-191.698\"/>\r\n",
       "<polygon fill=\"black\" stroke=\"black\" points=\"462.261,-188.51 451.771,-187.021 459.042,-194.726 462.261,-188.51\"/>\r\n",
       "</g>\r\n",
       "<!-- 11 -->\r\n",
       "<g id=\"node12\" class=\"node\"><title>11</title>\r\n",
       "<path fill=\"#8139e5\" fill-opacity=\"0.980392\" stroke=\"black\" d=\"M712.5,-187C712.5,-187 514.5,-187 514.5,-187 508.5,-187 502.5,-181 502.5,-175 502.5,-175 502.5,-116 502.5,-116 502.5,-110 508.5,-104 514.5,-104 514.5,-104 712.5,-104 712.5,-104 718.5,-104 724.5,-110 724.5,-116 724.5,-116 724.5,-175 724.5,-175 724.5,-181 718.5,-187 712.5,-187\"/>\r\n",
       "<text text-anchor=\"start\" x=\"510.5\" y=\"-171.8\" font-family=\"Helvetica,sans-Serif\" font-size=\"14.00\">CUISINE DESCRIPTION ≤ 70.0</text>\r\n",
       "<text text-anchor=\"start\" x=\"563.5\" y=\"-156.8\" font-family=\"Helvetica,sans-Serif\" font-size=\"14.00\">entropy = 0.147</text>\r\n",
       "<text text-anchor=\"start\" x=\"566\" y=\"-141.8\" font-family=\"Helvetica,sans-Serif\" font-size=\"14.00\">samples = 435</text>\r\n",
       "<text text-anchor=\"start\" x=\"557\" y=\"-126.8\" font-family=\"Helvetica,sans-Serif\" font-size=\"14.00\">value = [6, 2, 427]</text>\r\n",
       "<text text-anchor=\"start\" x=\"583.5\" y=\"-111.8\" font-family=\"Helvetica,sans-Serif\" font-size=\"14.00\">class = C</text>\r\n",
       "</g>\r\n",
       "<!-- 7&#45;&gt;11 -->\r\n",
       "<g id=\"edge11\" class=\"edge\"><title>7&#45;&gt;11</title>\r\n",
       "<path fill=\"none\" stroke=\"black\" d=\"M604.357,-222.907C605.356,-214.558 606.42,-205.671 607.455,-197.02\"/>\r\n",
       "<polygon fill=\"black\" stroke=\"black\" points=\"610.938,-197.366 608.651,-187.021 603.988,-196.534 610.938,-197.366\"/>\r\n",
       "</g>\r\n",
       "<!-- 9 -->\r\n",
       "<g id=\"node10\" class=\"node\"><title>9</title>\r\n",
       "<path fill=\"#e58139\" fill-opacity=\"0.615686\" stroke=\"black\" d=\"M256,-68C256,-68 85,-68 85,-68 79,-68 73,-62 73,-56 73,-56 73,-12 73,-12 73,-6 79,-0 85,-0 85,-0 256,-0 256,-0 262,-0 268,-6 268,-12 268,-12 268,-56 268,-56 268,-62 262,-68 256,-68\"/>\r\n",
       "<text text-anchor=\"start\" x=\"120.5\" y=\"-52.8\" font-family=\"Helvetica,sans-Serif\" font-size=\"14.00\">entropy = 1.086</text>\r\n",
       "<text text-anchor=\"start\" x=\"114.5\" y=\"-37.8\" font-family=\"Helvetica,sans-Serif\" font-size=\"14.00\">samples = 30314</text>\r\n",
       "<text text-anchor=\"start\" x=\"81\" y=\"-22.8\" font-family=\"Helvetica,sans-Serif\" font-size=\"14.00\">value = [21389, 7148, 1777]</text>\r\n",
       "<text text-anchor=\"start\" x=\"141\" y=\"-7.8\" font-family=\"Helvetica,sans-Serif\" font-size=\"14.00\">class = A</text>\r\n",
       "</g>\r\n",
       "<!-- 8&#45;&gt;9 -->\r\n",
       "<g id=\"edge9\" class=\"edge\"><title>8&#45;&gt;9</title>\r\n",
       "<path fill=\"none\" stroke=\"black\" d=\"M298.199,-103.882C279.387,-93.7346 259.286,-82.8922 240.731,-72.8832\"/>\r\n",
       "<polygon fill=\"black\" stroke=\"black\" points=\"242.221,-69.7104 231.758,-68.0433 238.898,-75.8713 242.221,-69.7104\"/>\r\n",
       "</g>\r\n",
       "<!-- 10 -->\r\n",
       "<g id=\"node11\" class=\"node\"><title>10</title>\r\n",
       "<path fill=\"#e58139\" fill-opacity=\"0.525490\" stroke=\"black\" d=\"M477,-68C477,-68 298,-68 298,-68 292,-68 286,-62 286,-56 286,-56 286,-12 286,-12 286,-6 292,-0 298,-0 298,-0 477,-0 477,-0 483,-0 489,-6 489,-12 489,-12 489,-56 489,-56 489,-62 483,-68 477,-68\"/>\r\n",
       "<text text-anchor=\"start\" x=\"337.5\" y=\"-52.8\" font-family=\"Helvetica,sans-Serif\" font-size=\"14.00\">entropy = 1.158</text>\r\n",
       "<text text-anchor=\"start\" x=\"331.5\" y=\"-37.8\" font-family=\"Helvetica,sans-Serif\" font-size=\"14.00\">samples = 65431</text>\r\n",
       "<text text-anchor=\"start\" x=\"294\" y=\"-22.8\" font-family=\"Helvetica,sans-Serif\" font-size=\"14.00\">value = [43058, 18367, 4006]</text>\r\n",
       "<text text-anchor=\"start\" x=\"358\" y=\"-7.8\" font-family=\"Helvetica,sans-Serif\" font-size=\"14.00\">class = A</text>\r\n",
       "</g>\r\n",
       "<!-- 8&#45;&gt;10 -->\r\n",
       "<g id=\"edge10\" class=\"edge\"><title>8&#45;&gt;10</title>\r\n",
       "<path fill=\"none\" stroke=\"black\" d=\"M378.713,-103.726C379.774,-95.4263 380.894,-86.6671 381.966,-78.2834\"/>\r\n",
       "<polygon fill=\"black\" stroke=\"black\" points=\"385.446,-78.6628 383.243,-68.2996 378.502,-77.7749 385.446,-78.6628\"/>\r\n",
       "</g>\r\n",
       "<!-- 12 -->\r\n",
       "<g id=\"node13\" class=\"node\"><title>12</title>\r\n",
       "<path fill=\"#8139e5\" fill-opacity=\"0.988235\" stroke=\"black\" d=\"M652,-68C652,-68 547,-68 547,-68 541,-68 535,-62 535,-56 535,-56 535,-12 535,-12 535,-6 541,-0 547,-0 547,-0 652,-0 652,-0 658,-0 664,-6 664,-12 664,-12 664,-56 664,-56 664,-62 658,-68 652,-68\"/>\r\n",
       "<text text-anchor=\"start\" x=\"549.5\" y=\"-52.8\" font-family=\"Helvetica,sans-Serif\" font-size=\"14.00\">entropy = 0.094</text>\r\n",
       "<text text-anchor=\"start\" x=\"552\" y=\"-37.8\" font-family=\"Helvetica,sans-Serif\" font-size=\"14.00\">samples = 385</text>\r\n",
       "<text text-anchor=\"start\" x=\"543\" y=\"-22.8\" font-family=\"Helvetica,sans-Serif\" font-size=\"14.00\">value = [2, 2, 381]</text>\r\n",
       "<text text-anchor=\"start\" x=\"569.5\" y=\"-7.8\" font-family=\"Helvetica,sans-Serif\" font-size=\"14.00\">class = C</text>\r\n",
       "</g>\r\n",
       "<!-- 11&#45;&gt;12 -->\r\n",
       "<g id=\"edge12\" class=\"edge\"><title>11&#45;&gt;12</title>\r\n",
       "<path fill=\"none\" stroke=\"black\" d=\"M608.287,-103.726C607.226,-95.4263 606.106,-86.6671 605.034,-78.2834\"/>\r\n",
       "<polygon fill=\"black\" stroke=\"black\" points=\"608.498,-77.7749 603.757,-68.2996 601.554,-78.6628 608.498,-77.7749\"/>\r\n",
       "</g>\r\n",
       "<!-- 13 -->\r\n",
       "<g id=\"node14\" class=\"node\"><title>13</title>\r\n",
       "<path fill=\"#8139e5\" fill-opacity=\"0.913725\" stroke=\"black\" d=\"M791,-68C791,-68 694,-68 694,-68 688,-68 682,-62 682,-56 682,-56 682,-12 682,-12 682,-6 688,-0 694,-0 694,-0 791,-0 791,-0 797,-0 803,-6 803,-12 803,-12 803,-56 803,-56 803,-62 797,-68 791,-68\"/>\r\n",
       "<text text-anchor=\"start\" x=\"692.5\" y=\"-52.8\" font-family=\"Helvetica,sans-Serif\" font-size=\"14.00\">entropy = 0.402</text>\r\n",
       "<text text-anchor=\"start\" x=\"699\" y=\"-37.8\" font-family=\"Helvetica,sans-Serif\" font-size=\"14.00\">samples = 50</text>\r\n",
       "<text text-anchor=\"start\" x=\"690\" y=\"-22.8\" font-family=\"Helvetica,sans-Serif\" font-size=\"14.00\">value = [4, 0, 46]</text>\r\n",
       "<text text-anchor=\"start\" x=\"712.5\" y=\"-7.8\" font-family=\"Helvetica,sans-Serif\" font-size=\"14.00\">class = C</text>\r\n",
       "</g>\r\n",
       "<!-- 11&#45;&gt;13 -->\r\n",
       "<g id=\"edge13\" class=\"edge\"><title>11&#45;&gt;13</title>\r\n",
       "<path fill=\"none\" stroke=\"black\" d=\"M661.535,-103.726C672.602,-94.3318 684.363,-84.349 695.39,-74.9883\"/>\r\n",
       "<polygon fill=\"black\" stroke=\"black\" points=\"697.912,-77.4393 703.27,-68.2996 693.382,-72.1026 697.912,-77.4393\"/>\r\n",
       "</g>\r\n",
       "<!-- 15 -->\r\n",
       "<g id=\"node16\" class=\"node\"><title>15</title>\r\n",
       "<path fill=\"#e58139\" stroke=\"black\" d=\"M869,-179.5C869,-179.5 756,-179.5 756,-179.5 750,-179.5 744,-173.5 744,-167.5 744,-167.5 744,-123.5 744,-123.5 744,-117.5 750,-111.5 756,-111.5 756,-111.5 869,-111.5 869,-111.5 875,-111.5 881,-117.5 881,-123.5 881,-123.5 881,-167.5 881,-167.5 881,-173.5 875,-179.5 869,-179.5\"/>\r\n",
       "<text text-anchor=\"start\" x=\"770.5\" y=\"-164.3\" font-family=\"Helvetica,sans-Serif\" font-size=\"14.00\">entropy = 0.0</text>\r\n",
       "<text text-anchor=\"start\" x=\"761\" y=\"-149.3\" font-family=\"Helvetica,sans-Serif\" font-size=\"14.00\">samples = 7266</text>\r\n",
       "<text text-anchor=\"start\" x=\"752\" y=\"-134.3\" font-family=\"Helvetica,sans-Serif\" font-size=\"14.00\">value = [7266, 0, 0]</text>\r\n",
       "<text text-anchor=\"start\" x=\"783\" y=\"-119.3\" font-family=\"Helvetica,sans-Serif\" font-size=\"14.00\">class = A</text>\r\n",
       "</g>\r\n",
       "<!-- 14&#45;&gt;15 -->\r\n",
       "<g id=\"edge15\" class=\"edge\"><title>14&#45;&gt;15</title>\r\n",
       "<path fill=\"none\" stroke=\"black\" d=\"M812.5,-222.907C812.5,-212.204 812.5,-200.615 812.5,-189.776\"/>\r\n",
       "<polygon fill=\"black\" stroke=\"black\" points=\"816,-189.667 812.5,-179.667 809,-189.667 816,-189.667\"/>\r\n",
       "</g>\r\n",
       "<!-- 16 -->\r\n",
       "<g id=\"node17\" class=\"node\"><title>16</title>\r\n",
       "<path fill=\"#e58139\" fill-opacity=\"0.545098\" stroke=\"black\" d=\"M1069.5,-187C1069.5,-187 911.5,-187 911.5,-187 905.5,-187 899.5,-181 899.5,-175 899.5,-175 899.5,-116 899.5,-116 899.5,-110 905.5,-104 911.5,-104 911.5,-104 1069.5,-104 1069.5,-104 1075.5,-104 1081.5,-110 1081.5,-116 1081.5,-116 1081.5,-175 1081.5,-175 1081.5,-181 1075.5,-187 1069.5,-187\"/>\r\n",
       "<text text-anchor=\"start\" x=\"907.5\" y=\"-171.8\" font-family=\"Helvetica,sans-Serif\" font-size=\"14.00\">INSPECTION TYPE ≤ 7.5</text>\r\n",
       "<text text-anchor=\"start\" x=\"940.5\" y=\"-156.8\" font-family=\"Helvetica,sans-Serif\" font-size=\"14.00\">entropy = 1.182</text>\r\n",
       "<text text-anchor=\"start\" x=\"934.5\" y=\"-141.8\" font-family=\"Helvetica,sans-Serif\" font-size=\"14.00\">samples = 10188</text>\r\n",
       "<text text-anchor=\"start\" x=\"909\" y=\"-126.8\" font-family=\"Helvetica,sans-Serif\" font-size=\"14.00\">value = [6759, 2649, 780]</text>\r\n",
       "<text text-anchor=\"start\" x=\"961\" y=\"-111.8\" font-family=\"Helvetica,sans-Serif\" font-size=\"14.00\">class = A</text>\r\n",
       "</g>\r\n",
       "<!-- 14&#45;&gt;16 -->\r\n",
       "<g id=\"edge16\" class=\"edge\"><title>14&#45;&gt;16</title>\r\n",
       "<path fill=\"none\" stroke=\"black\" d=\"M874.256,-222.907C889.167,-213.106 905.208,-202.563 920.468,-192.533\"/>\r\n",
       "<polygon fill=\"black\" stroke=\"black\" points=\"922.419,-195.438 928.853,-187.021 918.574,-189.589 922.419,-195.438\"/>\r\n",
       "</g>\r\n",
       "<!-- 17 -->\r\n",
       "<g id=\"node18\" class=\"node\"><title>17</title>\r\n",
       "<path fill=\"#e58139\" fill-opacity=\"0.549020\" stroke=\"black\" d=\"M1048,-68C1048,-68 893,-68 893,-68 887,-68 881,-62 881,-56 881,-56 881,-12 881,-12 881,-6 887,-0 893,-0 893,-0 1048,-0 1048,-0 1054,-0 1060,-6 1060,-12 1060,-12 1060,-56 1060,-56 1060,-62 1054,-68 1048,-68\"/>\r\n",
       "<text text-anchor=\"start\" x=\"920.5\" y=\"-52.8\" font-family=\"Helvetica,sans-Serif\" font-size=\"14.00\">entropy = 1.162</text>\r\n",
       "<text text-anchor=\"start\" x=\"914.5\" y=\"-37.8\" font-family=\"Helvetica,sans-Serif\" font-size=\"14.00\">samples = 10111</text>\r\n",
       "<text text-anchor=\"start\" x=\"889\" y=\"-22.8\" font-family=\"Helvetica,sans-Serif\" font-size=\"14.00\">value = [6759, 2649, 703]</text>\r\n",
       "<text text-anchor=\"start\" x=\"941\" y=\"-7.8\" font-family=\"Helvetica,sans-Serif\" font-size=\"14.00\">class = A</text>\r\n",
       "</g>\r\n",
       "<!-- 16&#45;&gt;17 -->\r\n",
       "<g id=\"edge17\" class=\"edge\"><title>16&#45;&gt;17</title>\r\n",
       "<path fill=\"none\" stroke=\"black\" d=\"M983.053,-103.726C981.537,-95.4263 979.937,-86.6671 978.406,-78.2834\"/>\r\n",
       "<polygon fill=\"black\" stroke=\"black\" points=\"981.822,-77.508 976.582,-68.2996 974.936,-78.7658 981.822,-77.508\"/>\r\n",
       "</g>\r\n",
       "<!-- 18 -->\r\n",
       "<g id=\"node19\" class=\"node\"><title>18</title>\r\n",
       "<path fill=\"#8139e5\" stroke=\"black\" d=\"M1187,-68C1187,-68 1090,-68 1090,-68 1084,-68 1078,-62 1078,-56 1078,-56 1078,-12 1078,-12 1078,-6 1084,-0 1090,-0 1090,-0 1187,-0 1187,-0 1193,-0 1199,-6 1199,-12 1199,-12 1199,-56 1199,-56 1199,-62 1193,-68 1187,-68\"/>\r\n",
       "<text text-anchor=\"start\" x=\"1096.5\" y=\"-52.8\" font-family=\"Helvetica,sans-Serif\" font-size=\"14.00\">entropy = 0.0</text>\r\n",
       "<text text-anchor=\"start\" x=\"1095\" y=\"-37.8\" font-family=\"Helvetica,sans-Serif\" font-size=\"14.00\">samples = 77</text>\r\n",
       "<text text-anchor=\"start\" x=\"1086\" y=\"-22.8\" font-family=\"Helvetica,sans-Serif\" font-size=\"14.00\">value = [0, 0, 77]</text>\r\n",
       "<text text-anchor=\"start\" x=\"1108.5\" y=\"-7.8\" font-family=\"Helvetica,sans-Serif\" font-size=\"14.00\">class = C</text>\r\n",
       "</g>\r\n",
       "<!-- 16&#45;&gt;18 -->\r\n",
       "<g id=\"edge18\" class=\"edge\"><title>16&#45;&gt;18</title>\r\n",
       "<path fill=\"none\" stroke=\"black\" d=\"M1045.61,-103.726C1058.55,-94.1494 1072.32,-83.9611 1085.19,-74.4438\"/>\r\n",
       "<polygon fill=\"black\" stroke=\"black\" points=\"1087.54,-77.061 1093.49,-68.2996 1083.37,-71.4337 1087.54,-77.061\"/>\r\n",
       "</g>\r\n",
       "</g>\r\n",
       "</svg>\r\n"
      ],
      "text/plain": [
       "<graphviz.files.Source at 0xaca7790>"
      ]
     },
     "execution_count": 357,
     "metadata": {},
     "output_type": "execute_result"
    }
   ],
   "source": [
    "import graphviz \n",
    "dot_data = tree.export_graphviz(estimator, out_file=None,\n",
    "                                feature_names=X.keys(),\n",
    "                                class_names=np.unique(Y),\n",
    "                                filled=True, rounded=True,\n",
    "                                special_characters=True)  \n",
    "graph = graphviz.Source(dot_data)  \n",
    "graph"
   ]
  },
  {
   "cell_type": "code",
   "execution_count": 358,
   "metadata": {},
   "outputs": [
    {
     "name": "stdout",
     "output_type": "stream",
     "text": [
      "The accuracy on test set is 81.8%\n"
     ]
    }
   ],
   "source": [
    "y_predicted_test = estimator.predict(X_test)\n",
    "accuracy_test = np.mean(y_test == y_predicted_test) * 100\n",
    "print(\"The accuracy on test set is {0:.1f}%\".format(accuracy_test))"
   ]
  },
  {
   "cell_type": "code",
   "execution_count": 359,
   "metadata": {},
   "outputs": [
    {
     "name": "stdout",
     "output_type": "stream",
     "text": [
      "[[38589     0     2]\n",
      " [ 6997     0     2]\n",
      " [ 1628     0   120]]\n"
     ]
    }
   ],
   "source": [
    "from sklearn.metrics import confusion_matrix\n",
    "print(confusion_matrix(y_test, y_predicted_test))"
   ]
  },
  {
   "cell_type": "code",
   "execution_count": 360,
   "metadata": {},
   "outputs": [
    {
     "name": "stderr",
     "output_type": "stream",
     "text": [
      "C:\\Users\\ASUS\\Anaconda3\\lib\\site-packages\\ipykernel_launcher.py:7: SettingWithCopyWarning: \n",
      "A value is trying to be set on a copy of a slice from a DataFrame.\n",
      "Try using .loc[row_indexer,col_indexer] = value instead\n",
      "\n",
      "See the caveats in the documentation: http://pandas.pydata.org/pandas-docs/stable/indexing.html#indexing-view-versus-copy\n",
      "  import sys\n"
     ]
    }
   ],
   "source": [
    "#Classification method with Random forest to predict GRADE\n",
    "\n",
    "Y = dt[['GRADE']]\n",
    "from sklearn.preprocessing import LabelEncoder\n",
    "for col in Y.columns[:]:\n",
    "    le = LabelEncoder()\n",
    "    Y[col] = le.fit_transform(Y[col])"
   ]
  },
  {
   "cell_type": "code",
   "execution_count": 361,
   "metadata": {},
   "outputs": [],
   "source": [
    "from sklearn.ensemble import RandomForestRegressor\n",
    "from sklearn.model_selection import train_test_split\n",
    "\n",
    "X_train, X_test, y_train, y_test = train_test_split(X, Y, test_size= 0.25, random_state=14)"
   ]
  },
  {
   "cell_type": "code",
   "execution_count": 362,
   "metadata": {},
   "outputs": [
    {
     "name": "stderr",
     "output_type": "stream",
     "text": [
      "C:\\Users\\ASUS\\Anaconda3\\lib\\site-packages\\ipykernel_launcher.py:7: DataConversionWarning: A column-vector y was passed when a 1d array was expected. Please change the shape of y to (n_samples,), for example using ravel().\n",
      "  import sys\n"
     ]
    }
   ],
   "source": [
    "from sklearn.ensemble import RandomForestClassifier\n",
    "\n",
    "#Create a Gaussian Classifier\n",
    "clf=RandomForestClassifier(n_estimators=100)\n",
    "\n",
    "#Train the model using the training sets y_pred=clf.predict(X_test)\n",
    "clf.fit(X_train, y_train)\n",
    "\n",
    "y_pred=clf.predict(X_test)"
   ]
  },
  {
   "cell_type": "code",
   "execution_count": 363,
   "metadata": {},
   "outputs": [
    {
     "name": "stderr",
     "output_type": "stream",
     "text": [
      "C:\\Users\\ASUS\\Anaconda3\\lib\\site-packages\\ipykernel_launcher.py:7: DataConversionWarning: A column-vector y was passed when a 1d array was expected. Please change the shape of y to (n_samples,), for example using ravel().\n",
      "  import sys\n"
     ]
    }
   ],
   "source": [
    "from sklearn.ensemble import RandomForestClassifier\n",
    "\n",
    "#Create a Gaussian Classifier\n",
    "clf=RandomForestClassifier(n_estimators=100)\n",
    "\n",
    "#Train the model using the training sets y_pred=clf.predict(X_test)\n",
    "clf.fit(X_train, y_train)\n",
    "\n",
    "y_pred1=clf.predict(X_train)"
   ]
  },
  {
   "cell_type": "code",
   "execution_count": 364,
   "metadata": {},
   "outputs": [
    {
     "name": "stdout",
     "output_type": "stream",
     "text": [
      "Accuracy test set: 0.8155181883476277\n"
     ]
    }
   ],
   "source": [
    "#Import scikit-learn metrics module for accuracy calculation\n",
    "from sklearn import metrics\n",
    "# Model Accuracy, how often is the classifier correct?\n",
    "print(\"Accuracy test set:\",metrics.accuracy_score(y_test, y_pred))"
   ]
  },
  {
   "cell_type": "code",
   "execution_count": 365,
   "metadata": {},
   "outputs": [
    {
     "name": "stdout",
     "output_type": "stream",
     "text": [
      "Accuracy training set: 0.8220796687627189\n"
     ]
    }
   ],
   "source": [
    "#Import scikit-learn metrics module for accuracy calculation\n",
    "from sklearn import metrics\n",
    "# Training set accuracy\n",
    "print(\"Accuracy training set:\",metrics.accuracy_score(y_train, y_pred1))"
   ]
  },
  {
   "cell_type": "code",
   "execution_count": 366,
   "metadata": {},
   "outputs": [
    {
     "name": "stdout",
     "output_type": "stream",
     "text": [
      "[[38140   273    31]\n",
      " [ 6823   296    18]\n",
      " [ 1558    30   169]]\n"
     ]
    }
   ],
   "source": [
    "from sklearn.metrics import confusion_matrix\n",
    "print(confusion_matrix(y_test, y_pred))"
   ]
  },
  {
   "cell_type": "code",
   "execution_count": 368,
   "metadata": {},
   "outputs": [
    {
     "data": {
      "text/plain": [
       "Text(0.5, 1.0, 'Supervised methods')"
      ]
     },
     "execution_count": 368,
     "metadata": {},
     "output_type": "execute_result"
    },
    {
     "data": {
      "image/png": "[encoded data removed]",
      "text/plain": [
       "<Figure size 432x288 with 1 Axes>"
      ]
     },
     "metadata": {
      "needs_background": "light"
     },
     "output_type": "display_data"
    }
   ],
   "source": [
    "import numpy as np\n",
    "import matplotlib.pyplot as plt\n",
    " \n",
    "Accuracy = ('LR ACC ', 'DT ACC', 'RF ACC', 'KM ACC')\n",
    "performance = [0.82, 0.818, 0.815, 0.814]\n",
    "y_pos = performance\n",
    " \n",
    "plt.bar(Accuracy, performance, align='center', alpha=0.5)\n",
    "plt.xticks(Accuracy)\n",
    "plt.ylabel('Level of Accuracy')\n",
    "plt.title('Supervised methods')"
   ]
  },
  {
   "cell_type": "code",
   "execution_count": null,
   "metadata": {},
   "outputs": [],
   "source": []
  }
 ],
 "metadata": {
  "kernelspec": {
   "display_name": "Python 3",
   "language": "python",
   "name": "python3"
  },
  "language_info": {
   "codemirror_mode": {
    "name": "ipython",
    "version": 3
   },
   "file_extension": ".py",
   "mimetype": "text/x-python",
   "name": "python",
   "nbconvert_exporter": "python",
   "pygments_lexer": "ipython3",
   "version": "3.7.0"
  }
 },
 "nbformat": 4,
 "nbformat_minor": 2
}
